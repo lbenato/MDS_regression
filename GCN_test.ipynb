{
 "cells": [
  {
   "cell_type": "code",
   "execution_count": 1,
   "id": "e143d077",
   "metadata": {},
   "outputs": [
    {
     "name": "stderr",
     "output_type": "stream",
     "text": [
      "/nfs/dust/cms/user/loewetob/anaconda3/envs/mds_regression/lib/python3.7/site-packages/tqdm/auto.py:21: TqdmWarning: IProgress not found. Please update jupyter and ipywidgets. See https://ipywidgets.readthedocs.io/en/stable/user_install.html\n",
      "  from .autonotebook import tqdm as notebook_tqdm\n"
     ]
    }
   ],
   "source": [
    "import torch"
   ]
  },
  {
   "cell_type": "code",
   "execution_count": 3,
   "id": "799a7d86",
   "metadata": {},
   "outputs": [
    {
     "ename": "ModuleNotFoundError",
     "evalue": "No module named 'pyg'",
     "output_type": "error",
     "traceback": [
      "\u001b[0;31m---------------------------------------------------------------------------\u001b[0m",
      "\u001b[0;31mModuleNotFoundError\u001b[0m                       Traceback (most recent call last)",
      "\u001b[0;32m/tmp/ipykernel_80507/53020686.py\u001b[0m in \u001b[0;36m<module>\u001b[0;34m\u001b[0m\n\u001b[0;32m----> 1\u001b[0;31m \u001b[0;32mimport\u001b[0m \u001b[0mpyg\u001b[0m\u001b[0;34m\u001b[0m\u001b[0;34m\u001b[0m\u001b[0m\n\u001b[0m",
      "\u001b[0;31mModuleNotFoundError\u001b[0m: No module named 'pyg'"
     ]
    }
   ],
   "source": [
    "import pyg"
   ]
  },
  {
   "cell_type": "code",
   "execution_count": 2,
   "id": "67f8a343",
   "metadata": {},
   "outputs": [],
   "source": [
    "import matplotlib.pyplot as plt"
   ]
  },
  {
   "cell_type": "code",
   "execution_count": 4,
   "id": "45a2a7c0",
   "metadata": {},
   "outputs": [],
   "source": [
    "rng = np.random.default_rng(12345)\n",
    "\n",
    "\n",
    "graphsizes = [13,14,16,13,14,16,13,15]\n",
    "nodes = []\n",
    "\n",
    "for size in graphsizes:\n",
    "    nodes.append(rng.random((2, size)))\n",
    "\n",
    "labels = []\n",
    "\n",
    "for node in nodes:\n",
    "    labels.append([node[0].mean(), node[1].mean()])"
   ]
  },
  {
   "cell_type": "code",
   "execution_count": 8,
   "id": "0104f309",
   "metadata": {},
   "outputs": [
    {
     "data": {
      "image/png": "[encoded data removed]",
      "text/plain": [
       "<Figure size 640x480 with 1 Axes>"
      ]
     },
     "metadata": {},
     "output_type": "display_data"
    }
   ],
   "source": [
    "import matplotlib.pyplot as plt\n",
    "\n",
    "fig, ax = plt.subplots()\n",
    "\n",
    "ax.scatter(labels[0][0], labels[0][1])\n",
    "ax.scatter(nodes[0][0], nodes[0][1])\n",
    "ax.set_xlim(0,1)\n",
    "ax.set_ylim(0,1)\n",
    "\n",
    "for i in range(len(nodes[0][0])):\n",
    "    ax.annotate(i, (nodes[0][0][i], nodes[0][1][i]))"
   ]
  },
  {
   "cell_type": "code",
   "execution_count": 13,
   "id": "d9b6b23d",
   "metadata": {},
   "outputs": [
    {
     "name": "stdout",
     "output_type": "stream",
     "text": [
      "[[0.22733602 0.31675834 0.79736546 0.67625467 0.39110955 0.33281393\n",
      "  0.59830875 0.18673419 0.67275604 0.94180287 0.24824571 0.94888115\n",
      "  0.66723745]\n",
      " [0.09589794 0.44183967 0.88647992 0.6974535  0.32647286 0.73392816\n",
      "  0.22013496 0.08159457 0.1598956  0.34010018 0.46519315 0.26642103\n",
      "  0.8157764 ]]\n",
      "[[0.22733602 0.09589794]\n",
      " [0.31675834 0.44183967]\n",
      " [0.79736546 0.88647992]\n",
      " [0.67625467 0.6974535 ]\n",
      " [0.39110955 0.32647286]\n",
      " [0.33281393 0.73392816]\n",
      " [0.59830875 0.22013496]\n",
      " [0.18673419 0.08159457]\n",
      " [0.67275604 0.1598956 ]\n",
      " [0.94180287 0.34010018]\n",
      " [0.24824571 0.46519315]\n",
      " [0.94888115 0.26642103]\n",
      " [0.66723745 0.8157764 ]]\n"
     ]
    }
   ],
   "source": [
    "print(nodes[0])\n",
    "labelplot = np.transpose(labels)\n",
    "for i in range(len(nodes)):\n",
    "    nodes[i] = np.transpose(nodes[i])\n",
    "print(nodes[0])"
   ]
  },
  {
   "cell_type": "code",
   "execution_count": 18,
   "id": "70ba8df4",
   "metadata": {},
   "outputs": [],
   "source": [
    "def dist(node1, node2):\n",
    "    x = np.absolute(node1[0] - node2[0])\n",
    "    y = np.absolute(node1[1] - node2[1])\n",
    "    return np.sqrt(np.power(x,2) + np.power(y,2))\n",
    "\n",
    "def kNN(nodes):\n",
    "    alldist = []\n",
    "    for i in range(len(nodes)):\n",
    "        distances = []\n",
    "        for j in range(len(nodes)):\n",
    "            distances.append(dist(nodes[i], nodes[j]))\n",
    "        alldist.append(distances)\n",
    "    return alldist\n",
    "\n",
    "def kNN_full(dist, k):\n",
    "    for i in range(len(dist)):\n",
    "        "
   ]
  },
  {
   "cell_type": "code",
   "execution_count": 21,
   "id": "16745bdc",
   "metadata": {},
   "outputs": [
    {
     "data": {
      "text/plain": [
       "13"
      ]
     },
     "execution_count": 21,
     "metadata": {},
     "output_type": "execute_result"
    }
   ],
   "source": []
  },
  {
   "cell_type": "code",
   "execution_count": 22,
   "id": "64b19723",
   "metadata": {},
   "outputs": [
    {
     "data": {
      "text/plain": [
       "13"
      ]
     },
     "execution_count": 22,
     "metadata": {},
     "output_type": "execute_result"
    }
   ],
   "source": []
  },
  {
   "cell_type": "code",
   "execution_count": 69,
   "id": "28e357b0",
   "metadata": {},
   "outputs": [
    {
     "name": "stdout",
     "output_type": "stream",
     "text": [
      "torch.Size([13, 2])\n"
     ]
    },
    {
     "ename": "AttributeError",
     "evalue": "'NoneType' object has no attribute 'knn_graph'",
     "output_type": "error",
     "traceback": [
      "\u001b[0;31m---------------------------------------------------------------------------\u001b[0m",
      "\u001b[0;31mAttributeError\u001b[0m                            Traceback (most recent call last)",
      "\u001b[0;32m/tmp/ipykernel_40372/546753980.py\u001b[0m in \u001b[0;36m<module>\u001b[0;34m\u001b[0m\n\u001b[1;32m      4\u001b[0m \u001b[0mprint\u001b[0m\u001b[0;34m(\u001b[0m\u001b[0mx\u001b[0m\u001b[0;34m.\u001b[0m\u001b[0msize\u001b[0m\u001b[0;34m(\u001b[0m\u001b[0;34m)\u001b[0m\u001b[0;34m)\u001b[0m\u001b[0;34m\u001b[0m\u001b[0;34m\u001b[0m\u001b[0m\n\u001b[1;32m      5\u001b[0m \u001b[0;34m\u001b[0m\u001b[0m\n\u001b[0;32m----> 6\u001b[0;31m \u001b[0medge_index\u001b[0m \u001b[0;34m=\u001b[0m \u001b[0mknn_graph\u001b[0m\u001b[0;34m(\u001b[0m\u001b[0mx\u001b[0m \u001b[0;34m=\u001b[0m \u001b[0mx\u001b[0m\u001b[0;34m,\u001b[0m \u001b[0mk\u001b[0m \u001b[0;34m=\u001b[0m \u001b[0;36m3\u001b[0m\u001b[0;34m,\u001b[0m \u001b[0mbatch\u001b[0m \u001b[0;34m=\u001b[0m \u001b[0mbatch\u001b[0m\u001b[0;34m,\u001b[0m \u001b[0mloop\u001b[0m \u001b[0;34m=\u001b[0m \u001b[0;32mFalse\u001b[0m\u001b[0;34m)\u001b[0m\u001b[0;34m\u001b[0m\u001b[0;34m\u001b[0m\u001b[0m\n\u001b[0m",
      "\u001b[0;32m/nfs/dust/cms/user/loewetob/anaconda3/envs/mds_regression/lib/python3.7/site-packages/torch_geometric/nn/pool/__init__.py\u001b[0m in \u001b[0;36mknn_graph\u001b[0;34m(x, k, batch, loop, flow, cosine, num_workers)\u001b[0m\n\u001b[1;32m    128\u001b[0m     \u001b[0;34m:\u001b[0m\u001b[0mrtype\u001b[0m\u001b[0;34m:\u001b[0m \u001b[0;34m:\u001b[0m\u001b[0;32mclass\u001b[0m\u001b[0;34m:\u001b[0m\u001b[0;31m`\u001b[0m\u001b[0mtorch\u001b[0m\u001b[0;34m.\u001b[0m\u001b[0mTensor\u001b[0m\u001b[0;31m`\u001b[0m\u001b[0;34m\u001b[0m\u001b[0;34m\u001b[0m\u001b[0m\n\u001b[1;32m    129\u001b[0m     \"\"\"\n\u001b[0;32m--> 130\u001b[0;31m     return torch_cluster.knn_graph(x, k, batch, loop, flow, cosine,\n\u001b[0m\u001b[1;32m    131\u001b[0m                                    num_workers)\n\u001b[1;32m    132\u001b[0m \u001b[0;34m\u001b[0m\u001b[0m\n",
      "\u001b[0;31mAttributeError\u001b[0m: 'NoneType' object has no attribute 'knn_graph'"
     ]
    }
   ],
   "source": [
    "batch = torch.tensor([0 for i in range(len(nodes[0]))])\n",
    "x = torch.tensor(nodes[0])\n",
    "\n",
    "print(x.size())\n",
    "\n",
    "edge_index = knn_graph(x = x, k = 3, batch = batch, loop = False)"
   ]
  },
  {
   "cell_type": "code",
   "execution_count": null,
   "id": "7f60f58b",
   "metadata": {},
   "outputs": [],
   "source": [
    "# make graph data\n",
    "alldata = []\n",
    "\n",
    "for node in nodes:\n",
    "    "
   ]
  },
  {
   "cell_type": "code",
   "execution_count": null,
   "id": "9807f48e",
   "metadata": {},
   "outputs": [],
   "source": []
  },
  {
   "cell_type": "code",
   "execution_count": 2,
   "id": "97158b94",
   "metadata": {},
   "outputs": [],
   "source": [
    "edge_index = torch.tensor([[0, 1, 1, 2],\n",
    "                           [1, 0, 2, 1]], dtype=torch.long)\n",
    "x = torch.tensor([[-1], [0], [1]], dtype=torch.float)\n",
    "\n",
    "data = Data(x=x, edge_index=edge_index)"
   ]
  },
  {
   "cell_type": "code",
   "execution_count": 3,
   "id": "861d9bf9",
   "metadata": {},
   "outputs": [
    {
     "data": {
      "text/plain": [
       "Data(x=[3, 1], edge_index=[2, 4])"
      ]
     },
     "execution_count": 3,
     "metadata": {},
     "output_type": "execute_result"
    }
   ],
   "source": [
    "data"
   ]
  },
  {
   "cell_type": "code",
   "execution_count": null,
   "id": "49adb527",
   "metadata": {},
   "outputs": [],
   "source": []
  },
  {
   "cell_type": "code",
   "execution_count": 40,
   "id": "1a9998ce",
   "metadata": {},
   "outputs": [],
   "source": [
    "import torch\n",
    "import torch.nn.functional as F\n",
    "from torch_geometric.nn import GCNConv\n",
    "\n",
    "class GCN(torch.nn.Module):\n",
    "    def __init__(self):\n",
    "        super().__init__()\n",
    "        self.conv1 = GCNConv(dataset.num_node_features, 16)\n",
    "        self.conv2 = GCNConv(16, dataset.num_classes)\n",
    "\n",
    "    def forward(self, data):\n",
    "        x, edge_index = data.x, data.edge_index\n",
    "\n",
    "        x = self.conv1(x, edge_index)\n",
    "        x = F.relu(x)\n",
    "        x = F.dropout(x, training=self.training)\n",
    "        x = self.conv2(x, edge_index)\n",
    "\n",
    "        return F.log_softmax(x, dim=1)"
   ]
  }
 ],
 "metadata": {
  "kernelspec": {
   "display_name": "mds_regression",
   "language": "python",
   "name": "mds_regression"
  },
  "language_info": {
   "codemirror_mode": {
    "name": "ipython",
    "version": 3
   },
   "file_extension": ".py",
   "mimetype": "text/x-python",
   "name": "python",
   "nbconvert_exporter": "python",
   "pygments_lexer": "ipython3",
   "version": "3.7.12"
  }
 },
 "nbformat": 4,
 "nbformat_minor": 5
}
