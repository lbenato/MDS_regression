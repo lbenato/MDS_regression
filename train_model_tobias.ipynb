{
 "cells": [
  {
   "cell_type": "code",
   "execution_count": 1,
   "id": "518b750a",
   "metadata": {},
   "outputs": [
    {
     "name": "stderr",
     "output_type": "stream",
     "text": [
      "2023-12-05 18:27:10.529868: I tensorflow/core/platform/cpu_feature_guard.cc:193] This TensorFlow binary is optimized with oneAPI Deep Neural Network Library (oneDNN) to use the following CPU instructions in performance-critical operations:  AVX2 FMA\n",
      "To enable them in other operations, rebuild TensorFlow with the appropriate compiler flags.\n",
      "2023-12-05 18:27:10.645414: W tensorflow/compiler/xla/stream_executor/platform/default/dso_loader.cc:64] Could not load dynamic library 'libcudart.so.11.0'; dlerror: libcudart.so.11.0: cannot open shared object file: No such file or directory\n",
      "2023-12-05 18:27:10.645447: I tensorflow/compiler/xla/stream_executor/cuda/cudart_stub.cc:29] Ignore above cudart dlerror if you do not have a GPU set up on your machine.\n",
      "2023-12-05 18:27:12.209357: W tensorflow/compiler/xla/stream_executor/platform/default/dso_loader.cc:64] Could not load dynamic library 'libnvinfer.so.7'; dlerror: libnvinfer.so.7: cannot open shared object file: No such file or directory\n",
      "2023-12-05 18:27:12.209463: W tensorflow/compiler/xla/stream_executor/platform/default/dso_loader.cc:64] Could not load dynamic library 'libnvinfer_plugin.so.7'; dlerror: libnvinfer_plugin.so.7: cannot open shared object file: No such file or directory\n",
      "2023-12-05 18:27:12.209473: W tensorflow/compiler/tf2tensorrt/utils/py_utils.cc:38] TF-TRT Warning: Cannot dlopen some TensorRT libraries. If you would like to use Nvidia GPU with TensorRT, please make sure the missing libraries mentioned above are installed properly.\n",
      "2023-12-05 18:27:15.699590: W tensorflow/compiler/xla/stream_executor/platform/default/dso_loader.cc:64] Could not load dynamic library 'libcuda.so.1'; dlerror: libcuda.so.1: cannot open shared object file: No such file or directory\n",
      "2023-12-05 18:27:15.699632: W tensorflow/compiler/xla/stream_executor/cuda/cuda_driver.cc:265] failed call to cuInit: UNKNOWN ERROR (303)\n",
      "2023-12-05 18:27:15.699658: I tensorflow/compiler/xla/stream_executor/cuda/cuda_diagnostics.cc:156] kernel driver does not appear to be running on this host (batch1377.desy.de): /proc/driver/nvidia/version does not exist\n",
      "2023-12-05 18:27:15.699902: I tensorflow/core/platform/cpu_feature_guard.cc:193] This TensorFlow binary is optimized with oneAPI Deep Neural Network Library (oneDNN) to use the following CPU instructions in performance-critical operations:  AVX2 FMA\n",
      "To enable them in other operations, rebuild TensorFlow with the appropriate compiler flags.\n"
     ]
    }
   ],
   "source": [
    "from source import Dataset\n",
    "from source import tools\n",
    "import awkward as ak\n",
    "import glob\n",
    "import time\n",
    "\n",
    "import tensorflow as tf\n",
    "from tensorflow import keras\n",
    "from tensorflow.keras import optimizers\n",
    "from keras import layers\n",
    "\n",
    "import os\n",
    "import tempfile\n",
    "\n",
    "import matplotlib as mpl\n",
    "import matplotlib.pyplot as plt\n",
    "import numpy as np\n",
    "import pandas as pd\n",
    "import seaborn as sns\n",
    "\n",
    "import sklearn\n",
    "from sklearn.metrics import confusion_matrix\n",
    "from sklearn.model_selection import train_test_split\n",
    "from sklearn.preprocessing import StandardScaler"
   ]
  },
  {
   "cell_type": "code",
   "execution_count": 2,
   "id": "17ff7cf6",
   "metadata": {},
   "outputs": [],
   "source": [
    "#selecting features \n",
    "branches_to_train = [\n",
    "\"cscRechitClusterX\",\n",
    "\"cscRechitClusterY\",\n",
    "\"cscRechitClusterZ\",\n",
    "\"cscRechitClusterTimeWeighted\",\n",
    "\"cscRechitClusterTimeSpreadWeightedAll\",\n",
    "\"cscRechitClusternXY\",\n",
    "\"cscRechitClusternZ\",\n",
    "\"cscRechitClusterXSpread\",\n",
    "\"cscRechitClusterYSpread\",\n",
    "\"cscRechitClusterZSpread\",\n",
    "\"cscRechitClusterXYSpread\",\n",
    "\"cscRechitClusterRSpread\",\n",
    "\"cscRechitClusterEtaPhiSpread\",\n",
    "\"cscRechitClusterEtaSpread\",\n",
    "\"cscRechitClusterPhiSpread\",\n",
    "\"cscRechitClusterDeltaRSpread\",\n",
    "\"cscRechitClusterMajorAxis\",\n",
    "\"cscRechitClusterMinorAxis\",\n",
    "\"cscRechitClusterSkewX\",\n",
    "\"cscRechitClusterSkewY\",\n",
    "\"cscRechitClusterSkewZ\",\n",
    "\"cscRechitClusterKurtX\",\n",
    "\"cscRechitClusterKurtY\",\n",
    "\"cscRechitClusterKurtZ\", \n",
    "\"cscRechitClusterSize\"\n",
    "]\n",
    "\n",
    "#energy key\n",
    "truth_value = \"cscRechitCluster_match_gLLP_e\""
   ]
  },
  {
   "cell_type": "code",
   "execution_count": 3,
   "id": "dbaaf2aa",
   "metadata": {},
   "outputs": [
    {
     "data": {
      "text/plain": [
       "['cscRechitClusterX',\n",
       " 'cscRechitClusterY',\n",
       " 'cscRechitClusterZ',\n",
       " 'cscRechitClusterTimeWeighted',\n",
       " 'cscRechitClusterTimeSpreadWeightedAll',\n",
       " 'cscRechitClusternXY',\n",
       " 'cscRechitClusternZ',\n",
       " 'cscRechitClusterXSpread',\n",
       " 'cscRechitClusterYSpread',\n",
       " 'cscRechitClusterZSpread',\n",
       " 'cscRechitClusterXYSpread',\n",
       " 'cscRechitClusterRSpread',\n",
       " 'cscRechitClusterEtaPhiSpread',\n",
       " 'cscRechitClusterEtaSpread',\n",
       " 'cscRechitClusterPhiSpread',\n",
       " 'cscRechitClusterDeltaRSpread',\n",
       " 'cscRechitClusterMajorAxis',\n",
       " 'cscRechitClusterMinorAxis',\n",
       " 'cscRechitClusterSkewX',\n",
       " 'cscRechitClusterSkewY',\n",
       " 'cscRechitClusterSkewZ',\n",
       " 'cscRechitClusterKurtX',\n",
       " 'cscRechitClusterKurtY',\n",
       " 'cscRechitClusterKurtZ',\n",
       " 'cscRechitClusterSize']"
      ]
     },
     "execution_count": 3,
     "metadata": {},
     "output_type": "execute_result"
    }
   ],
   "source": [
    "branches_to_train"
   ]
  },
  {
   "cell_type": "code",
   "execution_count": 4,
   "id": "9492f9c8",
   "metadata": {},
   "outputs": [
    {
     "name": "stdout",
     "output_type": "stream",
     "text": [
      "Opening file  /nfs/dust/cms/user/loewetob/ML_LLP/MDS_regression/datasets/test_df_v6.h5\n"
     ]
    }
   ],
   "source": [
    "#read data\n",
    "dataset_signal = Dataset.Dataset(\"signal\")\n",
    "df_signal = dataset_signal.load_df(\"/nfs/dust/cms/user/loewetob/ML_LLP/MDS_regression/datasets/test_df_v6.h5\")"
   ]
  },
  {
   "cell_type": "code",
   "execution_count": 5,
   "id": "4b7b4c6a",
   "metadata": {},
   "outputs": [
    {
     "name": "stdout",
     "output_type": "stream",
     "text": [
      "cut out 10236 clusters, which leaves 79780 clusters containing a LLP decay for training\n"
     ]
    }
   ],
   "source": [
    "#cut clusters which don't have LLP\n",
    "olen = len(df_signal)\n",
    "df_signal = df_signal[ df_signal[\"cscRechitCluster_match_gLLP\"]>=1 ]\n",
    "print('cut out ' + str(olen - len(df_signal)) + ' clusters, which leaves ' + str(len(df_signal)) + ' clusters containing a LLP decay for training')"
   ]
  },
  {
   "cell_type": "code",
   "execution_count": 6,
   "id": "2e04220a",
   "metadata": {},
   "outputs": [
    {
     "name": "stdout",
     "output_type": "stream",
     "text": [
      " signal training features (47868, 25) \n",
      " signal training labels (47868,) \n",
      " signal test features (15956, 25) \n",
      " ignal test labels (15956,) \n",
      " signal val features (15956, 25) \n",
      " signal val labels (15956,)\n"
     ]
    }
   ],
   "source": [
    "# Splitting the data into train, val, test\n",
    "train_data, testval_data = train_test_split(df_signal, train_size=0.6)\n",
    "test_data, val_data = train_test_split(testval_data, test_size=0.5)\n",
    "\n",
    "# assigning labels (true energy values)\n",
    "train_labels = np.array(train_data[truth_value])#([1.]*len(train_data))\n",
    "test_labels = np.array(test_data[truth_value])#([1.]*len(test_data))\n",
    "val_labels = np.array(val_data[truth_value])#([1.]*len(val_data))\n",
    "\n",
    "# select only branches we want\n",
    "train_data = train_data[branches_to_train]\n",
    "test_data = test_data[branches_to_train]\n",
    "val_data = val_data[branches_to_train]\n",
    "\n",
    "# check the shape\n",
    "print(\" signal training features\", train_data.shape,\n",
    "    \"\\n signal training labels\", train_labels.shape,\n",
    "    \"\\n signal test features\", test_data.shape,\n",
    "    \"\\n ignal test labels\", test_labels.shape,\n",
    "    \"\\n signal val features\", val_data.shape,\n",
    "    \"\\n signal val labels\", val_labels.shape)"
   ]
  },
  {
   "cell_type": "code",
   "execution_count": 7,
   "id": "a68b7feb",
   "metadata": {},
   "outputs": [
    {
     "name": "stdout",
     "output_type": "stream",
     "text": [
      "[217.19367981 100.89956665  92.29994202 ... 229.31735229 525.51751709\n",
      " 131.0032959 ]\n",
      "       cscRechitClusterX  cscRechitClusterY  cscRechitClusterZ  \\\n",
      "entry                                                            \n",
      "61427          37.355038        -369.166840        -942.384888   \n",
      "67122         382.418976        -480.266296       -1037.592651   \n",
      "35019        -159.620148         159.803024         604.080933   \n",
      "50622        -366.879730        -209.248169         805.633606   \n",
      "10355         343.619141          -6.701683         711.530029   \n",
      "...                  ...                ...                ...   \n",
      "52097         190.122833         589.566650        1037.569946   \n",
      "78466          12.762341        -189.099884        -596.863403   \n",
      "5377          299.280396         -32.023300        1027.092896   \n",
      "67209         -78.838432         -93.476219         600.861206   \n",
      "1488          184.990143        -353.791046         839.464905   \n",
      "\n",
      "       cscRechitClusterTimeWeighted  cscRechitClusterTimeSpreadWeightedAll  \\\n",
      "entry                                                                        \n",
      "61427                     -0.834828                              11.579950   \n",
      "67122                      0.069553                              10.653375   \n",
      "35019                      2.648688                               7.420168   \n",
      "50622                      1.064162                              16.404472   \n",
      "10355                      1.587637                               8.719840   \n",
      "...                             ...                                    ...   \n",
      "52097                      0.517775                              15.779925   \n",
      "78466                      0.062273                               6.840101   \n",
      "5377                       0.864189                              10.654553   \n",
      "67209                     -0.282255                              13.406107   \n",
      "1488                      -0.876593                              10.463020   \n",
      "\n",
      "       cscRechitClusternXY  cscRechitClusternZ  cscRechitClusterXSpread  \\\n",
      "entry                                                                     \n",
      "61427                  119                 119                11.519708   \n",
      "67122                  175                 175                25.483633   \n",
      "35019                   51                  51                15.822672   \n",
      "50622                  126                 126                59.753056   \n",
      "10355                  159                 159                48.546967   \n",
      "...                    ...                 ...                      ...   \n",
      "52097                  126                 126                24.094490   \n",
      "78466                  262                 262                 9.330332   \n",
      "5377                   666                 666                23.625816   \n",
      "67209                   86                  86                17.776041   \n",
      "1488                   128                 128                18.273853   \n",
      "\n",
      "       cscRechitClusterYSpread  cscRechitClusterZSpread  ...  \\\n",
      "entry                                                    ...   \n",
      "61427                39.609013                63.963367  ...   \n",
      "67122                29.353294                 0.072006  ...   \n",
      "35019                 7.487715                13.883575  ...   \n",
      "50622                37.706741                44.626350  ...   \n",
      "10355                13.288871                 0.100884  ...   \n",
      "...                        ...                      ...  ...   \n",
      "52097                46.445805                 0.100717  ...   \n",
      "78466                20.840191                14.106363  ...   \n",
      "5377                 18.943851                12.860847  ...   \n",
      "67209                13.353062                14.650300  ...   \n",
      "1488                 23.679432                 0.083467  ...   \n",
      "\n",
      "       cscRechitClusterDeltaRSpread  cscRechitClusterMajorAxis  \\\n",
      "entry                                                            \n",
      "61427                      0.067289                   0.061022   \n",
      "67122                      0.057589                   0.048199   \n",
      "35019                      0.062830                   0.058953   \n",
      "50622                      0.129925                   0.125314   \n",
      "10355                      0.132426                   0.126767   \n",
      "...                             ...                        ...   \n",
      "52097                      0.080833                   0.074106   \n",
      "78466                      0.115383                   0.104232   \n",
      "5377                       0.098810                   0.075826   \n",
      "67209                      0.171926                   0.133215   \n",
      "1488                       0.068344                   0.057432   \n",
      "\n",
      "       cscRechitClusterMinorAxis  cscRechitClusterSkewX  \\\n",
      "entry                                                     \n",
      "61427                   0.028359               6.743433   \n",
      "67122                   0.031518               1.122714   \n",
      "35019                   0.021729              17.297661   \n",
      "50622                   0.034306               4.304469   \n",
      "10355                   0.038300              10.387411   \n",
      "...                          ...                    ...   \n",
      "52097                   0.032285               0.267665   \n",
      "78466                   0.049487              -6.380300   \n",
      "5377                    0.063355             -12.644835   \n",
      "67209                   0.108683             -14.458198   \n",
      "1488                    0.037047              14.318898   \n",
      "\n",
      "       cscRechitClusterSkewY  cscRechitClusterSkewZ  cscRechitClusterKurtX  \\\n",
      "entry                                                                        \n",
      "61427             -13.625118              11.462550               6.667239   \n",
      "67122              13.893083               0.037154              -0.122867   \n",
      "35019              -7.254490              -7.319660               0.241316   \n",
      "50622              13.782448            -210.455170              -0.186551   \n",
      "10355              17.668821               0.021121              -1.518739   \n",
      "...                      ...                    ...                    ...   \n",
      "52097             -74.825241              -0.169546              -0.050804   \n",
      "78466             -21.028116              -7.821547               1.115802   \n",
      "5377               -9.800716             -13.369314              -0.395567   \n",
      "67209              -3.591884              -0.681759               1.059003   \n",
      "1488              -14.076602               0.051697               0.708513   \n",
      "\n",
      "       cscRechitClusterKurtY  cscRechitClusterKurtZ  cscRechitClusterSize  \n",
      "entry                                                                      \n",
      "61427              -1.002498              -0.830203                   119  \n",
      "67122              -0.331636              -0.808893                   175  \n",
      "35019               0.004474              -1.722034                    51  \n",
      "50622               0.503733              20.240536                   126  \n",
      "10355               1.376411              -1.518277                   159  \n",
      "...                      ...                    ...                   ...  \n",
      "52097               3.338250               3.588663                   126  \n",
      "78466               0.095238              -1.692517                   262  \n",
      "5377                3.433392               2.469254                   666  \n",
      "67209              -0.478930              -1.997818                    86  \n",
      "1488               -0.801997              -0.960835                   128  \n",
      "\n",
      "[47868 rows x 25 columns]\n"
     ]
    }
   ],
   "source": [
    "# see what training data looks like\n",
    "print(train_labels)\n",
    "print(train_data)\n",
    "\n",
    "# store number of features for input shape\n",
    "n_features = train_data.shape[1]"
   ]
  },
  {
   "cell_type": "raw",
   "id": "f236d0b7",
   "metadata": {},
   "source": [
    "# TODO: standard scalar. Fit on train_data and apply to test_data and val_data\n",
    "#It affects the results.\n",
    "scaler = StandardScaler()\n",
    "train_data = scaler.fit_transform(train_data)\n",
    "\n",
    "val_data = scaler.transform(val_data)\n",
    "test_data = scaler.transform(test_data)"
   ]
  },
  {
   "cell_type": "code",
   "execution_count": 8,
   "id": "4745b13a",
   "metadata": {},
   "outputs": [],
   "source": [
    "#defining the model and metrics\n",
    "METRICS = [\n",
    "      keras.metrics.MeanSquaredError(name='Brier score'),\n",
    "]\n",
    "\n",
    "\n",
    "def make_model(metrics=METRICS, output_bias=None, layers = [50, 30, 20, 5, 1], n_input = n_features):\n",
    "    if output_bias is not None:\n",
    "        output_bias = tf.keras.initializers.Constant(output_bias)\n",
    "    #initializer = tf.keras.initializers.RandomNormal(mean=0., stddev=1.)\n",
    "    #initializer = tf.keras.initializers.RandomUniform(minval=0., maxval=200, seed=None)\n",
    "    initializer = tf.keras.initializers.Constant(value=100)\n",
    "    \n",
    "    model = keras.Sequential(keras.layers.Dense(layers[0], activation = 'relu', input_shape = (n_input,)))\n",
    "\n",
    "    \n",
    "    for nodes in layers[1:]:\n",
    "        model.add(keras.layers.Dense(nodes, activation = 'relu'))\n",
    "    \n",
    "\n",
    "    model.compile(\n",
    "        optimizer = keras.optimizers.Adam(learning_rate=1e-3),\n",
    "        loss = keras.losses.MeanSquaredError(name='MSE'),\n",
    "        metrics = metrics\n",
    "    )\n",
    "    \n",
    "    return model"
   ]
  },
  {
   "cell_type": "code",
   "execution_count": 9,
   "id": "65f0b95d",
   "metadata": {},
   "outputs": [],
   "source": [
    "# prerequesites\n",
    "\n",
    "X_train, Y_train = sklearn.utils.shuffle(train_data, train_labels, random_state=0) # change to random_state=None for full randomness\n",
    "X_test, Y_test = sklearn.utils.shuffle(test_data, test_labels, random_state=0) # change to random_state=None for full randomness\n",
    "X_val, Y_val = sklearn.utils.shuffle(val_data, val_labels, random_state=0) # change to random_state=None for full randomness\n",
    "\n",
    "EPOCHS = 100\n",
    "BATCH_SIZE = 1024\n",
    "\n",
    "early_stopping = tf.keras.callbacks.EarlyStopping(\n",
    "    monitor = 'val_loss', #val_prec\n",
    "    verbose = 1,\n",
    "    patience = 10,\n",
    "    mode = 'min',#max\n",
    "    restore_best_weights = True)"
   ]
  },
  {
   "cell_type": "code",
   "execution_count": 18,
   "id": "1e160133",
   "metadata": {},
   "outputs": [
    {
     "name": "stdout",
     "output_type": "stream",
     "text": [
      "Model: \"sequential_1\"\n",
      "_________________________________________________________________\n",
      " Layer (type)                Output Shape              Param #   \n",
      "=================================================================\n",
      " dense_5 (Dense)             (None, 50)                1300      \n",
      "                                                                 \n",
      " dense_6 (Dense)             (None, 30)                1530      \n",
      "                                                                 \n",
      " dense_7 (Dense)             (None, 20)                620       \n",
      "                                                                 \n",
      " dense_8 (Dense)             (None, 5)                 105       \n",
      "                                                                 \n",
      " dense_9 (Dense)             (None, 1)                 6         \n",
      "                                                                 \n",
      "=================================================================\n",
      "Total params: 3,561\n",
      "Trainable params: 3,561\n",
      "Non-trainable params: 0\n",
      "_________________________________________________________________\n",
      "Epoch 1/100\n",
      "479/479 [==============================] - 2s 2ms/step - loss: 5477.8462 - Brier score: 5212.5312 - val_loss: 4879.6387 - val_Brier score: 4879.6387\n",
      "Epoch 2/100\n",
      "479/479 [==============================] - 1s 2ms/step - loss: 4747.1724 - Brier score: 4747.1724 - val_loss: 4944.6060 - val_Brier score: 4944.6060\n",
      "Epoch 3/100\n",
      "479/479 [==============================] - 1s 2ms/step - loss: 4680.7520 - Brier score: 4680.7520 - val_loss: 4910.8535 - val_Brier score: 4910.8535\n",
      "Epoch 4/100\n",
      "479/479 [==============================] - 1s 1ms/step - loss: 4618.6592 - Brier score: 4618.6592 - val_loss: 4815.0151 - val_Brier score: 4815.0146\n",
      "Epoch 5/100\n",
      "479/479 [==============================] - 1s 1ms/step - loss: 4582.0254 - Brier score: 4582.0254 - val_loss: 4694.4512 - val_Brier score: 4694.4512\n",
      "Epoch 6/100\n",
      "479/479 [==============================] - 1s 1ms/step - loss: 4546.3677 - Brier score: 4546.3677 - val_loss: 4675.7690 - val_Brier score: 4675.7690\n",
      "Epoch 7/100\n",
      "479/479 [==============================] - 0s 959us/step - loss: 4499.0977 - Brier score: 4499.0977 - val_loss: 4641.5435 - val_Brier score: 4641.5435\n",
      "Epoch 8/100\n",
      "479/479 [==============================] - 1s 1ms/step - loss: 4485.5371 - Brier score: 4485.5376 - val_loss: 4669.3315 - val_Brier score: 4669.3315\n",
      "Epoch 9/100\n",
      "479/479 [==============================] - 1s 2ms/step - loss: 4481.1426 - Brier score: 4481.1426 - val_loss: 4633.2314 - val_Brier score: 4633.2314\n",
      "Epoch 10/100\n",
      "479/479 [==============================] - 1s 2ms/step - loss: 4459.6533 - Brier score: 4459.6533 - val_loss: 4796.0381 - val_Brier score: 4796.0381\n",
      "Epoch 11/100\n",
      "479/479 [==============================] - 1s 2ms/step - loss: 4448.6914 - Brier score: 4448.6914 - val_loss: 4617.0820 - val_Brier score: 4617.0820\n",
      "Epoch 12/100\n",
      "479/479 [==============================] - 1s 2ms/step - loss: 4436.7515 - Brier score: 4436.7515 - val_loss: 4649.2593 - val_Brier score: 4649.2593\n",
      "Epoch 13/100\n",
      "479/479 [==============================] - 1s 2ms/step - loss: 4421.2593 - Brier score: 4421.2593 - val_loss: 4728.4004 - val_Brier score: 4728.4004\n",
      "Epoch 14/100\n",
      "479/479 [==============================] - 1s 2ms/step - loss: 4415.7764 - Brier score: 4415.7769 - val_loss: 4610.2798 - val_Brier score: 4610.2798\n",
      "Epoch 15/100\n",
      "479/479 [==============================] - 1s 1ms/step - loss: 4390.7144 - Brier score: 4390.7144 - val_loss: 4524.6494 - val_Brier score: 4524.6494\n",
      "Epoch 16/100\n",
      "479/479 [==============================] - 1s 1ms/step - loss: 4369.7046 - Brier score: 4369.7046 - val_loss: 4533.4692 - val_Brier score: 4533.4692\n",
      "Epoch 17/100\n",
      "479/479 [==============================] - 1s 1ms/step - loss: 4356.7612 - Brier score: 4356.7612 - val_loss: 4567.6602 - val_Brier score: 4567.6602\n",
      "Epoch 18/100\n",
      "479/479 [==============================] - 1s 1ms/step - loss: 4336.8022 - Brier score: 4336.8022 - val_loss: 4727.9365 - val_Brier score: 4727.9365\n",
      "Epoch 19/100\n",
      "479/479 [==============================] - 1s 2ms/step - loss: 4325.6978 - Brier score: 4325.6978 - val_loss: 4551.1367 - val_Brier score: 4551.1367\n",
      "Epoch 20/100\n",
      "479/479 [==============================] - 1s 2ms/step - loss: 4338.8091 - Brier score: 4338.8091 - val_loss: 4495.0405 - val_Brier score: 4495.0405\n",
      "Epoch 21/100\n",
      "479/479 [==============================] - 1s 2ms/step - loss: 4308.6831 - Brier score: 4308.6831 - val_loss: 4522.4639 - val_Brier score: 4522.4639\n",
      "Epoch 22/100\n",
      "479/479 [==============================] - 1s 2ms/step - loss: 4298.2163 - Brier score: 4298.2163 - val_loss: 4494.1836 - val_Brier score: 4494.1836\n",
      "Epoch 23/100\n",
      "479/479 [==============================] - 1s 2ms/step - loss: 4287.2812 - Brier score: 4287.2812 - val_loss: 4611.8984 - val_Brier score: 4611.8984\n",
      "Epoch 24/100\n",
      "479/479 [==============================] - 1s 2ms/step - loss: 4312.3696 - Brier score: 4312.3696 - val_loss: 4629.5483 - val_Brier score: 4629.5483\n",
      "Epoch 25/100\n",
      "479/479 [==============================] - 1s 2ms/step - loss: 4255.0757 - Brier score: 4255.0757 - val_loss: 4502.7354 - val_Brier score: 4502.7354\n",
      "Epoch 26/100\n",
      "479/479 [==============================] - 0s 874us/step - loss: 4254.3301 - Brier score: 4254.3301 - val_loss: 4483.4282 - val_Brier score: 4483.4292\n",
      "Epoch 27/100\n",
      "479/479 [==============================] - 0s 882us/step - loss: 4239.5034 - Brier score: 4239.5034 - val_loss: 4513.9023 - val_Brier score: 4513.9023\n",
      "Epoch 28/100\n",
      "479/479 [==============================] - 1s 2ms/step - loss: 4247.3164 - Brier score: 4247.3164 - val_loss: 4410.3076 - val_Brier score: 4410.3076\n",
      "Epoch 29/100\n",
      "479/479 [==============================] - 1s 2ms/step - loss: 4234.4062 - Brier score: 4234.4062 - val_loss: 4409.0654 - val_Brier score: 4409.0654\n",
      "Epoch 30/100\n",
      "479/479 [==============================] - 1s 1ms/step - loss: 4232.0557 - Brier score: 4232.0557 - val_loss: 4642.1309 - val_Brier score: 4642.1309\n",
      "Epoch 31/100\n",
      "479/479 [==============================] - 1s 1ms/step - loss: 4222.8657 - Brier score: 4222.8657 - val_loss: 4452.2271 - val_Brier score: 4452.2271\n",
      "Epoch 32/100\n",
      "479/479 [==============================] - 1s 2ms/step - loss: 4205.2158 - Brier score: 4205.2158 - val_loss: 4392.4819 - val_Brier score: 4392.4819\n",
      "Epoch 33/100\n",
      "479/479 [==============================] - 1s 2ms/step - loss: 4208.4033 - Brier score: 4208.4033 - val_loss: 4472.3159 - val_Brier score: 4472.3159\n",
      "Epoch 34/100\n",
      "479/479 [==============================] - 1s 2ms/step - loss: 4198.1538 - Brier score: 4198.1538 - val_loss: 4411.3428 - val_Brier score: 4411.3428\n",
      "Epoch 35/100\n",
      "479/479 [==============================] - 1s 2ms/step - loss: 4170.6436 - Brier score: 4170.6436 - val_loss: 4393.1396 - val_Brier score: 4393.1396\n",
      "Epoch 36/100\n",
      "479/479 [==============================] - 1s 2ms/step - loss: 4170.5347 - Brier score: 4170.5347 - val_loss: 4441.4536 - val_Brier score: 4441.4536\n",
      "Epoch 37/100\n",
      "479/479 [==============================] - 1s 1ms/step - loss: 4159.2495 - Brier score: 4159.2490 - val_loss: 4359.2700 - val_Brier score: 4359.2700\n",
      "Epoch 38/100\n",
      "479/479 [==============================] - 1s 2ms/step - loss: 4169.7046 - Brier score: 4169.7046 - val_loss: 4347.5190 - val_Brier score: 4347.5190\n",
      "Epoch 39/100\n",
      "479/479 [==============================] - 1s 1ms/step - loss: 4153.0146 - Brier score: 4153.0146 - val_loss: 4379.2891 - val_Brier score: 4379.2891\n",
      "Epoch 40/100\n",
      "479/479 [==============================] - 1s 1ms/step - loss: 4153.1025 - Brier score: 4153.1025 - val_loss: 4436.1626 - val_Brier score: 4436.1621\n",
      "Epoch 41/100\n",
      "479/479 [==============================] - 1s 1ms/step - loss: 4156.4180 - Brier score: 4156.4180 - val_loss: 4321.6377 - val_Brier score: 4321.6377\n",
      "Epoch 42/100\n",
      "479/479 [==============================] - 0s 847us/step - loss: 4132.4751 - Brier score: 4132.4751 - val_loss: 4388.3755 - val_Brier score: 4388.3755\n",
      "Epoch 43/100\n",
      "479/479 [==============================] - 0s 1ms/step - loss: 4126.6367 - Brier score: 4126.6367 - val_loss: 4389.8833 - val_Brier score: 4389.8833\n",
      "Epoch 44/100\n",
      "479/479 [==============================] - 1s 2ms/step - loss: 4120.0625 - Brier score: 4120.0625 - val_loss: 4382.3447 - val_Brier score: 4382.3452\n"
     ]
    },
    {
     "name": "stdout",
     "output_type": "stream",
     "text": [
      "Epoch 45/100\n",
      "479/479 [==============================] - 1s 2ms/step - loss: 4112.1787 - Brier score: 4112.1787 - val_loss: 4512.5220 - val_Brier score: 4512.5220\n",
      "Epoch 46/100\n",
      "479/479 [==============================] - 1s 2ms/step - loss: 4108.3970 - Brier score: 4108.3970 - val_loss: 4384.6582 - val_Brier score: 4384.6587\n",
      "Epoch 47/100\n",
      "479/479 [==============================] - 1s 2ms/step - loss: 4112.3579 - Brier score: 4112.3579 - val_loss: 4293.6528 - val_Brier score: 4293.6528\n",
      "Epoch 48/100\n",
      "479/479 [==============================] - 1s 2ms/step - loss: 4096.6465 - Brier score: 4096.6465 - val_loss: 4303.2949 - val_Brier score: 4303.2949\n",
      "Epoch 49/100\n",
      "479/479 [==============================] - 1s 2ms/step - loss: 4084.1738 - Brier score: 4084.1738 - val_loss: 4388.3726 - val_Brier score: 4388.3726\n",
      "Epoch 50/100\n",
      "479/479 [==============================] - 1s 2ms/step - loss: 4091.0488 - Brier score: 4091.0488 - val_loss: 4332.3960 - val_Brier score: 4332.3960\n",
      "Epoch 51/100\n",
      "479/479 [==============================] - 1s 1ms/step - loss: 4099.9189 - Brier score: 4099.9189 - val_loss: 4384.9702 - val_Brier score: 4384.9702\n",
      "Epoch 52/100\n",
      "479/479 [==============================] - 1s 2ms/step - loss: 4068.7859 - Brier score: 4068.7859 - val_loss: 4421.7217 - val_Brier score: 4421.7217\n",
      "Epoch 53/100\n",
      "479/479 [==============================] - 1s 2ms/step - loss: 4085.6606 - Brier score: 4085.6606 - val_loss: 4374.3252 - val_Brier score: 4374.3252\n",
      "Epoch 54/100\n",
      "479/479 [==============================] - 1s 2ms/step - loss: 4069.3433 - Brier score: 4069.3428 - val_loss: 4450.3481 - val_Brier score: 4450.3481\n",
      "Epoch 55/100\n",
      "479/479 [==============================] - 1s 1ms/step - loss: 4076.4146 - Brier score: 4076.4146 - val_loss: 4479.6631 - val_Brier score: 4479.6631\n",
      "Epoch 56/100\n",
      "479/479 [==============================] - 1s 2ms/step - loss: 4064.4258 - Brier score: 4064.4258 - val_loss: 4331.5044 - val_Brier score: 4331.5044\n",
      "Epoch 57/100\n",
      "470/479 [============================>.] - ETA: 0s - loss: 4028.7451 - Brier score: 4028.7451Restoring model weights from the end of the best epoch: 47.\n",
      "479/479 [==============================] - 1s 2ms/step - loss: 4042.0835 - Brier score: 4042.0835 - val_loss: 4424.0518 - val_Brier score: 4424.0518\n",
      "Epoch 57: early stopping\n"
     ]
    }
   ],
   "source": [
    "model = make_model()\n",
    "model.summary()\n",
    "history = model.fit(\n",
    "    X_train,\n",
    "    Y_train,\n",
    "    batch_size = 100,\n",
    "    epochs = EPOCHS, #EPOCHS\n",
    "    callbacks = [early_stopping],\n",
    "    validation_data = (val_data, val_labels))"
   ]
  },
  {
   "cell_type": "code",
   "execution_count": 24,
   "id": "bf31f5be",
   "metadata": {},
   "outputs": [],
   "source": [
    "def plot_loss(history):\n",
    "    fig, ax = plt.subplots(figsize = (6, 4))\n",
    "    ax.plot(history.epoch, history.history['loss'], label = 'Training', color = 'blue')\n",
    "    ax.plot(history.epoch, history.history['val_loss'], linestyle = '--', color = 'blue', label = 'Validation')\n",
    "    ax.set_xlabel('Epoch')\n",
    "    ax.set_ylabel('Loss')\n",
    "    ax.set_yscale('log')\n",
    "    ax.legend()\n",
    "    \n",
    "def predict_plot(model = model, test_data = test_data, test_target = test_labels, batches = 1024, axlabels = ('clusters', 'generated particle energy')):\n",
    "    fig, ax = plt.subplots(figsize = (6, 4))\n",
    "    \n",
    "    predictions = model.predict(test_data, batch_size = batches)\n",
    "    histdata, bins, dummy = ax.hist(test_target, bins = 50, histtype=\"step\", color = 'b', label = 'truth')\n",
    "    ax.hist(predictions, bins = bins, histtype=\"step\", color = 'r', label = 'predictions')\n",
    "    ax.set_yscale('log')\n",
    "    ax.set_ylabel(axlabels[0])\n",
    "    ax.set_xlabel(axlabels[1])\n",
    "    ax.legend()\n",
    "    \n",
    "def modeltest(layers = [50, 30, 20, 5, 1], leftoutfeatures = [], epochs = 50):\n",
    "    print('model layers : ', layers, \n",
    "         '\\nfeatures left out : ', leftoutfeatures,\n",
    "         '\\nepochs : ', epochs)"
   ]
  },
  {
   "cell_type": "code",
   "execution_count": 26,
   "id": "b243edf8",
   "metadata": {},
   "outputs": [
    {
     "name": "stdout",
     "output_type": "stream",
     "text": [
      "16/16 [==============================] - 0s 958us/step\n",
      "47/47 [==============================] - 0s 823us/step\n"
     ]
    },
    {
     "data": {
      "image/png": "[encoded data removed]",
      "text/plain": [
       "<Figure size 600x400 with 1 Axes>"
      ]
     },
     "metadata": {},
     "output_type": "display_data"
    },
    {
     "data": {
      "image/png": "[encoded data removed]",
      "text/plain": [
       "<Figure size 600x400 with 1 Axes>"
      ]
     },
     "metadata": {},
     "output_type": "display_data"
    },
    {
     "data": {
      "image/png": "[encoded data removed]",
      "text/plain": [
       "<Figure size 600x400 with 1 Axes>"
      ]
     },
     "metadata": {},
     "output_type": "display_data"
    }
   ],
   "source": [
    "plot_loss(history)\n",
    "predict_plot()\n",
    "predict_plot(test_data = train_data)"
   ]
  },
  {
   "cell_type": "code",
   "execution_count": 21,
   "id": "7f2c9b94",
   "metadata": {},
   "outputs": [],
   "source": [
    "from source.tools import tools\n",
    "obj = tools()\n",
    "colors = plt.rcParams['axes.prop_cycle'].by_key()['color']"
   ]
  },
  {
   "cell_type": "code",
   "execution_count": 22,
   "id": "51e07d5c",
   "metadata": {},
   "outputs": [
    {
     "name": "stdout",
     "output_type": "stream",
     "text": [
      "16/16 [==============================] - 0s 2ms/step\n"
     ]
    }
   ],
   "source": [
    "test_predictions = model.predict(test_data, batch_size=BATCH_SIZE)"
   ]
  },
  {
   "cell_type": "code",
   "execution_count": 23,
   "id": "0eb8a350",
   "metadata": {},
   "outputs": [
    {
     "data": {
      "image/png": "[encoded data removed]",
      "text/plain": [
       "<Figure size 640x480 with 1 Axes>"
      ]
     },
     "metadata": {},
     "output_type": "display_data"
    }
   ],
   "source": [
    "obj = tools()\n",
    "obj.plotHist(test_predictions,test_labels, bins = 50, interval=[0,1000] ,logy=True, logx=False, labels=[\"prediction\",\"truth\"],\n",
    "             xlabel= 'gen particle energy', density=False, ax=None, moveOverUnderFlow=True, verbosity = 0)"
   ]
  },
  {
   "cell_type": "code",
   "execution_count": null,
   "id": "b4c1bdfa",
   "metadata": {},
   "outputs": [],
   "source": []
  }
 ],
 "metadata": {
  "kernelspec": {
   "display_name": "mds_regression",
   "language": "python",
   "name": "mds_regression"
  },
  "language_info": {
   "codemirror_mode": {
    "name": "ipython",
    "version": 3
   },
   "file_extension": ".py",
   "mimetype": "text/x-python",
   "name": "python",
   "nbconvert_exporter": "python",
   "pygments_lexer": "ipython3",
   "version": "3.7.12"
  }
 },
 "nbformat": 4,
 "nbformat_minor": 5
}
