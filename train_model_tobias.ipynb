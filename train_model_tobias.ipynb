{
 "cells": [
  {
   "cell_type": "code",
   "execution_count": 1,
   "id": "518b750a",
   "metadata": {},
   "outputs": [
    {
     "name": "stderr",
     "output_type": "stream",
     "text": [
      "2023-12-04 15:10:10.978491: I tensorflow/core/platform/cpu_feature_guard.cc:193] This TensorFlow binary is optimized with oneAPI Deep Neural Network Library (oneDNN) to use the following CPU instructions in performance-critical operations:  AVX2 FMA\n",
      "To enable them in other operations, rebuild TensorFlow with the appropriate compiler flags.\n",
      "2023-12-04 15:10:12.234624: W tensorflow/compiler/xla/stream_executor/platform/default/dso_loader.cc:64] Could not load dynamic library 'libcudart.so.11.0'; dlerror: libcudart.so.11.0: cannot open shared object file: No such file or directory\n",
      "2023-12-04 15:10:12.234653: I tensorflow/compiler/xla/stream_executor/cuda/cudart_stub.cc:29] Ignore above cudart dlerror if you do not have a GPU set up on your machine.\n",
      "2023-12-04 15:10:23.648802: W tensorflow/compiler/xla/stream_executor/platform/default/dso_loader.cc:64] Could not load dynamic library 'libnvinfer.so.7'; dlerror: libnvinfer.so.7: cannot open shared object file: No such file or directory\n",
      "2023-12-04 15:10:23.649213: W tensorflow/compiler/xla/stream_executor/platform/default/dso_loader.cc:64] Could not load dynamic library 'libnvinfer_plugin.so.7'; dlerror: libnvinfer_plugin.so.7: cannot open shared object file: No such file or directory\n",
      "2023-12-04 15:10:23.649225: W tensorflow/compiler/tf2tensorrt/utils/py_utils.cc:38] TF-TRT Warning: Cannot dlopen some TensorRT libraries. If you would like to use Nvidia GPU with TensorRT, please make sure the missing libraries mentioned above are installed properly.\n",
      "2023-12-04 15:10:46.077716: W tensorflow/compiler/xla/stream_executor/platform/default/dso_loader.cc:64] Could not load dynamic library 'libcuda.so.1'; dlerror: libcuda.so.1: cannot open shared object file: No such file or directory\n",
      "2023-12-04 15:10:46.077752: W tensorflow/compiler/xla/stream_executor/cuda/cuda_driver.cc:265] failed call to cuInit: UNKNOWN ERROR (303)\n",
      "2023-12-04 15:10:46.077775: I tensorflow/compiler/xla/stream_executor/cuda/cuda_diagnostics.cc:156] kernel driver does not appear to be running on this host (batch1362.desy.de): /proc/driver/nvidia/version does not exist\n",
      "2023-12-04 15:10:46.078036: I tensorflow/core/platform/cpu_feature_guard.cc:193] This TensorFlow binary is optimized with oneAPI Deep Neural Network Library (oneDNN) to use the following CPU instructions in performance-critical operations:  AVX2 FMA\n",
      "To enable them in other operations, rebuild TensorFlow with the appropriate compiler flags.\n"
     ]
    }
   ],
   "source": [
    "from source import Dataset\n",
    "from source import tools\n",
    "import awkward as ak\n",
    "import glob\n",
    "import time\n",
    "\n",
    "import tensorflow as tf\n",
    "from tensorflow import keras\n",
    "from tensorflow.keras import optimizers\n",
    "from keras import layers\n",
    "\n",
    "import os\n",
    "import tempfile\n",
    "\n",
    "import matplotlib as mpl\n",
    "import matplotlib.pyplot as plt\n",
    "import numpy as np\n",
    "import pandas as pd\n",
    "import seaborn as sns\n",
    "\n",
    "import sklearn\n",
    "from sklearn.metrics import confusion_matrix\n",
    "from sklearn.model_selection import train_test_split\n",
    "from sklearn.preprocessing import StandardScaler"
   ]
  },
  {
   "cell_type": "code",
   "execution_count": 2,
   "id": "17ff7cf6",
   "metadata": {},
   "outputs": [],
   "source": [
    "#selecting features \n",
    "branches_to_train = [\n",
    "\"cscRechitClusterX\",\n",
    "\"cscRechitClusterY\",\n",
    "\"cscRechitClusterZ\",\n",
    "\"cscRechitClusterTimeWeighted\",\n",
    "\"cscRechitClusterTimeSpreadWeightedAll\",\n",
    "\"cscRechitClusternXY\",\n",
    "\"cscRechitClusternZ\",\n",
    "\"cscRechitClusterXSpread\",\n",
    "\"cscRechitClusterYSpread\",\n",
    "\"cscRechitClusterZSpread\",\n",
    "\"cscRechitClusterXYSpread\",\n",
    "\"cscRechitClusterRSpread\",\n",
    "\"cscRechitClusterEtaPhiSpread\",\n",
    "\"cscRechitClusterEtaSpread\",\n",
    "\"cscRechitClusterPhiSpread\",\n",
    "\"cscRechitClusterDeltaRSpread\",\n",
    "\"cscRechitClusterMajorAxis\",\n",
    "\"cscRechitClusterMinorAxis\",\n",
    "\"cscRechitClusterSkewX\",\n",
    "\"cscRechitClusterSkewY\",\n",
    "\"cscRechitClusterSkewZ\",\n",
    "\"cscRechitClusterKurtX\",\n",
    "\"cscRechitClusterKurtY\",\n",
    "\"cscRechitClusterKurtZ\",\n",
    "\"cscRechitClusterSize\",\n",
    "]\n",
    "\n",
    "#energy key\n",
    "truth_value = \"cscRechitCluster_match_gLLP_e\""
   ]
  },
  {
   "cell_type": "code",
   "execution_count": 6,
   "id": "9492f9c8",
   "metadata": {},
   "outputs": [
    {
     "name": "stdout",
     "output_type": "stream",
     "text": [
      "Opening file  /nfs/dust/cms/user/loewetob/ML_LLP/MDS_regression/datasets/test_df_v6.h5\n"
     ]
    }
   ],
   "source": [
    "#read data\n",
    "dataset_signal = Dataset.Dataset(\"signal\")\n",
    "df_signal = dataset_signal.load_df(\"/nfs/dust/cms/user/loewetob/ML_LLP/MDS_regression/datasets/test_df_v6.h5\")"
   ]
  },
  {
   "cell_type": "code",
   "execution_count": 7,
   "id": "4b7b4c6a",
   "metadata": {},
   "outputs": [
    {
     "name": "stdout",
     "output_type": "stream",
     "text": [
      "cut out 10236 clusters, which leaves 79780 clusters containing a LLP decay for training\n"
     ]
    }
   ],
   "source": [
    "#cut clusters which don't have LLP\n",
    "olen = len(df_signal)\n",
    "df_signal = df_signal[ df_signal[\"cscRechitCluster_match_gLLP\"]>=1 ]\n",
    "print('cut out ' + str(olen - len(df_signal)) + ' clusters, which leaves ' + str(len(df_signal)) + ' clusters containing a LLP decay for training')"
   ]
  },
  {
   "cell_type": "code",
   "execution_count": 15,
   "id": "2e04220a",
   "metadata": {},
   "outputs": [
    {
     "name": "stdout",
     "output_type": "stream",
     "text": [
      " signal training features (47868, 25) \n",
      " signal training labels (47868,) \n",
      " signal test features (15956, 25) \n",
      " ignal test labels (15956,) \n",
      " signal val features (15956, 25) \n",
      " signal val labels (15956,)\n"
     ]
    }
   ],
   "source": [
    "# Splitting the data into train, val, test\n",
    "train_data, testval_data = train_test_split(df_signal, train_size=0.6)\n",
    "test_data, val_data = train_test_split(testval_data, test_size=0.5)\n",
    "\n",
    "# assigning labels (true energy values)\n",
    "train_labels = np.array(train_data[truth_value])#([1.]*len(train_data))\n",
    "test_labels = np.array(test_data[truth_value])#([1.]*len(test_data))\n",
    "val_labels = np.array(val_data[truth_value])#([1.]*len(val_data))\n",
    "\n",
    "# select only branches we want\n",
    "train_data = train_data[branches_to_train]\n",
    "test_data = test_data[branches_to_train]\n",
    "val_data = val_data[branches_to_train]\n",
    "\n",
    "# check the shape\n",
    "print(\" signal training features\", train_data.shape,\n",
    "    \"\\n signal training labels\", train_labels.shape,\n",
    "    \"\\n signal test features\", test_data.shape,\n",
    "    \"\\n ignal test labels\", test_labels.shape,\n",
    "    \"\\n signal val features\", val_data.shape,\n",
    "    \"\\n signal val labels\", val_labels.shape)"
   ]
  },
  {
   "cell_type": "code",
   "execution_count": 16,
   "id": "a68b7feb",
   "metadata": {},
   "outputs": [
    {
     "name": "stdout",
     "output_type": "stream",
     "text": [
      "[ 64.69113922 153.4440155   74.65402222 ... 173.04978943 173.95536804\n",
      " 100.54255676]\n",
      "       cscRechitClusterX  cscRechitClusterY  cscRechitClusterZ  \\\n",
      "entry                                                            \n",
      "2527         -479.079712         271.723511        -720.262085   \n",
      "28656        -342.130493           9.394412        -711.315491   \n",
      "84923        -632.940796          11.455564         693.964844   \n",
      "46747          73.034073        -396.334595       -1012.336853   \n",
      "71516         585.730469          78.587311         739.977295   \n",
      "...                  ...                ...                ...   \n",
      "64004         225.633362         253.560608         798.928467   \n",
      "5328         -409.072601         478.347778         718.115479   \n",
      "32256        -349.879608          -2.012101        -994.152100   \n",
      "42538        -144.072220        -210.505920        -833.869873   \n",
      "80627        -541.008728         280.420013        -694.311462   \n",
      "\n",
      "       cscRechitClusterTimeWeighted  cscRechitClusterTimeSpreadWeightedAll  \\\n",
      "entry                                                                        \n",
      "2527                       2.693897                               9.672687   \n",
      "28656                     -0.985117                              13.073842   \n",
      "84923                      0.740186                               8.493896   \n",
      "46747                     -3.237291                               8.974784   \n",
      "71516                      3.667235                               8.997042   \n",
      "...                             ...                                    ...   \n",
      "64004                     -0.306311                               9.041606   \n",
      "5328                       3.412925                              12.315773   \n",
      "32256                     -1.394183                               8.497499   \n",
      "42538                      0.928782                              11.188506   \n",
      "80627                      0.819400                               7.134208   \n",
      "\n",
      "       cscRechitClusternXY  cscRechitClusternZ  cscRechitClusterXSpread  \\\n",
      "entry                                                                     \n",
      "2527                   144                 144                50.905323   \n",
      "28656                  442                 442                32.284363   \n",
      "84923                   88                  88                18.129498   \n",
      "46747                  110                 110                14.361558   \n",
      "71516                  103                 103                54.109402   \n",
      "...                    ...                 ...                      ...   \n",
      "64004                   51                  51                49.411201   \n",
      "5328                    52                  52                15.515392   \n",
      "32256                   81                  81                24.787565   \n",
      "42538                  529                 529                22.361200   \n",
      "80627                   50                  50                25.260231   \n",
      "\n",
      "       cscRechitClusterYSpread  cscRechitClusterZSpread  ...  \\\n",
      "entry                                                    ...   \n",
      "2527                 45.213955                47.288013  ...   \n",
      "28656                13.074910                 3.107842  ...   \n",
      "84923                19.655676                 0.047874  ...   \n",
      "46747                46.474827                 0.100480  ...   \n",
      "71516                15.218096                58.703674  ...   \n",
      "...                        ...                      ...  ...   \n",
      "64004                71.710678               161.530136  ...   \n",
      "5328                 21.794950                47.339172  ...   \n",
      "32256                12.020217                34.896275  ...   \n",
      "42538                22.765833                15.466647  ...   \n",
      "80627                23.412365                 0.074727  ...   \n",
      "\n",
      "       cscRechitClusterDeltaRSpread  cscRechitClusterMajorAxis  \\\n",
      "entry                                                            \n",
      "2527                       0.103273                   0.100297   \n",
      "28656                      0.092858                   0.085924   \n",
      "84923                      0.037499                   0.030997   \n",
      "46747                      0.100562                   0.096412   \n",
      "71516                      0.043508                   0.033877   \n",
      "...                             ...                        ...   \n",
      "64004                      0.126710                   0.126086   \n",
      "5328                       0.043995                   0.035186   \n",
      "32256                      0.067806                   0.058632   \n",
      "42538                      0.122434                   0.096888   \n",
      "80627                      0.049841                   0.039213   \n",
      "\n",
      "       cscRechitClusterMinorAxis  cscRechitClusterSkewX  \\\n",
      "entry                                                     \n",
      "2527                    0.024614              26.711189   \n",
      "28656                   0.035210             -11.640761   \n",
      "84923                   0.021104              -0.988779   \n",
      "46747                   0.028590               7.906885   \n",
      "71516                   0.027301              20.808695   \n",
      "...                          ...                    ...   \n",
      "64004                   0.012562               6.127118   \n",
      "5328                    0.026411               5.633542   \n",
      "32256                   0.034058              18.682344   \n",
      "42538                   0.074852             -13.192817   \n",
      "80627                   0.030765              13.544397   \n",
      "\n",
      "       cscRechitClusterSkewY  cscRechitClusterSkewZ  cscRechitClusterKurtX  \\\n",
      "entry                                                                        \n",
      "2527              -62.680882             -70.353760              -0.268597   \n",
      "28656             -22.085882              26.113880              -0.522276   \n",
      "84923              -2.131024               0.002815              -1.428653   \n",
      "46747             -97.347229              -0.210949               0.575335   \n",
      "71516               1.208764              29.375759              -1.248649   \n",
      "...                      ...                    ...                    ...   \n",
      "64004              28.323017              31.003252              -1.293434   \n",
      "5328                6.372959              73.917244              -0.683052   \n",
      "32256              -4.373289              15.142660               0.143745   \n",
      "42538             -13.717496             -32.070358               0.475149   \n",
      "80627             -19.312090              -0.005455              -0.988600   \n",
      "\n",
      "       cscRechitClusterKurtY  cscRechitClusterKurtZ  cscRechitClusterSize  \n",
      "entry                                                                      \n",
      "2527                0.868675               0.293367                   144  \n",
      "28656               5.867012              68.629837                   442  \n",
      "84923              -1.625542              -1.422671                    88  \n",
      "46747               2.787487               2.798217                   110  \n",
      "71516              -1.378450              -1.749592                   103  \n",
      "...                      ...                    ...                   ...  \n",
      "64004              -0.800490              -1.424853                    51  \n",
      "5328               -0.465975               0.438095                    52  \n",
      "32256               0.733654              -1.492841                    81  \n",
      "42538               1.589610              12.055634                   529  \n",
      "80627               0.090035              -0.696146                    50  \n",
      "\n",
      "[47868 rows x 25 columns]\n"
     ]
    }
   ],
   "source": [
    "# see what training data looks like\n",
    "print(train_labels)\n",
    "print(train_data)\n",
    "\n",
    "n_features = train_data.shape[1]"
   ]
  },
  {
   "cell_type": "code",
   "execution_count": 17,
   "id": "30a9c0b3",
   "metadata": {},
   "outputs": [
    {
     "data": {
      "text/plain": [
       "25"
      ]
     },
     "execution_count": 17,
     "metadata": {},
     "output_type": "execute_result"
    }
   ],
   "source": [
    "n_features"
   ]
  },
  {
   "cell_type": "code",
   "execution_count": null,
   "id": "4745b13a",
   "metadata": {},
   "outputs": [],
   "source": []
  }
 ],
 "metadata": {
  "kernelspec": {
   "display_name": "mds_regression",
   "language": "python",
   "name": "mds_regression"
  },
  "language_info": {
   "codemirror_mode": {
    "name": "ipython",
    "version": 3
   },
   "file_extension": ".py",
   "mimetype": "text/x-python",
   "name": "python",
   "nbconvert_exporter": "python",
   "pygments_lexer": "ipython3",
   "version": "3.7.12"
  }
 },
 "nbformat": 4,
 "nbformat_minor": 5
}
