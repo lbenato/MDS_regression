{
 "cells": [
  {
   "cell_type": "markdown",
   "metadata": {},
   "source": [
    "#### Requirements:\n",
    "###### pip install torch_geometric\n",
    "###### pip install torch_cluster\n",
    "###### probably also torch>= 2.0"
   ]
  },
  {
   "cell_type": "code",
   "execution_count": 9,
   "metadata": {},
   "outputs": [
    {
     "name": "stdout",
     "output_type": "stream",
     "text": [
      "Data(x=[3, 1], edge_index=[2, 4])\n"
     ]
    }
   ],
   "source": [
    "import torch\n",
    "from torch_geometric.data import Data\n",
    "\n",
    "'''\n",
    "For handling graphs in pytorch we usually resort to the pytorch geometric library.\n",
    "The full documentation can be found here: https://pytorch-geometric.readthedocs.io/en/latest/notes/introduction.html\n",
    "\n",
    "Standard way to represent a graph in general is a N x N matrix, where N is the number of nodes in the graph.\n",
    "In pytorch geometric, we represent a graph as a tuple where the first element is a N x 2 matrix, where each column describes the linked nodes.\n",
    "E.g. if you have a [1 0 1  matrix, it would translate to the following adj matrix: [[0 1 2 2]\n",
    "                    0 1 1                                                           [0 1 0 1]]\n",
    "                    0 0 0] \n",
    "'''\n",
    "\n",
    "edge_index = torch.tensor([[0, 1, 1, 2],  # example in the pygeometric notation\n",
    "                           [1, 0, 2, 1]], dtype=torch.long)\n",
    "x = torch.tensor([[-1], [0], [1]], dtype=torch.float) # your features\n",
    "\n",
    "data = Data(x=x, edge_index=edge_index) # new data object containing the features and the edge index\n",
    "print (data)"
   ]
  },
  {
   "cell_type": "code",
   "execution_count": null,
   "metadata": {},
   "outputs": [],
   "source": [
    "'''\n",
    "If you want to build the adj matrix starting from your features \n",
    "you can use some of the utilities provided by pygeometric\n",
    "'''\n",
    "x = torch.tensor([[-1.0, -1.0], [-1.0, 1.0], [1.0, -1.0], [1.0, 1.0]]) # your features\n",
    "\n",
    "'''this next lineassignes each graph to a batch. \n",
    "This is done because in pygeometric batches are not parallelized, but they are concatenated sequentially.\n",
    "Of course this is slower, but as graph are tipically not padded and of irregular shape,\n",
    "this is the only way to do it in torch.\n",
    "So in the big tensor that will be created by pygeometric, \n",
    "this allows the model to distinguish which graphs belogs to which batch.\n",
    "'''\n",
    "batch = torch.tensor([0, 0, 0, 0])    \n",
    "\n",
    "from torch_geometric.nn import knn_graph\n",
    "#now you can build your adj matrix using the knn_graph \n",
    "#function https://pytorch-geometric.readthedocs.io/en/latest/generated/torch_geometric.nn.pool.knn_graph.html?highlight=knn_graph#torch_geometric.nn.pool.knn_graph\n",
    "edge_index = knn_graph(x, k=2, batch=batch, loop=False)\n",
    "#one can also use other functions to build the adj matrix, more info in the documentation\n",
    "\n",
    "\n",
    "#finally you can create your data object like before\n",
    "data = Data(x=x, edge_index=edge_index) # new data object containing the features and the edge index\n",
    "print (data)\n"
   ]
  },
  {
   "cell_type": "code",
   "execution_count": null,
   "metadata": {},
   "outputs": [],
   "source": []
  }
 ],
 "metadata": {
  "kernelspec": {
   "display_name": "protoTorch",
   "language": "python",
   "name": "python3"
  },
  "language_info": {
   "codemirror_mode": {
    "name": "ipython",
    "version": 3
   },
   "file_extension": ".py",
   "mimetype": "text/x-python",
   "name": "python",
   "nbconvert_exporter": "python",
   "pygments_lexer": "ipython3",
   "version": "3.8.12"
  }
 },
 "nbformat": 4,
 "nbformat_minor": 2
}
