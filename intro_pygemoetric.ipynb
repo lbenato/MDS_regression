{
 "cells": [
  {
   "cell_type": "markdown",
   "metadata": {},
   "source": [
    "#### Requirements:\n",
    "###### pip install torch_geometric\n",
    "###### pip install torch_cluster\n",
    "###### probably also torch>= 2.0"
   ]
  },
  {
   "cell_type": "code",
   "execution_count": 4,
   "metadata": {},
   "outputs": [
    {
     "name": "stdout",
     "output_type": "stream",
     "text": [
      "Data(x=[3, 1], edge_index=[2, 4])\n"
     ]
    }
   ],
   "source": [
    "#from source import Dataset\n",
    "#from source import tools\n",
    "import awkward as ak\n",
    "import glob\n",
    "import time\n",
    "\n",
    "#import tensorflow as tf\n",
    "#from tensorflow import keras\n",
    "#from tensorflow.keras import optimizers\n",
    "#from keras import layers\n",
    "\n",
    "import os\n",
    "import tempfile\n",
    "\n",
    "import matplotlib as mpl\n",
    "import matplotlib.pyplot as plt\n",
    "import numpy as np\n",
    "import pandas as pd\n",
    "import seaborn as sns\n",
    "\n",
    "import sklearn\n",
    "from sklearn.metrics import confusion_matrix\n",
    "from sklearn.model_selection import train_test_split\n",
    "from sklearn.preprocessing import StandardScaler\n",
    "\n",
    "import torch\n",
    "from torch_geometric.data import Data\n",
    "\n",
    "'''\n",
    "For handling graphs in pytorch we usually resort to the pytorch geometric library.\n",
    "The full documentation can be found here: https://pytorch-geometric.readthedocs.io/en/latest/notes/introduction.html\n",
    "\n",
    "Standard way to represent a graph in general is a N x N matrix, where N is the number of nodes in the graph.\n",
    "In pytorch geometric, we represent a graph as a tuple where the first element is a N x 2 matrix, where each column describes the linked nodes.\n",
    "E.g. if you have a [1 0 1  matrix, it would translate to the following adj matrix: [[0 1 2 2]\n",
    "                    0 1 1                                                           [0 1 0 1]]\n",
    "                    0 0 0] \n",
    "'''\n",
    "\n",
    "edge_index = torch.tensor([[0, 1, 1, 2],  # example in the pygeometric notation\n",
    "                           [1, 0, 2, 1]], dtype=torch.long)\n",
    "x = torch.tensor([[-1], [0], [1]], dtype=torch.float) # your features\n",
    "\n",
    "data = Data(x=x, edge_index=edge_index) # new data object containing the features and the edge index\n",
    "print (data)"
   ]
  },
  {
   "cell_type": "code",
   "execution_count": 5,
   "metadata": {},
   "outputs": [
    {
     "name": "stdout",
     "output_type": "stream",
     "text": [
      "Data(x=[4, 2], edge_index=[2, 8])\n"
     ]
    }
   ],
   "source": [
    "'''\n",
    "If you want to build the adj matrix starting from your features \n",
    "you can use some of the utilities provided by pygeometric\n",
    "'''\n",
    "x = torch.tensor([[-1.0, -1.0], [-1.0, 1.0], [1.0, -1.0], [1.0, 1.0]]) # your features\n",
    "\n",
    "'''this next lineassignes each graph to a batch. \n",
    "This is done because in pygeometric batches are not parallelized, but they are concatenated sequentially.\n",
    "Of course this is slower, but as graph are tipically not padded and of irregular shape,\n",
    "this is the only way to do it in torch.\n",
    "So in the big tensor that will be created by pygeometric, \n",
    "this allows the model to distinguish which graphs belogs to which batch.\n",
    "'''\n",
    "batch = torch.tensor([0, 0, 0, 0])    \n",
    "\n",
    "from torch_geometric.nn import knn_graph\n",
    "#now you can build your adj matrix using the knn_graph \n",
    "#function https://pytorch-geometric.readthedocs.io/en/latest/generated/torch_geometric.nn.pool.knn_graph.html?highlight=knn_graph#torch_geometric.nn.pool.knn_graph\n",
    "edge_index = knn_graph(x, k=2, batch=batch, loop=False)\n",
    "#one can also use other functions to build the adj matrix, more info in the documentation\n",
    "\n",
    "\n",
    "#finally you can create your data object like before\n",
    "data = Data(x=x, edge_index=edge_index) # new data object containing the features and the edge index\n",
    "print (data)\n"
   ]
  },
  {
   "cell_type": "code",
   "execution_count": 6,
   "metadata": {},
   "outputs": [
    {
     "name": "stdout",
     "output_type": "stream",
     "text": [
      "tensor([[1, 2, 0, 3, 0, 3, 1, 2],\n",
      "        [0, 0, 1, 1, 2, 2, 3, 3]])\n"
     ]
    }
   ],
   "source": [
    "print(edge_index)"
   ]
  },
  {
   "cell_type": "code",
   "execution_count": 23,
   "metadata": {},
   "outputs": [],
   "source": [
    "path = \"/nfs/dust/cms/user/lbenato/ML_LLP/MDS_regression/datasets/test_rechits_rearranged.h5\"\n",
    "store = pd.HDFStore(path)\n",
    "df = store.select(\"df\",start=0,stop=-1)"
   ]
  },
  {
   "cell_type": "code",
   "execution_count": 44,
   "metadata": {},
   "outputs": [
    {
     "name": "stdout",
     "output_type": "stream",
     "text": [
      "2\n",
      "[[[-1.07, -2.74], [-1.07, -2.77], ..., [-1.56, ...], [-1.53, -2.72]], ...]\n",
      "[[{p0: [-1.07, -2.74], p1: [-1.07, ...]}, ..., {p0: [...], p1: ..., ...}], ...]\n",
      "[[[-1.07, -2.74], [-1.07, -2.74], ..., [-1.57, ...], [-1.56, -2.71]], ...]\n",
      "[[[-1.07, -2.77], [-1.07, -2.76], ..., [-1.53, ...], [-1.53, -2.72]], ...]\n",
      "Now I need to build all the possible combinations among points, one per event\n"
     ]
    }
   ],
   "source": [
    "R = 2\n",
    "max_h = -1\n",
    "#take only 3 hits for simplicity; otherwise remove [0:3]\n",
    "#phi = ak.Array([ df[\"cscClusteredRechitsPhi\"].loc[nz:nz+1][0:3].values for nz in range(R)  ])\n",
    "\n",
    "eta = ak.Array([ df[\"cscClusteredRechitsEta\"].loc[nz:nz+1][0:max_h].values for nz in range(R)  ])\n",
    "phi = ak.Array([ df[\"cscClusteredRechitsPhi\"].loc[nz:nz+1][0:max_h].values for nz in range(R)  ])\n",
    "\n",
    "points = ak.Array([ df[[\"cscClusteredRechitsEta\",\"cscClusteredRechitsPhi\"]].loc[nz:nz+1][0:max_h].values for nz in range(R)  ])\n",
    "combi = ak.combinations(points,2, fields=[\"p0\", \"p1\"])\n",
    "combi_arg = ak.argcombinations(points,2)\n",
    "combi_eta = ak.combinations(eta,2,fields=[\"p0\", \"p1\"])\n",
    "combi_phi = ak.combinations(phi,2,fields=[\"p0\", \"p1\"])\n",
    "print(len(combi))\n",
    "\n",
    "print(points)\n",
    "print(combi)\n",
    "print(combi[\"p0\"])\n",
    "print(combi[\"p1\"])\n",
    "\n",
    "\n",
    "print(\"Now I need to build all the possible combinations among points, one per event\")"
   ]
  },
  {
   "cell_type": "code",
   "execution_count": 45,
   "metadata": {},
   "outputs": [],
   "source": [
    "def deltaR_2(eta1, phi1, eta2, phi2):\n",
    "    #print(eta1)\n",
    "    #print(eta2)\n",
    "    deta = eta1 - eta2\n",
    "    #print(deta)\n",
    "    dphi = np.arctan2(np.sin(phi1 - phi2), np.cos(phi1 - phi2))\n",
    "    #print(dphi)\n",
    "    return np.sqrt(deta**2 + dphi**2)"
   ]
  },
  {
   "cell_type": "code",
   "execution_count": 46,
   "metadata": {},
   "outputs": [
    {
     "data": {
      "text/html": [
       "<pre>[[0.033, 0.0227, 0.0278, 0.0415, 0.0532, ..., 0.0623, 0.00917, 0.037, 0.0375],\n",
       " [0.028, 0.0273, 0.0356, 0.0335, ..., 0.00891, 0.0151, 0.00546, 0.00963]]\n",
       "------------------------------------------------------------------------------\n",
       "type: 2 * var * float64</pre>"
      ],
      "text/plain": [
       "<Array [[0.033, 0.0227, ..., 0.037, 0.0375], ...] type='2 * var * float64'>"
      ]
     },
     "execution_count": 46,
     "metadata": {},
     "output_type": "execute_result"
    }
   ],
   "source": [
    "dR2 = deltaR_2(combi_eta[\"p0\"],combi_phi[\"p0\"],combi_eta[\"p1\"],combi_phi[\"p1\"])\n",
    "#print(ak.Array(dR2))\n",
    "\n",
    "distance = dR2\n",
    "distance"
   ]
  },
  {
   "cell_type": "code",
   "execution_count": 55,
   "metadata": {},
   "outputs": [
    {
     "name": "stdout",
     "output_type": "stream",
     "text": [
      "------------------\n",
      "Sorting the combination indices based on their minimum delta R, and retain only the first  20\n",
      "[[61617, 98397, 104688, 108072, ..., 126077, 127503, 127650, 128768], ...]\n",
      "Print eta/phi of the selected neighbour combinations\n",
      "[[{p0: [-1.6, -2.8], p1: [-1.6, -2.8]}, ..., {p0: [...], p1: [...]}], ...]\n",
      "Node indices of the selected neighbour combinations\n",
      "This does not include self-interactions\n",
      "[[(141, 142) (261, 262) (288, 289) (304, 305) (322, 323) (335, 336)\n",
      "  (347, 348) (351, 352) (399, 400) (399, 401) (400, 401) (401, 402)\n",
      "  (402, 403) (411, 412) (412, 414) (413, 414) (434, 435) (457, 458)\n",
      "  (460, 461) (503, 504)]\n",
      " [( 16,  17) ( 31,  32) ( 31,  33) ( 31,  34) ( 32,  33) ( 32,  34)\n",
      "  ( 33,  34) ( 34,  35) ( 43,  44) ( 43,  46) ( 44,  45) ( 44,  46)\n",
      "  ( 45,  46) ( 65,  67) ( 66,  67) ( 89,  90) ( 92,  93) (135, 136)\n",
      "  (145, 146) (223, 224)]]\n",
      "[[[141 261 288 304 322]\n",
      "  [142 262 289 305 323]]\n",
      "\n",
      " [[ 16  31  31  31  32]\n",
      "  [ 17  32  33  34  33]]]\n"
     ]
    }
   ],
   "source": [
    "print(\"------------------\")\n",
    "K=20\n",
    "print(\"Sorting the combination indices based on their minimum delta R, and retain only the first \", K)\n",
    "indices =  ak.sort(ak.argsort(distance,axis=1)[:,0:K])\n",
    "print(indices)\n",
    "print(\"Print eta/phi of the selected neighbour combinations\")\n",
    "#print(combi)\n",
    "print(combi[indices])\n",
    "print(\"Node indices of the selected neighbour combinations\")\n",
    "print(\"This does not include self-interactions\")\n",
    "#print(combi_arg)\n",
    "nn_indices = np.array(combi_arg[indices])\n",
    "print(nn_indices)\n",
    "#print(nn_indices.shape)\n",
    "#print(np.array(nn_indices.tolist()))\n",
    "#print(\"swapaxes\")\n",
    "final_indices = np.swapaxes(np.array(nn_indices.tolist()),1,2).reshape(R,2,K)\n",
    "print( final_indices[:,:,0:5] )"
   ]
  },
  {
   "cell_type": "code",
   "execution_count": 56,
   "metadata": {},
   "outputs": [
    {
     "name": "stdout",
     "output_type": "stream",
     "text": [
      "Data(x=[508, 2], edge_index=[2, 10160])\n",
      "tensor([[  2,   3,   1,  ..., 326, 363, 324],\n",
      "        [  0,   0,   0,  ..., 507, 507, 507]])\n",
      "Data(x=[508, 2], edge_index=[2, 20])\n",
      "tensor([[141, 261, 288, 304, 322, 335, 347, 351, 399, 399, 400, 401, 402, 411,\n",
      "         412, 413, 434, 457, 460, 503],\n",
      "        [142, 262, 289, 305, 323, 336, 348, 352, 400, 401, 401, 402, 403, 412,\n",
      "         414, 414, 435, 458, 461, 504]])\n"
     ]
    }
   ],
   "source": [
    "from torch_geometric.data import Data\n",
    "x = torch.tensor(points[0]) # your features\n",
    "#i_batch = np.repeat(np.arange(R),1)\n",
    "#print(x.shape)\n",
    "#print(i_batch)\n",
    "#batch = torch.tensor(i_batch)    \n",
    "\n",
    "from torch_geometric.nn import knn_graph\n",
    "#now you can build your adj matrix using the knn_graph \n",
    "#function https://pytorch-geometric.readthedocs.io/en/latest/generated/torch_geometric.nn.pool.knn_graph.html?highlight=knn_graph#torch_geometric.nn.pool.knn_graph\n",
    "edge_index = knn_graph(x, k=K, loop=False)\n",
    "#print(x)\n",
    "#print(edge_index)\n",
    "#print(final_indices)\n",
    "#one can also use other functions to build the adj matrix, more info in the documentation\n",
    "\n",
    "\n",
    "#finally you can create your data object like before\n",
    "data = Data(x=x, edge_index=edge_index) # new data object containing the features and the edge index\n",
    "print(data)\n",
    "print (data.edge_index)\n",
    "\n",
    "data = Data(x=x, edge_index=torch.tensor(final_indices[0]))\n",
    "print(data)\n",
    "print(data.edge_index)"
   ]
  },
  {
   "cell_type": "code",
   "execution_count": null,
   "metadata": {},
   "outputs": [],
   "source": []
  },
  {
   "cell_type": "code",
   "execution_count": null,
   "metadata": {},
   "outputs": [],
   "source": []
  }
 ],
 "metadata": {
  "kernelspec": {
   "display_name": "mds_run3",
   "language": "python",
   "name": "mds_run3"
  },
  "language_info": {
   "codemirror_mode": {
    "name": "ipython",
    "version": 3
   },
   "file_extension": ".py",
   "mimetype": "text/x-python",
   "name": "python",
   "nbconvert_exporter": "python",
   "pygments_lexer": "ipython3",
   "version": "3.11.5"
  }
 },
 "nbformat": 4,
 "nbformat_minor": 2
}
