{
 "cells": [
  {
   "cell_type": "code",
   "execution_count": 1,
   "id": "e0fb2469-5d3f-4217-9c64-02f0b17b1cbc",
   "metadata": {},
   "outputs": [
    {
     "name": "stderr",
     "output_type": "stream",
     "text": [
      "2024-02-12 17:36:41.942680: E external/local_xla/xla/stream_executor/cuda/cuda_dnn.cc:9261] Unable to register cuDNN factory: Attempting to register factory for plugin cuDNN when one has already been registered\n",
      "2024-02-12 17:36:41.942736: E external/local_xla/xla/stream_executor/cuda/cuda_fft.cc:607] Unable to register cuFFT factory: Attempting to register factory for plugin cuFFT when one has already been registered\n",
      "2024-02-12 17:36:41.944447: E external/local_xla/xla/stream_executor/cuda/cuda_blas.cc:1515] Unable to register cuBLAS factory: Attempting to register factory for plugin cuBLAS when one has already been registered\n",
      "2024-02-12 17:36:41.956210: I tensorflow/core/platform/cpu_feature_guard.cc:182] This TensorFlow binary is optimized to use available CPU instructions in performance-critical operations.\n",
      "To enable the following instructions: AVX2 FMA, in other operations, rebuild TensorFlow with the appropriate compiler flags.\n",
      "2024-02-12 17:36:43.142092: W tensorflow/compiler/tf2tensorrt/utils/py_utils.cc:38] TF-TRT Warning: Could not find TensorRT\n"
     ]
    }
   ],
   "source": [
    "import torch\n",
    "import torch_geometric\n",
    "from torch_geometric.data import Data\n",
    "from torch_cluster import knn_graph\n",
    "from torch_geometric.loader import DataLoader\n",
    "import matplotlib.pyplot as plt\n",
    "import numpy as np\n",
    "\n",
    "from torch.nn import Linear\n",
    "import torch.nn.functional as F\n",
    "from torch_geometric.nn import GCNConv\n",
    "from torch_geometric.nn import global_mean_pool\n",
    "import tensorflow as tf\n",
    "import pandas as pd\n",
    "\n",
    "from gcn_toolkit import gcn_model\n",
    "from gcn_toolkit import fcn_model"
   ]
  },
  {
   "cell_type": "code",
   "execution_count": 2,
   "id": "92eb55d5-0041-4342-98cb-0c003364b467",
   "metadata": {},
   "outputs": [],
   "source": [
    "a = torch.Tensor([[1]])"
   ]
  },
  {
   "cell_type": "code",
   "execution_count": 3,
   "id": "c283e1b4-cb37-47ef-8844-d2c2a54218fa",
   "metadata": {},
   "outputs": [
    {
     "data": {
      "text/plain": [
       "tensor([1.])"
      ]
     },
     "execution_count": 3,
     "metadata": {},
     "output_type": "execute_result"
    }
   ],
   "source": [
    "torch.flatten(a)"
   ]
  },
  {
   "cell_type": "code",
   "execution_count": 4,
   "id": "edb4bfc3-9c3c-4b6f-b77b-7c08fcceabe1",
   "metadata": {},
   "outputs": [
    {
     "name": "stdout",
     "output_type": "stream",
     "text": [
      "Num GPUs available:  2 \n",
      "Cuda available:  True \n",
      "Cuda device count:  2 \n",
      "current device:  0 \n",
      "device info:  <torch.cuda.device object at 0x2adafbfc8bb0> \n",
      "device name:  Tesla P100-SXM2-16GB\n"
     ]
    }
   ],
   "source": [
    "# Check GPU availability\n",
    "\n",
    "print(\"Num GPUs available: \", len(tf.config.list_physical_devices('GPU')), \n",
    "      \"\\nCuda available: \", torch.cuda.is_available(),\n",
    "     \"\\nCuda device count: \", torch.cuda.device_count(),\n",
    "     \"\\ncurrent device: \", torch.cuda.current_device(),\n",
    "     \"\\ndevice info: \", torch.cuda.device(0), \n",
    "      \"\\ndevice name: \", torch.cuda.get_device_name(0))"
   ]
  },
  {
   "cell_type": "code",
   "execution_count": 5,
   "id": "6b183073-a664-48aa-8da5-164e372d7f29",
   "metadata": {},
   "outputs": [
    {
     "name": "stdout",
     "output_type": "stream",
     "text": [
      "6000 2000 1586\n"
     ]
    }
   ],
   "source": [
    "# Data Loaders\n",
    "\n",
    "graph_data = torch.load('/beegfs/desy/group/unihh2/cms-llp/run3/v10/ggH_HToSSTobbbb_MH-125_MS-15_CTau1000_13p6TeV/graphs/graphs9k8nn_' + str(1) + '.pt')\n",
    "\n",
    "batch_size = 1\n",
    "\n",
    "train_graphs = graph_data[:6000]\n",
    "val_graphs = graph_data[6000:8000]\n",
    "test_graphs = graph_data[8000:]\n",
    "\n",
    "train_loader = DataLoader(train_graphs, batch_size=batch_size, shuffle=False)\n",
    "val_loader = DataLoader(val_graphs, batch_size=batch_size, shuffle=False)\n",
    "test_loader = DataLoader(test_graphs, batch_size=1, shuffle=False)\n",
    "\n",
    "train_loader_test = DataLoader(train_graphs, batch_size=1, shuffle=True)\n",
    "\n",
    "print(len(train_graphs), len(val_graphs), len(test_loader))"
   ]
  },
  {
   "cell_type": "code",
   "execution_count": 6,
   "id": "47d50cea-e301-4389-ad34-29527ab3e5a8",
   "metadata": {},
   "outputs": [
    {
     "name": "stdout",
     "output_type": "stream",
     "text": [
      "DataBatch(x=[55, 9], edge_index=[2, 440], y=[1], u=[24], batch=[55], ptr=[2])\n"
     ]
    }
   ],
   "source": [
    "for batch in train_loader:\n",
    "    print(batch)\n",
    "    break"
   ]
  },
  {
   "cell_type": "code",
   "execution_count": 7,
   "id": "23f4f273-bd0d-4865-a1c7-c07baf1fdf07",
   "metadata": {},
   "outputs": [],
   "source": [
    "fcn = fcn_model()"
   ]
  },
  {
   "cell_type": "code",
   "execution_count": 8,
   "id": "5ead59a0-39f0-4c62-8286-48df9aef3119",
   "metadata": {},
   "outputs": [
    {
     "name": "stdout",
     "output_type": "stream",
     "text": [
      "FCN(\n",
      "  (fc_layers): ModuleList(\n",
      "    (0): Linear(in_features=24, out_features=50, bias=True)\n",
      "    (1): ReLU()\n",
      "    (2): Linear(in_features=50, out_features=30, bias=True)\n",
      "    (3): ReLU()\n",
      "    (4): Linear(in_features=30, out_features=20, bias=True)\n",
      "    (5): ReLU()\n",
      "    (6): Linear(in_features=20, out_features=5, bias=True)\n",
      "    (7): ReLU()\n",
      "    (8): Linear(in_features=5, out_features=1, bias=True)\n",
      "    (9): ReLU()\n",
      "  )\n",
      ")\n"
     ]
    }
   ],
   "source": [
    "fcn.make_model(inputs = 24)"
   ]
  },
  {
   "cell_type": "code",
   "execution_count": 9,
   "id": "af02986f-34ba-4018-b777-f094a27e9fd8",
   "metadata": {
    "tags": []
   },
   "outputs": [
    {
     "name": "stdout",
     "output_type": "stream",
     "text": [
      "tensor([-1.3881e+02,  6.3269e+02, -8.4082e+02,  5.1147e+00,  6.5854e+00,\n",
      "         5.5000e+01,  5.5000e+01,  2.2584e+01,  3.1850e+01,  1.3738e-01,\n",
      "         1.3890e+01,  3.2774e+01,  1.1482e-02,  4.0626e-02,  3.2724e-02,\n",
      "         5.2166e-02,  4.0976e-02,  3.2285e-02, -2.6505e+00, -1.4029e+01,\n",
      "         6.0668e-02, -1.0588e+00, -1.4606e+00, -1.4705e+00])\n",
      "tensor([0.], grad_fn=<ViewBackward0>) tensor([108.2869])\n",
      "Epoch: 001, Train Loss: 34217.0625, Test Loss: 35096.4648\n",
      "tensor([-1.3881e+02,  6.3269e+02, -8.4082e+02,  5.1147e+00,  6.5854e+00,\n",
      "         5.5000e+01,  5.5000e+01,  2.2584e+01,  3.1850e+01,  1.3738e-01,\n",
      "         1.3890e+01,  3.2774e+01,  1.1482e-02,  4.0626e-02,  3.2724e-02,\n",
      "         5.2166e-02,  4.0976e-02,  3.2285e-02, -2.6505e+00, -1.4029e+01,\n",
      "         6.0668e-02, -1.0588e+00, -1.4606e+00, -1.4705e+00])\n",
      "tensor([0.], grad_fn=<ViewBackward0>) tensor([108.2869])\n",
      "Epoch: 002, Train Loss: 34217.0625, Test Loss: 35096.4648\n",
      "tensor([-1.3881e+02,  6.3269e+02, -8.4082e+02,  5.1147e+00,  6.5854e+00,\n",
      "         5.5000e+01,  5.5000e+01,  2.2584e+01,  3.1850e+01,  1.3738e-01,\n",
      "         1.3890e+01,  3.2774e+01,  1.1482e-02,  4.0626e-02,  3.2724e-02,\n",
      "         5.2166e-02,  4.0976e-02,  3.2285e-02, -2.6505e+00, -1.4029e+01,\n",
      "         6.0668e-02, -1.0588e+00, -1.4606e+00, -1.4705e+00])\n",
      "tensor([0.], grad_fn=<ViewBackward0>) tensor([108.2869])\n",
      "Epoch: 003, Train Loss: 34217.0625, Test Loss: 35096.4648\n",
      "tensor([-1.3881e+02,  6.3269e+02, -8.4082e+02,  5.1147e+00,  6.5854e+00,\n",
      "         5.5000e+01,  5.5000e+01,  2.2584e+01,  3.1850e+01,  1.3738e-01,\n",
      "         1.3890e+01,  3.2774e+01,  1.1482e-02,  4.0626e-02,  3.2724e-02,\n",
      "         5.2166e-02,  4.0976e-02,  3.2285e-02, -2.6505e+00, -1.4029e+01,\n",
      "         6.0668e-02, -1.0588e+00, -1.4606e+00, -1.4705e+00])\n",
      "tensor([0.], grad_fn=<ViewBackward0>) tensor([108.2869])\n",
      "Epoch: 004, Train Loss: 34217.0625, Test Loss: 35096.4648\n",
      "tensor([-1.3881e+02,  6.3269e+02, -8.4082e+02,  5.1147e+00,  6.5854e+00,\n",
      "         5.5000e+01,  5.5000e+01,  2.2584e+01,  3.1850e+01,  1.3738e-01,\n",
      "         1.3890e+01,  3.2774e+01,  1.1482e-02,  4.0626e-02,  3.2724e-02,\n",
      "         5.2166e-02,  4.0976e-02,  3.2285e-02, -2.6505e+00, -1.4029e+01,\n",
      "         6.0668e-02, -1.0588e+00, -1.4606e+00, -1.4705e+00])\n",
      "tensor([0.], grad_fn=<ViewBackward0>) tensor([108.2869])\n",
      "Epoch: 005, Train Loss: 34217.0625, Test Loss: 35096.4648\n",
      "tensor([-1.3881e+02,  6.3269e+02, -8.4082e+02,  5.1147e+00,  6.5854e+00,\n",
      "         5.5000e+01,  5.5000e+01,  2.2584e+01,  3.1850e+01,  1.3738e-01,\n",
      "         1.3890e+01,  3.2774e+01,  1.1482e-02,  4.0626e-02,  3.2724e-02,\n",
      "         5.2166e-02,  4.0976e-02,  3.2285e-02, -2.6505e+00, -1.4029e+01,\n",
      "         6.0668e-02, -1.0588e+00, -1.4606e+00, -1.4705e+00])\n",
      "tensor([0.], grad_fn=<ViewBackward0>) tensor([108.2869])\n",
      "Epoch: 006, Train Loss: 34217.0625, Test Loss: 35096.4648\n",
      "tensor([-1.3881e+02,  6.3269e+02, -8.4082e+02,  5.1147e+00,  6.5854e+00,\n",
      "         5.5000e+01,  5.5000e+01,  2.2584e+01,  3.1850e+01,  1.3738e-01,\n",
      "         1.3890e+01,  3.2774e+01,  1.1482e-02,  4.0626e-02,  3.2724e-02,\n",
      "         5.2166e-02,  4.0976e-02,  3.2285e-02, -2.6505e+00, -1.4029e+01,\n",
      "         6.0668e-02, -1.0588e+00, -1.4606e+00, -1.4705e+00])\n",
      "tensor([0.], grad_fn=<ViewBackward0>) tensor([108.2869])\n",
      "Epoch: 007, Train Loss: 34217.0625, Test Loss: 35096.4648\n",
      "tensor([-1.3881e+02,  6.3269e+02, -8.4082e+02,  5.1147e+00,  6.5854e+00,\n",
      "         5.5000e+01,  5.5000e+01,  2.2584e+01,  3.1850e+01,  1.3738e-01,\n",
      "         1.3890e+01,  3.2774e+01,  1.1482e-02,  4.0626e-02,  3.2724e-02,\n",
      "         5.2166e-02,  4.0976e-02,  3.2285e-02, -2.6505e+00, -1.4029e+01,\n",
      "         6.0668e-02, -1.0588e+00, -1.4606e+00, -1.4705e+00])\n",
      "tensor([0.], grad_fn=<ViewBackward0>) tensor([108.2869])\n",
      "Epoch: 008, Train Loss: 34217.0625, Test Loss: 35096.4648\n",
      "tensor([-1.3881e+02,  6.3269e+02, -8.4082e+02,  5.1147e+00,  6.5854e+00,\n",
      "         5.5000e+01,  5.5000e+01,  2.2584e+01,  3.1850e+01,  1.3738e-01,\n",
      "         1.3890e+01,  3.2774e+01,  1.1482e-02,  4.0626e-02,  3.2724e-02,\n",
      "         5.2166e-02,  4.0976e-02,  3.2285e-02, -2.6505e+00, -1.4029e+01,\n",
      "         6.0668e-02, -1.0588e+00, -1.4606e+00, -1.4705e+00])\n",
      "tensor([0.], grad_fn=<ViewBackward0>) tensor([108.2869])\n",
      "Epoch: 009, Train Loss: 34217.0625, Test Loss: 35096.4648\n"
     ]
    }
   ],
   "source": [
    "# Training Loop FCN\n",
    "\n",
    "train_losses = []\n",
    "val_losses = []\n",
    "\n",
    "for epoch in range(1, 10):\n",
    "    fcn.train(train_loader)\n",
    "    train_loss = fcn.test(train_loader)\n",
    "    val_loss = fcn.test(val_loader)\n",
    "    train_losses.append(train_loss.item())\n",
    "    val_losses.append(val_loss.item())\n",
    "    print(f'Epoch: {epoch:03d}, Train Loss: {train_loss:.4f}, Test Loss: {val_loss:.4f}')"
   ]
  },
  {
   "cell_type": "code",
   "execution_count": 5,
   "id": "00ac4d5e-edc3-4c78-8db8-39a73897a63c",
   "metadata": {},
   "outputs": [],
   "source": [
    "tool = gcn_model()"
   ]
  },
  {
   "cell_type": "code",
   "execution_count": 6,
   "id": "254d4a4d-202a-4313-a176-e7ba2d1d823f",
   "metadata": {},
   "outputs": [
    {
     "name": "stdout",
     "output_type": "stream",
     "text": [
      "GCN(\n",
      "  (conv1): GCNConv(9, 9)\n",
      "  (conv2): GCNConv(9, 9)\n",
      "  (conv3): GCNConv(9, 9)\n",
      "  (lin1): Linear(in_features=37, out_features=50, bias=True)\n",
      "  (lin2): Linear(in_features=50, out_features=30, bias=True)\n",
      "  (lin3): Linear(in_features=30, out_features=20, bias=True)\n",
      "  (lin4): Linear(in_features=20, out_features=5, bias=True)\n",
      "  (lin5): Linear(in_features=5, out_features=1, bias=True)\n",
      ")\n"
     ]
    }
   ],
   "source": [
    "tool.make_model(hidden_channels = 9)"
   ]
  },
  {
   "cell_type": "code",
   "execution_count": 9,
   "id": "d81ae6b2-06d5-4988-87a1-efaa506bdd7f",
   "metadata": {},
   "outputs": [
    {
     "name": "stdout",
     "output_type": "stream",
     "text": [
      "DataBatch(x=[93247, 9], edge_index=[2, 745976], y=[256], u=[7168], batch=[93247], ptr=[257])\n"
     ]
    }
   ],
   "source": [
    "for batch in train_loader:\n",
    "    print(batch)\n",
    "    break"
   ]
  },
  {
   "cell_type": "code",
   "execution_count": 7,
   "id": "4cd4fbe5-169e-41db-a55b-c5817cc4656f",
   "metadata": {
    "tags": []
   },
   "outputs": [
    {
     "name": "stdout",
     "output_type": "stream",
     "text": [
      "Epoch: 001, Train Loss: 9372.3008, Test Loss: 9415.3291\n",
      "Epoch: 002, Train Loss: 8495.8545, Test Loss: 8446.9160\n",
      "Epoch: 003, Train Loss: 8549.1689, Test Loss: 8527.3438\n",
      "Epoch: 004, Train Loss: 8615.8291, Test Loss: 8678.6084\n",
      "Epoch: 005, Train Loss: 8756.5576, Test Loss: 8579.8223\n",
      "Epoch: 006, Train Loss: 8424.6787, Test Loss: 8398.6133\n",
      "Epoch: 007, Train Loss: 8472.0898, Test Loss: 8322.5146\n",
      "Epoch: 008, Train Loss: 8433.3203, Test Loss: 8381.5039\n",
      "Epoch: 009, Train Loss: 8470.3848, Test Loss: 8270.6885\n",
      "Epoch: 010, Train Loss: 8744.5684, Test Loss: 8848.3564\n",
      "Epoch: 011, Train Loss: 8298.5771, Test Loss: 8156.8398\n",
      "Epoch: 012, Train Loss: 8203.7500, Test Loss: 8147.3647\n",
      "Epoch: 013, Train Loss: 8962.3105, Test Loss: 8988.3936\n",
      "Epoch: 014, Train Loss: 8378.9346, Test Loss: 8346.0312\n",
      "Epoch: 015, Train Loss: 8168.3301, Test Loss: 8047.9087\n",
      "Epoch: 016, Train Loss: 8496.3701, Test Loss: 8160.0142\n",
      "Epoch: 017, Train Loss: 8543.5703, Test Loss: 8432.6914\n",
      "Epoch: 018, Train Loss: 8309.5947, Test Loss: 8243.4590\n",
      "Epoch: 019, Train Loss: 8401.2275, Test Loss: 8336.8594\n",
      "Epoch: 020, Train Loss: 8127.5762, Test Loss: 7971.7627\n",
      "Epoch: 021, Train Loss: 8221.2607, Test Loss: 8025.1499\n",
      "Epoch: 022, Train Loss: 8107.1274, Test Loss: 7997.5781\n",
      "Epoch: 023, Train Loss: 8133.4360, Test Loss: 8080.8613\n",
      "Epoch: 024, Train Loss: 8455.8447, Test Loss: 8059.3394\n",
      "Epoch: 025, Train Loss: 8122.6465, Test Loss: 8165.2661\n",
      "Epoch: 026, Train Loss: 8231.5166, Test Loss: 8240.8926\n",
      "Epoch: 027, Train Loss: 8189.3481, Test Loss: 8215.0527\n",
      "Epoch: 028, Train Loss: 8085.3652, Test Loss: 8018.6875\n",
      "Epoch: 029, Train Loss: 8139.3462, Test Loss: 8094.6030\n",
      "Epoch: 030, Train Loss: 8607.8652, Test Loss: 8522.1289\n",
      "Epoch: 031, Train Loss: 8421.6035, Test Loss: 8475.8799\n",
      "Epoch: 032, Train Loss: 8140.5938, Test Loss: 7988.7671\n",
      "Epoch: 033, Train Loss: 8208.3486, Test Loss: 8078.4531\n",
      "Epoch: 034, Train Loss: 8209.9658, Test Loss: 8035.1777\n",
      "Epoch: 035, Train Loss: 8171.7524, Test Loss: 8010.9014\n",
      "Epoch: 036, Train Loss: 8162.5815, Test Loss: 8024.9370\n",
      "Epoch: 037, Train Loss: 8138.0000, Test Loss: 7956.9834\n",
      "Epoch: 038, Train Loss: 8099.5913, Test Loss: 7925.2129\n",
      "Epoch: 039, Train Loss: 8102.8140, Test Loss: 7973.6626\n",
      "Epoch: 040, Train Loss: 8089.1348, Test Loss: 8114.1758\n",
      "Epoch: 041, Train Loss: 8205.1064, Test Loss: 7949.6074\n",
      "Epoch: 042, Train Loss: 8040.3413, Test Loss: 8017.1631\n",
      "Epoch: 043, Train Loss: 8427.1338, Test Loss: 8470.1709\n",
      "Epoch: 044, Train Loss: 8048.2148, Test Loss: 7988.4878\n",
      "Epoch: 045, Train Loss: 8121.7681, Test Loss: 7992.1895\n",
      "Epoch: 046, Train Loss: 8331.1162, Test Loss: 7979.7759\n",
      "Epoch: 047, Train Loss: 8109.0942, Test Loss: 8045.8535\n",
      "Epoch: 048, Train Loss: 8138.9707, Test Loss: 8006.4746\n",
      "Epoch: 049, Train Loss: 8083.7114, Test Loss: 8048.5107\n",
      "Epoch: 050, Train Loss: 8063.3882, Test Loss: 7902.9614\n",
      "Epoch: 051, Train Loss: 8014.0405, Test Loss: 7992.5679\n",
      "Epoch: 052, Train Loss: 8059.3677, Test Loss: 7956.8096\n",
      "Epoch: 053, Train Loss: 8121.8008, Test Loss: 8132.0205\n",
      "Epoch: 054, Train Loss: 8112.0249, Test Loss: 7968.0405\n",
      "Epoch: 055, Train Loss: 8300.9180, Test Loss: 8136.8687\n",
      "Epoch: 056, Train Loss: 8300.5029, Test Loss: 8142.3071\n",
      "Epoch: 057, Train Loss: 8080.9741, Test Loss: 8028.4385\n",
      "Epoch: 058, Train Loss: 8329.2490, Test Loss: 8206.2715\n",
      "Epoch: 059, Train Loss: 8232.1221, Test Loss: 8068.5151\n",
      "Epoch: 060, Train Loss: 8221.0479, Test Loss: 8114.6997\n",
      "Epoch: 061, Train Loss: 8249.0254, Test Loss: 8015.6270\n",
      "Epoch: 062, Train Loss: 8137.1060, Test Loss: 7993.9058\n",
      "Epoch: 063, Train Loss: 8024.4224, Test Loss: 7929.8267\n",
      "Epoch: 064, Train Loss: 8229.2266, Test Loss: 8034.6304\n",
      "Epoch: 065, Train Loss: 8222.7080, Test Loss: 8087.0142\n",
      "Epoch: 066, Train Loss: 8251.8975, Test Loss: 8235.0781\n",
      "Epoch: 067, Train Loss: 8276.1631, Test Loss: 8146.3472\n",
      "Epoch: 068, Train Loss: 8052.0747, Test Loss: 7979.8979\n",
      "Epoch: 069, Train Loss: 8101.8970, Test Loss: 7961.0571\n",
      "Epoch: 070, Train Loss: 8053.8086, Test Loss: 7911.1406\n",
      "Epoch: 071, Train Loss: 8136.0366, Test Loss: 7957.9731\n",
      "Epoch: 072, Train Loss: 8061.0933, Test Loss: 7971.7295\n",
      "Epoch: 073, Train Loss: 8078.3301, Test Loss: 7918.6128\n",
      "Epoch: 074, Train Loss: 8129.5786, Test Loss: 8129.9253\n",
      "Epoch: 075, Train Loss: 8069.9478, Test Loss: 8047.4492\n",
      "Epoch: 076, Train Loss: 8110.2505, Test Loss: 7972.7002\n",
      "Epoch: 077, Train Loss: 8061.7358, Test Loss: 7992.0703\n",
      "Epoch: 078, Train Loss: 8148.2144, Test Loss: 7940.1577\n",
      "Epoch: 079, Train Loss: 8119.6372, Test Loss: 8102.0142\n",
      "Epoch: 080, Train Loss: 8031.0801, Test Loss: 7996.1992\n",
      "Epoch: 081, Train Loss: 8096.1548, Test Loss: 7963.8555\n",
      "Epoch: 082, Train Loss: 8116.5620, Test Loss: 7986.7061\n",
      "Epoch: 083, Train Loss: 8173.5649, Test Loss: 7910.2871\n",
      "Epoch: 084, Train Loss: 8380.8447, Test Loss: 8093.8809\n",
      "Epoch: 085, Train Loss: 8357.7822, Test Loss: 8132.4468\n",
      "Epoch: 086, Train Loss: 8183.1309, Test Loss: 7944.3970\n",
      "Epoch: 087, Train Loss: 8187.7598, Test Loss: 7985.9092\n",
      "Epoch: 088, Train Loss: 8217.6914, Test Loss: 8178.6172\n",
      "Epoch: 089, Train Loss: 8038.9722, Test Loss: 8012.8809\n",
      "Epoch: 090, Train Loss: 8351.0029, Test Loss: 7985.9292\n",
      "Epoch: 091, Train Loss: 8079.5391, Test Loss: 8009.1499\n",
      "Epoch: 092, Train Loss: 8290.4307, Test Loss: 7979.1318\n",
      "Epoch: 093, Train Loss: 8037.8516, Test Loss: 8004.1997\n",
      "Epoch: 094, Train Loss: 8059.9165, Test Loss: 8042.6411\n",
      "Epoch: 095, Train Loss: 8046.2407, Test Loss: 8036.3379\n",
      "Epoch: 096, Train Loss: 8207.0010, Test Loss: 7936.8315\n",
      "Epoch: 097, Train Loss: 8070.8242, Test Loss: 7900.6406\n",
      "Epoch: 098, Train Loss: 8568.4971, Test Loss: 8454.1006\n",
      "Epoch: 099, Train Loss: 8149.7402, Test Loss: 8144.4385\n"
     ]
    }
   ],
   "source": [
    "# Training Loop GCN\n",
    "\n",
    "train_losses = []\n",
    "val_losses = []\n",
    "\n",
    "for epoch in range(1, 100):\n",
    "    tool.train(train_loader)\n",
    "    train_loss = tool.test(train_loader)\n",
    "    val_loss = tool.test(val_loader)\n",
    "    train_losses.append(train_loss.item())\n",
    "    val_losses.append(val_loss.item())\n",
    "    print(f'Epoch: {epoch:03d}, Train Loss: {train_loss:.4f}, Test Loss: {val_loss:.4f}')"
   ]
  },
  {
   "cell_type": "code",
   "execution_count": 8,
   "id": "6f40bba5-3815-48af-a6af-cee6c554ddf3",
   "metadata": {},
   "outputs": [
    {
     "data": {
      "image/png": "[encoded data removed]",
      "text/plain": [
       "<Figure size 600x400 with 1 Axes>"
      ]
     },
     "metadata": {},
     "output_type": "display_data"
    }
   ],
   "source": [
    "tool.plot_loss(train_losses, val_losses)"
   ]
  },
  {
   "cell_type": "code",
   "execution_count": 9,
   "id": "f5256a4b-3a7a-4568-9efa-5e3f99cd2703",
   "metadata": {
    "tags": []
   },
   "outputs": [
    {
     "data": {
      "image/png": "[encoded data removed]",
      "text/plain": [
       "<Figure size 600x400 with 1 Axes>"
      ]
     },
     "metadata": {},
     "output_type": "display_data"
    }
   ],
   "source": [
    "tool.predict(test_loader)"
   ]
  },
  {
   "cell_type": "code",
   "execution_count": 10,
   "id": "7096d77a-cbc4-489a-ab0f-3b07e467f906",
   "metadata": {},
   "outputs": [
    {
     "data": {
      "image/png": "[encoded data removed]",
      "text/plain": [
       "<Figure size 600x400 with 1 Axes>"
      ]
     },
     "metadata": {},
     "output_type": "display_data"
    }
   ],
   "source": [
    "tool.predict(train_loader_test)"
   ]
  },
  {
   "cell_type": "markdown",
   "id": "c308ba3d-801d-4494-9e1b-d8867181ba45",
   "metadata": {},
   "source": [
    " ## old stuff, now in Class\n"
   ]
  },
  {
   "cell_type": "code",
   "execution_count": 5,
   "id": "14dcded1-ad27-409d-b21f-315e61cdceeb",
   "metadata": {},
   "outputs": [],
   "source": [
    "# Model\n",
    "\n",
    "input_channels = 7\n",
    "\n",
    "class GCN(torch.nn.Module):\n",
    "    def __init__(self, hidden_channels):\n",
    "        super(GCN, self).__init__()\n",
    "        torch.manual_seed(12345)\n",
    "        self.conv1 = GCNConv(7, hidden_channels)\n",
    "        self.conv2 = GCNConv(hidden_channels, hidden_channels)\n",
    "        self.conv3 = GCNConv(hidden_channels, hidden_channels)\n",
    "        self.lin = Linear(hidden_channels, 1)\n",
    "\n",
    "    def forward(self, x, edge_index, batch):\n",
    "        # 1. Obtain node embeddings\n",
    "        x = self.conv1(x, edge_index)\n",
    "        x = x.relu()\n",
    "        x = self.conv2(x, edge_index)\n",
    "        x = x.relu()\n",
    "        x = self.conv3(x, edge_index)\n",
    "\n",
    "        # 2. Readout layer\n",
    "        x = global_mean_pool(x, batch)  # [batch_size, hidden_channels]\n",
    "\n",
    "        # 3. Apply a final sequential layer\n",
    "        x = F.dropout(x, p=0.5, training=self.training)\n",
    "        x = self.lin(x)\n",
    "        \n",
    "        return x"
   ]
  },
  {
   "cell_type": "code",
   "execution_count": 35,
   "id": "7213bb61-74f5-4ea5-883a-8db89010de6b",
   "metadata": {},
   "outputs": [
    {
     "name": "stdout",
     "output_type": "stream",
     "text": [
      "GCN(\n",
      "  (conv1): GCNConv(7, 16)\n",
      "  (conv2): GCNConv(16, 16)\n",
      "  (conv3): GCNConv(16, 16)\n",
      "  (lin): Linear(in_features=16, out_features=1, bias=True)\n",
      ")\n"
     ]
    }
   ],
   "source": [
    "model = GCN(hidden_channels=16)\n",
    "optimizer = torch.optim.Adam(model.parameters(), lr=0.01)\n",
    "criterion = torch.nn.MSELoss()\n",
    "\n",
    "def train():\n",
    "    model.train()\n",
    "\n",
    "    for data in train_loader:  # Iterate in batches over the training dataset.\n",
    "        out = model(data.x, data.edge_index, data.batch)  # Perform a single forward pass.\n",
    "        loss = criterion(out, data.y)  # Compute the loss.\n",
    "        loss.backward()  # Derive gradients.\n",
    "        optimizer.step()  # Update parameters based on gradients.\n",
    "        optimizer.zero_grad()  # Clear gradients.\n",
    "\n",
    "def test(loader):\n",
    "    model.eval()\n",
    "    mloss = 0\n",
    "    runs = 0\n",
    "    for data in loader:  # Iterate in batches over the training/test dataset\n",
    "        out = model(data.x, data.edge_index, data.batch)\n",
    "        mloss += criterion(out, data.y)\n",
    "        runs += 1\n",
    "    mloss /= runs\n",
    "    return mloss\n",
    "\n",
    "def predict_plot(predictions, labels, title = None, axlabels = ('clusters', 'generated particle energy')):\n",
    "    fig, ax = plt.subplots(figsize = (6, 4))\n",
    "    \n",
    "    histdata, bins, dummy = ax.hist(labels, bins = 50, histtype=\"step\", color = 'b', label = 'truth')\n",
    "    ax.hist(predictions, bins = bins, histtype=\"step\", color = 'r', label = 'predictions')\n",
    "    ax.set_yscale('log')\n",
    "    ax.set_ylabel(axlabels[0])\n",
    "    ax.set_xlabel(axlabels[1])\n",
    "    ax.legend()\n",
    "    if title:\n",
    "        ax.set_title(title)\n",
    "\n",
    "def predict(loader):\n",
    "    model.eval()\n",
    "    labels = []\n",
    "    pred = []\n",
    "    for data in loader:\n",
    "        pred.append(model(data.x, data.edge_index, data.batch).item())\n",
    "        labels.append(data.y.item()) \n",
    "        #rint(model(data.x, data.edge_index, data.batch).item())\n",
    "        #rint(data.y.item())\n",
    "    predict_plot(pred, labels)\n",
    "        \n",
    "print(model)"
   ]
  },
  {
   "cell_type": "code",
   "execution_count": 17,
   "id": "21b09fee-61bd-481e-9925-0441228c8940",
   "metadata": {},
   "outputs": [
    {
     "data": {
      "image/png": "[encoded data removed]",
      "text/plain": [
       "<Figure size 600x400 with 1 Axes>"
      ]
     },
     "metadata": {},
     "output_type": "display_data"
    }
   ],
   "source": [
    "plot_loss(train_losses, val_losses)"
   ]
  },
  {
   "cell_type": "code",
   "execution_count": 16,
   "id": "4389bdd3-584a-41d3-8c96-42af3591d943",
   "metadata": {},
   "outputs": [],
   "source": [
    "def plot_loss(train, val):\n",
    "    fig, ax = plt.subplots(figsize = (6, 4))\n",
    "    epoch = np.arange(1, len(train) + 1)\n",
    "    plt.plot(epoch, train, label = 'Training', color = 'blue')\n",
    "    plt.plot(epoch, val, label = 'Validation',linestyle = '--', color = 'blue')\n",
    "    plt.xlabel('Epoch')\n",
    "    plt.ylabel('Loss')\n",
    "    plt.yscale('log')\n",
    "    plt.legend()\n",
    "    plt.show()"
   ]
  },
  {
   "cell_type": "code",
   "execution_count": 18,
   "id": "5e628942-797d-4a0d-88c0-7fdaf96ab02c",
   "metadata": {},
   "outputs": [],
   "source": [
    "from source import gcn_tools"
   ]
  },
  {
   "cell_type": "code",
   "execution_count": 20,
   "id": "4dabc592-0e8d-49e4-9f1b-cc0676488ce8",
   "metadata": {},
   "outputs": [],
   "source": [
    "tool = gcn_tools.gcn_tools()"
   ]
  },
  {
   "cell_type": "code",
   "execution_count": 23,
   "id": "889c7da6-df3b-4cce-a801-fe3ba5144455",
   "metadata": {},
   "outputs": [
    {
     "name": "stdout",
     "output_type": "stream",
     "text": [
      "works <source.gcn_tools.gcn_tools object at 0x2b8c4cc908b0>\n"
     ]
    },
    {
     "data": {
      "text/plain": [
       "0"
      ]
     },
     "execution_count": 23,
     "metadata": {},
     "output_type": "execute_result"
    }
   ],
   "source": [
    "tool.test()"
   ]
  },
  {
   "cell_type": "code",
   "execution_count": null,
   "id": "03a2367e-f63a-439f-b9db-758c5c4b991a",
   "metadata": {},
   "outputs": [],
   "source": []
  }
 ],
 "metadata": {
  "kernelspec": {
   "display_name": "mds_regression_pyg",
   "language": "python",
   "name": "mds_regression_pyg"
  },
  "language_info": {
   "codemirror_mode": {
    "name": "ipython",
    "version": 3
   },
   "file_extension": ".py",
   "mimetype": "text/x-python",
   "name": "python",
   "nbconvert_exporter": "python",
   "pygments_lexer": "ipython3",
   "version": "3.9.13"
  }
 },
 "nbformat": 4,
 "nbformat_minor": 5
}
