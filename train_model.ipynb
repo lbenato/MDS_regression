{
 "cells": [
  {
   "cell_type": "code",
   "execution_count": 1,
   "metadata": {},
   "outputs": [
    {
     "name": "stderr",
     "output_type": "stream",
     "text": [
      "2023-12-05 18:34:13.168378: I tensorflow/core/platform/cpu_feature_guard.cc:193] This TensorFlow binary is optimized with oneAPI Deep Neural Network Library (oneDNN) to use the following CPU instructions in performance-critical operations:  AVX2 FMA\n",
      "To enable them in other operations, rebuild TensorFlow with the appropriate compiler flags.\n",
      "2023-12-05 18:34:13.352751: W tensorflow/compiler/xla/stream_executor/platform/default/dso_loader.cc:64] Could not load dynamic library 'libcudart.so.11.0'; dlerror: libcudart.so.11.0: cannot open shared object file: No such file or directory\n",
      "2023-12-05 18:34:13.352788: I tensorflow/compiler/xla/stream_executor/cuda/cudart_stub.cc:29] Ignore above cudart dlerror if you do not have a GPU set up on your machine.\n",
      "2023-12-05 18:34:14.812219: W tensorflow/compiler/xla/stream_executor/platform/default/dso_loader.cc:64] Could not load dynamic library 'libnvinfer.so.7'; dlerror: libnvinfer.so.7: cannot open shared object file: No such file or directory\n",
      "2023-12-05 18:34:14.812334: W tensorflow/compiler/xla/stream_executor/platform/default/dso_loader.cc:64] Could not load dynamic library 'libnvinfer_plugin.so.7'; dlerror: libnvinfer_plugin.so.7: cannot open shared object file: No such file or directory\n",
      "2023-12-05 18:34:14.812345: W tensorflow/compiler/tf2tensorrt/utils/py_utils.cc:38] TF-TRT Warning: Cannot dlopen some TensorRT libraries. If you would like to use Nvidia GPU with TensorRT, please make sure the missing libraries mentioned above are installed properly.\n",
      "2023-12-05 18:34:18.353371: W tensorflow/compiler/xla/stream_executor/platform/default/dso_loader.cc:64] Could not load dynamic library 'libcuda.so.1'; dlerror: libcuda.so.1: cannot open shared object file: No such file or directory\n",
      "2023-12-05 18:34:18.353428: W tensorflow/compiler/xla/stream_executor/cuda/cuda_driver.cc:265] failed call to cuInit: UNKNOWN ERROR (303)\n",
      "2023-12-05 18:34:18.353457: I tensorflow/compiler/xla/stream_executor/cuda/cuda_diagnostics.cc:156] kernel driver does not appear to be running on this host (batch1377.desy.de): /proc/driver/nvidia/version does not exist\n",
      "2023-12-05 18:34:18.353849: I tensorflow/core/platform/cpu_feature_guard.cc:193] This TensorFlow binary is optimized with oneAPI Deep Neural Network Library (oneDNN) to use the following CPU instructions in performance-critical operations:  AVX2 FMA\n",
      "To enable them in other operations, rebuild TensorFlow with the appropriate compiler flags.\n"
     ]
    }
   ],
   "source": [
    "from source import Dataset\n",
    "from source import tools\n",
    "import awkward as ak\n",
    "import glob\n",
    "import time\n",
    "\n",
    "import tensorflow as tf\n",
    "from tensorflow import keras\n",
    "from tensorflow.keras import optimizers\n",
    "from keras import layers\n",
    "\n",
    "import os\n",
    "import tempfile\n",
    "\n",
    "import matplotlib as mpl\n",
    "import matplotlib.pyplot as plt\n",
    "import numpy as np\n",
    "import pandas as pd\n",
    "import seaborn as sns\n",
    "\n",
    "import sklearn\n",
    "from sklearn.metrics import confusion_matrix\n",
    "from sklearn.model_selection import train_test_split\n",
    "from sklearn.preprocessing import StandardScaler"
   ]
  },
  {
   "cell_type": "code",
   "execution_count": 2,
   "metadata": {},
   "outputs": [
    {
     "name": "stdout",
     "output_type": "stream",
     "text": [
      "['cscRechitClusterX', 'cscRechitClusterY', 'cscRechitClusterZ', 'cscRechitClusterTimeWeighted', 'cscRechitClusterTimeSpreadWeightedAll', 'cscRechitClusternXY', 'cscRechitClusternZ', 'cscRechitClusterXSpread', 'cscRechitClusterYSpread', 'cscRechitClusterZSpread', 'cscRechitClusterXYSpread', 'cscRechitClusterRSpread', 'cscRechitClusterEtaPhiSpread', 'cscRechitClusterEtaSpread', 'cscRechitClusterPhiSpread', 'cscRechitClusterDeltaRSpread', 'cscRechitClusterMajorAxis', 'cscRechitClusterMinorAxis', 'cscRechitClusterSkewX', 'cscRechitClusterSkewY', 'cscRechitClusterSkewZ', 'cscRechitClusterKurtX', 'cscRechitClusterKurtY', 'cscRechitClusterKurtZ', 'cscRechitClusterSize']\n"
     ]
    }
   ],
   "source": [
    "#selecting features \n",
    "branches_to_train = [\n",
    "\"cscRechitClusterX\",\n",
    "\"cscRechitClusterY\",\n",
    "\"cscRechitClusterZ\",\n",
    "\"cscRechitClusterTimeWeighted\",\n",
    "\"cscRechitClusterTimeSpreadWeightedAll\",\n",
    "\"cscRechitClusternXY\",\n",
    "\"cscRechitClusternZ\",\n",
    "\"cscRechitClusterXSpread\",\n",
    "\"cscRechitClusterYSpread\",\n",
    "\"cscRechitClusterZSpread\",\n",
    "\"cscRechitClusterXYSpread\",\n",
    "\"cscRechitClusterRSpread\",\n",
    "\"cscRechitClusterEtaPhiSpread\",\n",
    "\"cscRechitClusterEtaSpread\",\n",
    "\"cscRechitClusterPhiSpread\",\n",
    "\"cscRechitClusterDeltaRSpread\",\n",
    "\"cscRechitClusterMajorAxis\",\n",
    "\"cscRechitClusterMinorAxis\",\n",
    "\"cscRechitClusterSkewX\",\n",
    "\"cscRechitClusterSkewY\",\n",
    "\"cscRechitClusterSkewZ\",\n",
    "\"cscRechitClusterKurtX\",\n",
    "\"cscRechitClusterKurtY\",\n",
    "\"cscRechitClusterKurtZ\",\n",
    "\"cscRechitClusterSize\",\n",
    "]\n",
    "\n",
    "#padded_branches_to_train = []\n",
    "#for col in branches_to_train:           \n",
    "#    #creates padded column for each jet of each \"Jets/Jets.\" key\n",
    "#    for icol in range(10):\n",
    "#        new_col_name = col+\"_\"+str(icol)\n",
    "#        padded_branches_to_train.append(new_col_name)\n",
    "\n",
    "#branches_to_train = [\n",
    "#    \"cscRechitClusterSize\",\n",
    "#]\n",
    "\n",
    "print(branches_to_train)\n",
    "truth_value = \"cscRechitCluster_match_gLLP_e\"\n"
   ]
  },
  {
   "cell_type": "code",
   "execution_count": 3,
   "metadata": {},
   "outputs": [],
   "source": [
    "#dataset_signal = Dataset.Dataset(\"signal\")\n",
    "#loaded_array_signal = dataset_signal.load(\"/nfs/dust/cms/user/lbenato/ML_LLP/MDS_regression/datasets/test_v6.h5\")"
   ]
  },
  {
   "cell_type": "code",
   "execution_count": 4,
   "metadata": {},
   "outputs": [
    {
     "name": "stdout",
     "output_type": "stream",
     "text": [
      "Opening file  /nfs/dust/cms/user/loewetob/ML_LLP/MDS_regression/datasets/test_df_v6.h5\n"
     ]
    }
   ],
   "source": [
    "dataset_signal = Dataset.Dataset(\"signal\")\n",
    "df_signal = dataset_signal.load_df(\"/nfs/dust/cms/user/loewetob/ML_LLP/MDS_regression/datasets/test_df_v6.h5\")"
   ]
  },
  {
   "cell_type": "code",
   "execution_count": 5,
   "metadata": {},
   "outputs": [
    {
     "data": {
      "text/plain": [
       "(90016, 79)"
      ]
     },
     "execution_count": 5,
     "metadata": {},
     "output_type": "execute_result"
    }
   ],
   "source": [
    "df_signal.shape"
   ]
  },
  {
   "cell_type": "code",
   "execution_count": 6,
   "metadata": {},
   "outputs": [],
   "source": [
    "#Consider only data with proper gen matching\n",
    "df_signal = df_signal[ df_signal[\"cscRechitCluster_match_gLLP\"]>=1 ]"
   ]
  },
  {
   "cell_type": "code",
   "execution_count": 7,
   "metadata": {},
   "outputs": [
    {
     "data": {
      "text/plain": [
       "(79780, 79)"
      ]
     },
     "execution_count": 7,
     "metadata": {},
     "output_type": "execute_result"
    }
   ],
   "source": [
    "df_signal.shape"
   ]
  },
  {
   "cell_type": "code",
   "execution_count": 8,
   "metadata": {},
   "outputs": [
    {
     "name": "stdout",
     "output_type": "stream",
     "text": [
      "          weight  evtNum  cscRechitCluster_match_gLLP  \\\n",
      "entry                                                   \n",
      "0      23.164499  502880                         True   \n",
      "1      23.164499  502904                         True   \n",
      "2      23.164499  502907                         True   \n",
      "3      23.164499  502907                         True   \n",
      "4      23.164499  502929                         True   \n",
      "...          ...     ...                          ...   \n",
      "90008  23.164499  552795                         True   \n",
      "90009  23.164499  552829                         True   \n",
      "90011  23.164499  552858                         True   \n",
      "90012  23.164499  552905                         True   \n",
      "90014  23.164499  552967                         True   \n",
      "\n",
      "       cscRechitCluster_match_gLLP_minDeltaR  \\\n",
      "entry                                          \n",
      "0                                   0.021920   \n",
      "1                                   0.019714   \n",
      "2                                   0.076979   \n",
      "3                                   0.013711   \n",
      "4                                   0.230313   \n",
      "...                                      ...   \n",
      "90008                               0.028581   \n",
      "90009                               0.024280   \n",
      "90011                               0.019510   \n",
      "90012                               0.043339   \n",
      "90014                               0.043587   \n",
      "\n",
      "       cscRechitCluster_match_gLLP_index  cscRechitCluster_match_gLLP_eta  \\\n",
      "entry                                                                       \n",
      "0                                      0                        -2.093896   \n",
      "1                                      0                        -1.533004   \n",
      "2                                      1                        -1.429658   \n",
      "3                                      0                        -1.550052   \n",
      "4                                      0                        -1.274899   \n",
      "...                                  ...                              ...   \n",
      "90008                                  0                        -2.077198   \n",
      "90009                                  0                        -1.510345   \n",
      "90011                                  0                         1.296651   \n",
      "90012                                  1                        -2.017064   \n",
      "90014                                  1                         1.226646   \n",
      "\n",
      "       cscRechitCluster_match_gLLP_phi  cscRechitCluster_match_gLLP_decay_r  \\\n",
      "entry                                                                         \n",
      "0                             2.359756                           201.741638   \n",
      "1                             2.072294                           416.863739   \n",
      "2                             1.592075                           285.706299   \n",
      "3                            -1.773696                           266.036346   \n",
      "4                             2.053477                           254.872650   \n",
      "...                                ...                                  ...   \n",
      "90008                         1.921864                           140.769135   \n",
      "90009                        -2.182787                           230.464218   \n",
      "90011                        -2.176770                           339.710938   \n",
      "90012                         2.430563                           249.698868   \n",
      "90014                        -1.918645                           471.164856   \n",
      "\n",
      "       cscRechitCluster_match_gLLP_decay_z  cscRechitCluster_match_gLLP_csc  \\\n",
      "entry                                                                         \n",
      "0                              -807.699829                             True   \n",
      "1                              -917.223328                             True   \n",
      "2                              -559.822205                             True   \n",
      "3                              -595.773254                             True   \n",
      "4                              -419.333923                             True   \n",
      "...                                    ...                              ...   \n",
      "90008                          -552.425842                             True   \n",
      "90009                          -494.936890                             True   \n",
      "90011                           574.616028                             True   \n",
      "90012                          -923.552002                             True   \n",
      "90014                           744.273438                             True   \n",
      "\n",
      "       ...  cscRechitClusterNRechitChamberMinus11  \\\n",
      "entry  ...                                          \n",
      "0      ...                                      6   \n",
      "1      ...                                      0   \n",
      "2      ...                                      0   \n",
      "3      ...                                      0   \n",
      "4      ...                                      8   \n",
      "...    ...                                    ...   \n",
      "90008  ...                                    278   \n",
      "90009  ...                                      8   \n",
      "90011  ...                                      0   \n",
      "90012  ...                                      0   \n",
      "90014  ...                                      0   \n",
      "\n",
      "       cscRechitClusterNRechitChamberMinus12  \\\n",
      "entry                                          \n",
      "0                                          0   \n",
      "1                                          0   \n",
      "2                                        704   \n",
      "3                                        376   \n",
      "4                                        118   \n",
      "...                                      ...   \n",
      "90008                                      0   \n",
      "90009                                    730   \n",
      "90011                                      0   \n",
      "90012                                      0   \n",
      "90014                                      0   \n",
      "\n",
      "       cscRechitClusterNRechitChamberMinus13  \\\n",
      "entry                                          \n",
      "0                                          0   \n",
      "1                                          0   \n",
      "2                                          0   \n",
      "3                                          0   \n",
      "4                                          0   \n",
      "...                                      ...   \n",
      "90008                                      0   \n",
      "90009                                      0   \n",
      "90011                                      0   \n",
      "90012                                      0   \n",
      "90014                                      0   \n",
      "\n",
      "       cscRechitClusterNRechitChamberMinus21  \\\n",
      "entry                                          \n",
      "0                                         91   \n",
      "1                                          0   \n",
      "2                                          0   \n",
      "3                                         33   \n",
      "4                                          0   \n",
      "...                                      ...   \n",
      "90008                                      0   \n",
      "90009                                      0   \n",
      "90011                                      0   \n",
      "90012                                      0   \n",
      "90014                                      0   \n",
      "\n",
      "       cscRechitClusterNRechitChamberMinus22  \\\n",
      "entry                                          \n",
      "0                                          0   \n",
      "1                                          0   \n",
      "2                                         90   \n",
      "3                                        155   \n",
      "4                                          0   \n",
      "...                                      ...   \n",
      "90008                                      0   \n",
      "90009                                      6   \n",
      "90011                                      0   \n",
      "90012                                      0   \n",
      "90014                                      0   \n",
      "\n",
      "       cscRechitClusterNRechitChamberMinus31  \\\n",
      "entry                                          \n",
      "0                                        195   \n",
      "1                                          0   \n",
      "2                                          0   \n",
      "3                                          0   \n",
      "4                                          0   \n",
      "...                                      ...   \n",
      "90008                                      0   \n",
      "90009                                      0   \n",
      "90011                                      0   \n",
      "90012                                     70   \n",
      "90014                                      0   \n",
      "\n",
      "       cscRechitClusterNRechitChamberMinus32  \\\n",
      "entry                                          \n",
      "0                                          0   \n",
      "1                                         27   \n",
      "2                                          0   \n",
      "3                                         12   \n",
      "4                                          0   \n",
      "...                                      ...   \n",
      "90008                                      0   \n",
      "90009                                    175   \n",
      "90011                                      0   \n",
      "90012                                      0   \n",
      "90014                                      0   \n",
      "\n",
      "       cscRechitClusterNRechitChamberMinus41  \\\n",
      "entry                                          \n",
      "0                                         40   \n",
      "1                                          0   \n",
      "2                                          0   \n",
      "3                                          0   \n",
      "4                                          0   \n",
      "...                                      ...   \n",
      "90008                                      0   \n",
      "90009                                      0   \n",
      "90011                                      0   \n",
      "90012                                   1177   \n",
      "90014                                      0   \n",
      "\n",
      "       cscRechitClusterNRechitChamberMinus42  cscRechitClusterMet_dPhi  \n",
      "entry                                                                   \n",
      "0                                          0                  0.473428  \n",
      "1                                        311                  1.248036  \n",
      "2                                          0                 -2.188321  \n",
      "3                                         14                  0.738918  \n",
      "4                                          0                  2.813964  \n",
      "...                                      ...                       ...  \n",
      "90008                                      0                  2.259697  \n",
      "90009                                    108                 -1.416921  \n",
      "90011                                      0                  0.310996  \n",
      "90012                                      0                 -0.554559  \n",
      "90014                                      0                  1.392084  \n",
      "\n",
      "[79780 rows x 79 columns]\n"
     ]
    }
   ],
   "source": [
    "print(df_signal)"
   ]
  },
  {
   "cell_type": "code",
   "execution_count": 9,
   "metadata": {},
   "outputs": [],
   "source": [
    "#splitting the data into train, test and validation\n",
    "#from sklearn.model_selection import train_test_split\n",
    "#\n",
    "#loaded_array_signal_64 = dataset_signal.get_unstructured_numpy(loaded_array_signal)\n",
    "#print(loaded_array_signal.dtype)\n",
    "#print(loaded_array_signal_64.dtype)\n",
    "#    \n",
    "#loaded_array_signal_df = loaded_array_signal_64\n",
    "#\n",
    "#print(loaded_array_signal_64)"
   ]
  },
  {
   "cell_type": "code",
   "execution_count": 10,
   "metadata": {},
   "outputs": [
    {
     "name": "stdout",
     "output_type": "stream",
     "text": [
      "First example:\n",
      "signal training features (47868, 25)\n",
      "signal training labels (47868,)\n",
      "signal test features (15956, 25)\n",
      "signal test labels (15956,)\n",
      "signal val features (15956, 25)\n",
      "signal val labels (15956,)\n",
      "[199.01322937 182.73242188 113.65991974 ... 279.75112915 227.94953918\n",
      "  96.92224884]\n",
      "       cscRechitClusterX  cscRechitClusterY  cscRechitClusterZ  \\\n",
      "entry                                                            \n",
      "84388        -420.029541         -72.700020       -1037.113525   \n",
      "72213         374.567383         -37.660690        -986.000305   \n",
      "25374        -242.311111        -568.895264        1023.641174   \n",
      "65043         -91.565620         488.775360        -700.443542   \n",
      "32023          24.781168        -511.388153        1037.254395   \n",
      "...                  ...                ...                ...   \n",
      "86173         198.232788        -409.914398        -900.760071   \n",
      "58673         351.279755        -278.464539         709.650574   \n",
      "21699        -149.724426        -163.714813       -1015.114685   \n",
      "87592         270.359711          22.347942        -965.247925   \n",
      "47558         610.227295        -203.078964         694.185242   \n",
      "\n",
      "       cscRechitClusterTimeWeighted  cscRechitClusterTimeSpreadWeightedAll  \\\n",
      "entry                                                                        \n",
      "84388                     -1.386655                               9.502831   \n",
      "72213                      0.021406                              10.633218   \n",
      "25374                      1.014833                              12.813964   \n",
      "65043                     -0.947825                              13.650786   \n",
      "32023                     -0.581968                              10.413338   \n",
      "...                             ...                                    ...   \n",
      "86173                     -0.375903                              11.484898   \n",
      "58673                      3.432959                              10.623708   \n",
      "21699                     -0.360406                               9.480095   \n",
      "87592                      0.668002                              10.216684   \n",
      "47558                     -1.726721                               8.269004   \n",
      "\n",
      "       cscRechitClusternXY  cscRechitClusternZ  cscRechitClusterXSpread  \\\n",
      "entry                                                                     \n",
      "84388                  175                 175                44.428841   \n",
      "72213                  447                 447                47.481976   \n",
      "25374                  231                 231                22.836668   \n",
      "65043                   59                  59                17.992304   \n",
      "32023                   59                  59                11.479397   \n",
      "...                    ...                 ...                      ...   \n",
      "86173                  157                 157                27.472069   \n",
      "58673                  105                 105                26.861692   \n",
      "21699                 1199                1199                24.591759   \n",
      "87592                  793                 793                21.584080   \n",
      "47558                  155                 155                19.724249   \n",
      "\n",
      "       cscRechitClusterYSpread  cscRechitClusterZSpread  ...  \\\n",
      "entry                                                    ...   \n",
      "84388                15.648067                 0.088217  ...   \n",
      "72213                20.184423                41.642776  ...   \n",
      "25374                26.888157                31.272045  ...   \n",
      "65043                36.318188                 8.670883  ...   \n",
      "32023                 7.413624                 0.014200  ...   \n",
      "...                        ...                      ...  ...   \n",
      "86173                30.061895                76.442574  ...   \n",
      "58673                27.250837                28.534286  ...   \n",
      "21699                22.817383                36.026512  ...   \n",
      "87592                16.572441                44.441513  ...   \n",
      "47558                24.255180                 0.045289  ...   \n",
      "\n",
      "       cscRechitClusterDeltaRSpread  cscRechitClusterMajorAxis  \\\n",
      "entry                                                            \n",
      "84388                      0.099700                   0.094474   \n",
      "72213                      0.117213                   0.104678   \n",
      "25374                      0.058683                   0.049326   \n",
      "65043                      0.079864                   0.074039   \n",
      "32023                      0.025935                   0.022406   \n",
      "...                             ...                        ...   \n",
      "86173                      0.079794                   0.067430   \n",
      "58673                      0.087225                   0.083591   \n",
      "21699                      0.139929                   0.106472   \n",
      "87592                      0.102770                   0.083485   \n",
      "47558                      0.044273                   0.038824   \n",
      "\n",
      "       cscRechitClusterMinorAxis  cscRechitClusterSkewX  \\\n",
      "entry                                                     \n",
      "84388                   0.031855             -30.275604   \n",
      "72213                   0.052740              18.879749   \n",
      "25374                   0.031790              39.291759   \n",
      "65043                   0.029941               7.154500   \n",
      "32023                   0.013061               1.867012   \n",
      "...                          ...                    ...   \n",
      "86173                   0.042665              22.614584   \n",
      "58673                   0.024915             -17.101192   \n",
      "21699                   0.090795              -3.270294   \n",
      "87592                   0.059932               4.961222   \n",
      "47558                   0.021280               2.335584   \n",
      "\n",
      "       cscRechitClusterSkewY  cscRechitClusterSkewZ  cscRechitClusterKurtX  \\\n",
      "entry                                                                        \n",
      "84388              -1.409975              -0.059465              -1.360063   \n",
      "72213              -6.582167              -0.018116              -0.453583   \n",
      "25374              32.483822             -61.985744               4.247828   \n",
      "65043             -17.184704              -4.559062              -1.222056   \n",
      "32023               5.542214              -0.011313              -1.396223   \n",
      "...                      ...                    ...                    ...   \n",
      "86173             -18.977821             -53.824299               2.547370   \n",
      "58673              13.211326              75.793915               0.839489   \n",
      "21699              -9.373677              46.152618              -0.506219   \n",
      "87592               1.445743              -3.928413              -0.602227   \n",
      "47558             -26.464912               0.010236              -0.850694   \n",
      "\n",
      "       cscRechitClusterKurtY  cscRechitClusterKurtZ  cscRechitClusterSize  \n",
      "entry                                                                      \n",
      "84388              -0.169678              -1.379811                   175  \n",
      "72213               1.049641              -1.729887                   447  \n",
      "25374               1.919344               2.065251                   231  \n",
      "65043              -1.676180              -1.723554                    59  \n",
      "32023              -0.313556              -0.262042                    59  \n",
      "...                      ...                    ...                   ...  \n",
      "86173              -0.506141              -1.142818                   157  \n",
      "58673              -0.967426               7.676893                   105  \n",
      "21699               0.740425              -0.234789                  1199  \n",
      "87592               0.724375              -1.992176                   793  \n",
      "47558              -0.158216              -1.289727                   155  \n",
      "\n",
      "[47868 rows x 25 columns]\n"
     ]
    }
   ],
   "source": [
    "# Splitting the loaded_array_signal data\n",
    "#train_data, testval_data = train_test_split(loaded_array_signal_df, train_size=0.6)\n",
    "train_data, testval_data = train_test_split(df_signal, train_size=0.6)\n",
    "test_data, val_data = train_test_split(testval_data, test_size=0.5)\n",
    "\n",
    "# assigning labels\n",
    "train_labels = np.array(train_data[truth_value])#([1.]*len(train_data))\n",
    "test_labels = np.array(test_data[truth_value])#([1.]*len(test_data))\n",
    "val_labels = np.array(val_data[truth_value])#([1.]*len(val_data))\n",
    "\n",
    "train_data = train_data[branches_to_train]\n",
    "test_data = test_data[branches_to_train]\n",
    "val_data = val_data[branches_to_train]\n",
    "\n",
    "# check the shape\n",
    "print(\"First example:\")\n",
    "print(\"signal training features\", train_data.shape)\n",
    "print(\"signal training labels\", train_labels.shape)\n",
    "print(\"signal test features\", test_data.shape)\n",
    "print(\"signal test labels\", test_labels.shape)\n",
    "print(\"signal val features\", val_data.shape)\n",
    "print(\"signal val labels\", val_labels.shape)\n",
    "\n",
    "print(train_labels)\n",
    "print(train_data[branches_to_train])\n",
    "\n",
    "#print(type(train_data), type(train_labels))\n",
    "n_features = train_data.shape[1]"
   ]
  },
  {
   "cell_type": "code",
   "execution_count": 11,
   "metadata": {},
   "outputs": [
    {
     "data": {
      "text/plain": [
       "25"
      ]
     },
     "execution_count": 11,
     "metadata": {},
     "output_type": "execute_result"
    }
   ],
   "source": [
    "n_features"
   ]
  },
  {
   "cell_type": "code",
   "execution_count": 12,
   "metadata": {},
   "outputs": [
    {
     "name": "stdout",
     "output_type": "stream",
     "text": [
      "training features (47868, 25)\n",
      "training labels (47868,)\n",
      "test features (15956, 25)\n",
      "test labels (15956,)\n",
      "val features (15956, 25)\n",
      "val labels (15956,)\n",
      "[110.79071045  94.03301239 324.23059082 ...  78.27667236 161.04466248\n",
      "  50.52373505]\n"
     ]
    }
   ],
   "source": [
    "# concatenate data\n",
    "#train_data = np.concatenate([bkg_train_data,sig_train_data], axis=0)\n",
    "#test_data = np.concatenate([bkg_test_data, sig_test_data], axis=0)\n",
    "#val_data = np.concatenate([bkg_val_data, sig_val_data], axis=0)\n",
    "\n",
    "#train_labels = np.concatenate([bkg_train_labels, sig_train_labels], axis=0)\n",
    "#test_labels = np.concatenate([bkg_test_labels, sig_test_labels], axis=0)\n",
    "#val_labels = np.concatenate([bkg_val_labels, sig_val_labels], axis=0)\n",
    "\n",
    "print(\"training features\", train_data.shape)\n",
    "print(\"training labels\", train_labels.shape)\n",
    "print(\"test features\", test_data.shape)\n",
    "print(\"test labels\", test_labels.shape)\n",
    "print(\"val features\", val_data.shape)\n",
    "print(\"val labels\", val_labels.shape)\n",
    "print(val_labels)"
   ]
  },
  {
   "cell_type": "raw",
   "metadata": {},
   "source": [
    "# TODO: standard scalar. Fit on train_data and apply to test_data and val_data\n",
    "#It affects the results.\n",
    "scaler = StandardScaler()\n",
    "train_data = scaler.fit_transform(train_data)\n",
    "\n",
    "val_data = scaler.transform(val_data)\n",
    "test_data = scaler.transform(test_data)"
   ]
  },
  {
   "cell_type": "code",
   "execution_count": 13,
   "metadata": {},
   "outputs": [
    {
     "name": "stdout",
     "output_type": "stream",
     "text": [
      "shuffled training features        cscRechitClusterX  cscRechitClusterY  cscRechitClusterZ  \\\n",
      "entry                                                            \n",
      "30667          57.752052        -187.762177        -600.031799   \n",
      "63877        -450.587189         -68.538643        -819.226074   \n",
      "19810        -178.435547         501.905304         697.198059   \n",
      "73243         203.608841         -39.287140         990.071045   \n",
      "49746         -96.158745        -222.519318         942.624268   \n",
      "...                  ...                ...                ...   \n",
      "30312         179.876923        -154.623260       -1018.670471   \n",
      "35602         117.167793         -22.714344        -610.494141   \n",
      "38016         185.505386        -387.788452        -697.474121   \n",
      "5043         -269.453278          55.211357        -682.170776   \n",
      "67546        -217.071823        -521.970947         693.657898   \n",
      "\n",
      "       cscRechitClusterTimeWeighted  cscRechitClusterTimeSpreadWeightedAll  \\\n",
      "entry                                                                        \n",
      "30667                      1.898370                               7.932358   \n",
      "63877                     -3.636743                              11.624251   \n",
      "19810                      0.640272                               8.217389   \n",
      "73243                      0.587689                              11.618100   \n",
      "49746                      0.225411                              10.396567   \n",
      "...                             ...                                    ...   \n",
      "30312                      1.204550                               9.020764   \n",
      "35602                      0.693160                               7.347211   \n",
      "38016                      0.884583                               9.024793   \n",
      "5043                       1.192691                               9.480262   \n",
      "67546                     -1.118109                              12.488869   \n",
      "\n",
      "       cscRechitClusternXY  cscRechitClusternZ  cscRechitClusterXSpread  \\\n",
      "entry                                                                     \n",
      "30667                  255                 255                23.800991   \n",
      "63877                  200                 200                33.713779   \n",
      "19810                  134                 134                31.644535   \n",
      "73243                  908                 908                27.144949   \n",
      "49746                  177                 177                11.663437   \n",
      "...                    ...                 ...                      ...   \n",
      "30312                  909                 909                26.488115   \n",
      "35602                  112                 112                 7.953937   \n",
      "38016                   50                  50                30.218876   \n",
      "5043                   357                 357                52.361835   \n",
      "67546                  314                 314                32.271645   \n",
      "\n",
      "       cscRechitClusterYSpread  cscRechitClusterZSpread  ...  \\\n",
      "entry                                                    ...   \n",
      "30667                22.007715                14.640016  ...   \n",
      "63877                17.163382                18.790977  ...   \n",
      "19810                52.910362                25.798460  ...   \n",
      "73243                20.197243                43.831329  ...   \n",
      "49746                10.058323                66.711105  ...   \n",
      "...                        ...                      ...  ...   \n",
      "30312                26.555994                11.204571  ...   \n",
      "35602                16.438807                10.769371  ...   \n",
      "38016                20.385601                13.643372  ...   \n",
      "5043                 25.655369               131.114410  ...   \n",
      "67546                40.489208                 0.096278  ...   \n",
      "\n",
      "       cscRechitClusterDeltaRSpread  cscRechitClusterMajorAxis  \\\n",
      "entry                                                            \n",
      "30667                      0.165361                   0.123346   \n",
      "63877                      0.074157                   0.064011   \n",
      "19810                      0.093320                   0.075630   \n",
      "73243                      0.136540                   0.100621   \n",
      "49746                      0.081397                   0.068360   \n",
      "...                             ...                        ...   \n",
      "30312                      0.154932                   0.115617   \n",
      "35602                      0.148122                   0.136184   \n",
      "38016                      0.087343                   0.083783   \n",
      "5043                       0.109828                   0.084749   \n",
      "67546                      0.082571                   0.069980   \n",
      "\n",
      "       cscRechitClusterMinorAxis  cscRechitClusterSkewX  \\\n",
      "entry                                                     \n",
      "30667                   0.110137               4.351809   \n",
      "63877                   0.037441              29.003059   \n",
      "19810                   0.054669               5.246121   \n",
      "73243                   0.092296              48.904556   \n",
      "49746                   0.044185               2.599829   \n",
      "...                          ...                    ...   \n",
      "30312                   0.103134              10.857772   \n",
      "35602                   0.058258               3.081128   \n",
      "38016                   0.024684               0.163503   \n",
      "5043                    0.069855             -49.623871   \n",
      "67546                   0.043827             -23.757000   \n",
      "\n",
      "       cscRechitClusterSkewY  cscRechitClusterSkewZ  cscRechitClusterKurtX  \\\n",
      "entry                                                                        \n",
      "30667              11.612913              -1.494778              -0.630934   \n",
      "63877              -7.727433             -95.237717               1.234482   \n",
      "19810             -25.448505             109.318916              -0.651093   \n",
      "73243              10.261845               2.436203               3.581339   \n",
      "49746              -1.837106             -20.845648               0.278871   \n",
      "...                      ...                    ...                    ...   \n",
      "30312              -0.247817             -10.544346              -0.033440   \n",
      "35602              -1.707754              19.897465              -0.465714   \n",
      "38016               9.285795              -1.092618              -0.927712   \n",
      "5043               49.033421            -147.705719               0.362550   \n",
      "67546               2.462772               0.120323               0.776953   \n",
      "\n",
      "       cscRechitClusterKurtY  cscRechitClusterKurtZ  cscRechitClusterSize  \n",
      "entry                                                                      \n",
      "30667               0.342643              -1.989532                   255  \n",
      "63877               0.720060              24.792799                   200  \n",
      "19810              -0.234915              16.495655                   134  \n",
      "73243               4.460156              -1.954212                   908  \n",
      "49746              -0.287713              -1.302009                   177  \n",
      "...                      ...                    ...                   ...  \n",
      "30312              -0.275149              -1.114243                   909  \n",
      "35602              -1.312978               1.413655                   112  \n",
      "38016              -0.827909              -1.993581                    50  \n",
      "5043                2.847667               0.151737                   357  \n",
      "67546              -1.164528              -0.104961                   314  \n",
      "\n",
      "[47868 rows x 25 columns]\n",
      "shuffled training features (47868, 25)\n",
      "shuffled training labels [260.51358032 181.16201782  89.73949432 ...  54.7366333   71.17505646\n",
      "  94.03398132]\n",
      "shuffled training labels (47868,)\n",
      "(47868, 25)\n"
     ]
    }
   ],
   "source": [
    " # shuffle\n",
    "\n",
    "X_train, Y_train = sklearn.utils.shuffle(train_data, train_labels, random_state=0) # change to random_state=None for full randomness\n",
    "X_test, Y_test = sklearn.utils.shuffle(test_data, test_labels, random_state=0) # change to random_state=None for full randomness\n",
    "X_val, Y_val = sklearn.utils.shuffle(val_data, val_labels, random_state=0) # change to random_state=None for full randomness\n",
    "\n",
    "print(\"shuffled training features\", X_train)\n",
    "print(\"shuffled training features\", X_train.shape)\n",
    "print(\"shuffled training labels\", Y_train)\n",
    "print(\"shuffled training labels\", Y_train.shape)\n",
    "print(train_data.shape)"
   ]
  },
  {
   "cell_type": "code",
   "execution_count": 14,
   "metadata": {},
   "outputs": [],
   "source": [
    "#defining the model and metrics\n",
    "METRICS = [\n",
    "      keras.metrics.BinaryCrossentropy(name='cross entropy'),  # same as model's loss\n",
    "      keras.metrics.MeanSquaredError(name='Brier score'),\n",
    "      keras.metrics.TruePositives(name='tp'),\n",
    "      keras.metrics.FalsePositives(name='fp'),\n",
    "      keras.metrics.TrueNegatives(name='tn'),\n",
    "      keras.metrics.FalseNegatives(name='fn'), \n",
    "      keras.metrics.BinaryAccuracy(name='accuracy'),\n",
    "      keras.metrics.Precision(name='precision'),\n",
    "      keras.metrics.Recall(name='recall'),\n",
    "      keras.metrics.AUC(name='auc'),\n",
    "      keras.metrics.AUC(name='prc', curve='PR'), # precision-recall curve\n",
    "]\n",
    "\n",
    "\n",
    "def make_model(metrics=METRICS, output_bias=None):\n",
    "    if output_bias is not None:\n",
    "        output_bias = tf.keras.initializers.Constant(output_bias)\n",
    "    #initializer = tf.keras.initializers.RandomNormal(mean=0., stddev=1.)\n",
    "    #initializer = tf.keras.initializers.RandomUniform(minval=0., maxval=200, seed=None)\n",
    "    initializer = tf.keras.initializers.Constant(value=100)\n",
    "\n",
    "    \n",
    "    model = keras.Sequential([\n",
    "        #keras.layers.Dense(5, activation='relu', input_shape=(n_features,), kernel_initializer=initializer, bias_initializer=None),\n",
    "        #keras.layers.Dropout(0.5),\n",
    "        #keras.layers.Dense(1, activation='relu', bias_initializer=output_bias, kernel_initializer=initializer)\n",
    "        #Attempt:\n",
    "        keras.layers.Dense(50, activation='relu', input_shape=(n_features,), kernel_initializer=initializer, bias_initializer=None),\n",
    "        keras.layers.Dense(30, activation='relu'),\n",
    "        keras.layers.Dense(20, activation='relu'),\n",
    "        keras.layers.Dense(5, activation='relu'),\n",
    "        #keras.layers.Dense(1, activation='relu', input_shape=(n_features,), kernel_initializer=initializer, bias_initializer=None),\n",
    "        keras.layers.Dense(1)\n",
    "\n",
    "    ])\n",
    "    \n",
    "    model.compile(\n",
    "        optimizer=keras.optimizers.Adam(learning_rate=1e-3),\n",
    "        #optimizer=keras.optimizers.SGD(learning_rate=0.01),\n",
    "        #loss=keras.losses.BinaryCrossentropy(),\n",
    "        loss=keras.losses.MeanSquaredError(name='MSE'),\n",
    "        metrics=metrics\n",
    "    )\n",
    "    \n",
    "    return model\n",
    "\n",
    "# TODO: Find best way to init weights"
   ]
  },
  {
   "cell_type": "code",
   "execution_count": 15,
   "metadata": {},
   "outputs": [],
   "source": [
    "EPOCHS = 100\n",
    "BATCH_SIZE = 1024\n",
    "\n",
    "early_stopping = tf.keras.callbacks.EarlyStopping(\n",
    "    monitor='val_loss', #val_prec\n",
    "    verbose=1,\n",
    "    patience=10,\n",
    "    mode='min',#max\n",
    "    restore_best_weights=True)"
   ]
  },
  {
   "cell_type": "code",
   "execution_count": 16,
   "metadata": {},
   "outputs": [
    {
     "name": "stdout",
     "output_type": "stream",
     "text": [
      "Model: \"sequential\"\n",
      "_________________________________________________________________\n",
      " Layer (type)                Output Shape              Param #   \n",
      "=================================================================\n",
      " dense (Dense)               (None, 50)                1300      \n",
      "                                                                 \n",
      " dense_1 (Dense)             (None, 30)                1530      \n",
      "                                                                 \n",
      " dense_2 (Dense)             (None, 20)                620       \n",
      "                                                                 \n",
      " dense_3 (Dense)             (None, 5)                 105       \n",
      "                                                                 \n",
      " dense_4 (Dense)             (None, 1)                 6         \n",
      "                                                                 \n",
      "=================================================================\n",
      "Total params: 3,561\n",
      "Trainable params: 3,561\n",
      "Non-trainable params: 0\n",
      "_________________________________________________________________\n"
     ]
    }
   ],
   "source": [
    "model = make_model()\n",
    "model.summary()"
   ]
  },
  {
   "cell_type": "code",
   "execution_count": 17,
   "metadata": {},
   "outputs": [
    {
     "name": "stdout",
     "output_type": "stream",
     "text": [
      "1496/1496 [==============================] - 1s 484us/step\n",
      "[[ -10825.446]\n",
      " [      0.   ]\n",
      " [-127778.52 ]\n",
      " ...\n",
      " [      0.   ]\n",
      " [ -23836.03 ]\n",
      " [ -75046.19 ]]\n",
      "[260.51358032 181.16201782  89.73949432 ...  54.7366333   71.17505646\n",
      "  94.03398132]\n"
     ]
    }
   ],
   "source": [
    "output = model.predict(X_train)\n",
    "print(output)\n",
    "print(Y_train)"
   ]
  },
  {
   "cell_type": "code",
   "execution_count": 18,
   "metadata": {},
   "outputs": [
    {
     "name": "stdout",
     "output_type": "stream",
     "text": [
      "Loss: 20175882240.0000\n"
     ]
    }
   ],
   "source": [
    "results = model.evaluate(X_train, Y_train, batch_size=BATCH_SIZE, verbose=0)\n",
    "print(\"Loss: {:0.4f}\".format(results[0]))"
   ]
  },
  {
   "cell_type": "code",
   "execution_count": 19,
   "metadata": {},
   "outputs": [
    {
     "name": "stdout",
     "output_type": "stream",
     "text": [
      "Epoch 1/100\n",
      "479/479 [==============================] - 2s 3ms/step - loss: 60656096.0000 - cross entropy: 459.1183 - Brier score: 10118257664.0000 - tp: 34979.0000 - fp: 0.0000e+00 - tn: 0.0000e+00 - fn: 60757.0000 - accuracy: 0.0000e+00 - precision: 1.0000 - recall: 0.3654 - auc: 0.0000e+00 - prc: 1.0000 - val_loss: 17067.8203 - val_cross entropy: -1875.1830 - val_Brier score: 17067.8203 - val_tp: 12792.0000 - val_fp: 0.0000e+00 - val_tn: 0.0000e+00 - val_fn: 3164.0000 - val_accuracy: 0.0000e+00 - val_precision: 1.0000 - val_recall: 0.8017 - val_auc: 0.0000e+00 - val_prc: 1.0000\n",
      "Epoch 2/100\n",
      "479/479 [==============================] - 1s 2ms/step - loss: 16466.0703 - cross entropy: -2147.5044 - Brier score: 16466.0703 - tp: 44106.0000 - fp: 0.0000e+00 - tn: 0.0000e+00 - fn: 3762.0000 - accuracy: 0.0000e+00 - precision: 1.0000 - recall: 0.9214 - auc: 0.0000e+00 - prc: 1.0000 - val_loss: 14806.6328 - val_cross entropy: -2362.2891 - val_Brier score: 14806.6328 - val_tp: 15956.0000 - val_fp: 0.0000e+00 - val_tn: 0.0000e+00 - val_fn: 0.0000e+00 - val_accuracy: 0.0000e+00 - val_precision: 1.0000 - val_recall: 1.0000 - val_auc: 0.0000e+00 - val_prc: 1.0000\n",
      "Epoch 3/100\n",
      "479/479 [==============================] - 1s 2ms/step - loss: 17650.4766 - cross entropy: -2296.7075 - Brier score: 17650.4766 - tp: 47018.0000 - fp: 0.0000e+00 - tn: 0.0000e+00 - fn: 850.0000 - accuracy: 0.0000e+00 - precision: 1.0000 - recall: 0.9822 - auc: 0.0000e+00 - prc: 1.0000 - val_loss: 20946.6387 - val_cross entropy: -2268.3738 - val_Brier score: 20946.6406 - val_tp: 15608.0000 - val_fp: 0.0000e+00 - val_tn: 0.0000e+00 - val_fn: 348.0000 - val_accuracy: 0.0000e+00 - val_precision: 1.0000 - val_recall: 0.9782 - val_auc: 0.0000e+00 - val_prc: 1.0000\n",
      "Epoch 4/100\n",
      "479/479 [==============================] - 1s 3ms/step - loss: 50370.6250 - cross entropy: -1718.9871 - Brier score: 50370.6328 - tp: 41288.0000 - fp: 0.0000e+00 - tn: 0.0000e+00 - fn: 6580.0000 - accuracy: 0.0000e+00 - precision: 1.0000 - recall: 0.8625 - auc: 0.0000e+00 - prc: 1.0000 - val_loss: 14090.0400 - val_cross entropy: -2362.2891 - val_Brier score: 14090.0400 - val_tp: 15956.0000 - val_fp: 0.0000e+00 - val_tn: 0.0000e+00 - val_fn: 0.0000e+00 - val_accuracy: 0.0000e+00 - val_precision: 1.0000 - val_recall: 1.0000 - val_auc: 0.0000e+00 - val_prc: 1.0000\n",
      "Epoch 5/100\n",
      "479/479 [==============================] - 1s 2ms/step - loss: 1541952.6250 - cross entropy: -1729.4507 - Brier score: 1541952.6250 - tp: 41460.0000 - fp: 0.0000e+00 - tn: 0.0000e+00 - fn: 6408.0000 - accuracy: 0.0000e+00 - precision: 1.0000 - recall: 0.8661 - auc: 0.0000e+00 - prc: 1.0000 - val_loss: 48579.7969 - val_cross entropy: 929.1298 - val_Brier score: 48579.7969 - val_tp: 5312.0000 - val_fp: 0.0000e+00 - val_tn: 0.0000e+00 - val_fn: 10644.0000 - val_accuracy: 0.0000e+00 - val_precision: 1.0000 - val_recall: 0.3329 - val_auc: 0.0000e+00 - val_prc: 1.0000\n",
      "Epoch 6/100\n",
      "479/479 [==============================] - 1s 2ms/step - loss: 18736.9258 - cross entropy: -2143.8062 - Brier score: 18736.9258 - tp: 45538.0000 - fp: 0.0000e+00 - tn: 0.0000e+00 - fn: 2330.0000 - accuracy: 0.0000e+00 - precision: 1.0000 - recall: 0.9513 - auc: 0.0000e+00 - prc: 1.0000 - val_loss: 11632.7402 - val_cross entropy: -2362.2891 - val_Brier score: 11632.7402 - val_tp: 15956.0000 - val_fp: 0.0000e+00 - val_tn: 0.0000e+00 - val_fn: 0.0000e+00 - val_accuracy: 0.0000e+00 - val_precision: 1.0000 - val_recall: 1.0000 - val_auc: 0.0000e+00 - val_prc: 1.0000\n",
      "Epoch 7/100\n",
      "479/479 [==============================] - 1s 2ms/step - loss: 133165.9219 - cross entropy: -1612.3562 - Brier score: 133165.9219 - tp: 40364.0000 - fp: 0.0000e+00 - tn: 0.0000e+00 - fn: 7504.0000 - accuracy: 0.0000e+00 - precision: 1.0000 - recall: 0.8432 - auc: 0.0000e+00 - prc: 1.0000 - val_loss: 9433.7285 - val_cross entropy: -2362.2891 - val_Brier score: 9433.7285 - val_tp: 15956.0000 - val_fp: 0.0000e+00 - val_tn: 0.0000e+00 - val_fn: 0.0000e+00 - val_accuracy: 0.0000e+00 - val_precision: 1.0000 - val_recall: 1.0000 - val_auc: 0.0000e+00 - val_prc: 1.0000\n",
      "Epoch 8/100\n",
      "479/479 [==============================] - 1s 2ms/step - loss: 1464034.5000 - cross entropy: -1247.2168 - Brier score: 1464034.5000 - tp: 36712.0000 - fp: 0.0000e+00 - tn: 0.0000e+00 - fn: 11156.0000 - accuracy: 0.0000e+00 - precision: 1.0000 - recall: 0.7669 - auc: 0.0000e+00 - prc: 1.0000 - val_loss: 98682.2109 - val_cross entropy: 882.1195 - val_Brier score: 98682.2109 - val_tp: 5387.0000 - val_fp: 0.0000e+00 - val_tn: 0.0000e+00 - val_fn: 10569.0000 - val_accuracy: 0.0000e+00 - val_precision: 1.0000 - val_recall: 0.3376 - val_auc: 0.0000e+00 - val_prc: 1.0000\n",
      "Epoch 9/100\n",
      "479/479 [==============================] - 1s 2ms/step - loss: 23074.7617 - cross entropy: -2014.1880 - Brier score: 23074.7617 - tp: 44248.0000 - fp: 0.0000e+00 - tn: 0.0000e+00 - fn: 3620.0000 - accuracy: 0.0000e+00 - precision: 1.0000 - recall: 0.9244 - auc: 0.0000e+00 - prc: 1.0000 - val_loss: 9692.6279 - val_cross entropy: -2362.2891 - val_Brier score: 9692.6279 - val_tp: 15956.0000 - val_fp: 0.0000e+00 - val_tn: 0.0000e+00 - val_fn: 0.0000e+00 - val_accuracy: 0.0000e+00 - val_precision: 1.0000 - val_recall: 1.0000 - val_auc: 0.0000e+00 - val_prc: 1.0000\n",
      "Epoch 10/100\n",
      "479/479 [==============================] - 1s 3ms/step - loss: 1419841.6250 - cross entropy: -1717.4647 - Brier score: 1419841.6250 - tp: 41343.0000 - fp: 0.0000e+00 - tn: 0.0000e+00 - fn: 6525.0000 - accuracy: 0.0000e+00 - precision: 1.0000 - recall: 0.8637 - auc: 0.0000e+00 - prc: 1.0000 - val_loss: 17283.6582 - val_cross entropy: -2362.2891 - val_Brier score: 17283.6582 - val_tp: 15956.0000 - val_fp: 0.0000e+00 - val_tn: 0.0000e+00 - val_fn: 0.0000e+00 - val_accuracy: 0.0000e+00 - val_precision: 1.0000 - val_recall: 1.0000 - val_auc: 0.0000e+00 - val_prc: 1.0000\n",
      "Epoch 11/100\n",
      "479/479 [==============================] - 1s 3ms/step - loss: 173218.1562 - cross entropy: -1749.5242 - Brier score: 173218.1562 - tp: 41666.0000 - fp: 0.0000e+00 - tn: 0.0000e+00 - fn: 6202.0000 - accuracy: 0.0000e+00 - precision: 1.0000 - recall: 0.8704 - auc: 0.0000e+00 - prc: 1.0000 - val_loss: 306013.6250 - val_cross entropy: 1195.3016 - val_Brier score: 306013.6250 - val_tp: 4287.0000 - val_fp: 0.0000e+00 - val_tn: 0.0000e+00 - val_fn: 11669.0000 - val_accuracy: 0.0000e+00 - val_precision: 1.0000 - val_recall: 0.2687 - val_auc: 0.0000e+00 - val_prc: 1.0000\n",
      "Epoch 12/100\n",
      "479/479 [==============================] - 1s 3ms/step - loss: 607435.8750 - cross entropy: -1532.2562 - Brier score: 607435.8750 - tp: 39618.0000 - fp: 0.0000e+00 - tn: 0.0000e+00 - fn: 8250.0000 - accuracy: 0.0000e+00 - precision: 1.0000 - recall: 0.8277 - auc: 0.0000e+00 - prc: 1.0000 - val_loss: 213641.7031 - val_cross entropy: -2362.2891 - val_Brier score: 213641.7031 - val_tp: 15956.0000 - val_fp: 0.0000e+00 - val_tn: 0.0000e+00 - val_fn: 0.0000e+00 - val_accuracy: 0.0000e+00 - val_precision: 1.0000 - val_recall: 1.0000 - val_auc: 0.0000e+00 - val_prc: 1.0000\n",
      "Epoch 13/100\n",
      "479/479 [==============================] - 1s 2ms/step - loss: 2825410.2500 - cross entropy: -1180.8450 - Brier score: 2825410.2500 - tp: 36146.0000 - fp: 0.0000e+00 - tn: 0.0000e+00 - fn: 11722.0000 - accuracy: 0.0000e+00 - precision: 1.0000 - recall: 0.7551 - auc: 0.0000e+00 - prc: 1.0000 - val_loss: 403439.5000 - val_cross entropy: -2362.2891 - val_Brier score: 403439.5000 - val_tp: 15956.0000 - val_fp: 0.0000e+00 - val_tn: 0.0000e+00 - val_fn: 0.0000e+00 - val_accuracy: 0.0000e+00 - val_precision: 1.0000 - val_recall: 1.0000 - val_auc: 0.0000e+00 - val_prc: 1.0000\n",
      "Epoch 14/100\n",
      "479/479 [==============================] - 1s 2ms/step - loss: 22409.8457 - cross entropy: -2262.6265 - Brier score: 22409.8457 - tp: 46690.0000 - fp: 0.0000e+00 - tn: 0.0000e+00 - fn: 1178.0000 - accuracy: 0.0000e+00 - precision: 1.0000 - recall: 0.9754 - auc: 0.0000e+00 - prc: 1.0000 - val_loss: 8702.8711 - val_cross entropy: -2362.2891 - val_Brier score: 8702.8701 - val_tp: 15956.0000 - val_fp: 0.0000e+00 - val_tn: 0.0000e+00 - val_fn: 0.0000e+00 - val_accuracy: 0.0000e+00 - val_precision: 1.0000 - val_recall: 1.0000 - val_auc: 0.0000e+00 - val_prc: 1.0000\n",
      "Epoch 15/100\n"
     ]
    },
    {
     "name": "stdout",
     "output_type": "stream",
     "text": [
      "479/479 [==============================] - 1s 2ms/step - loss: 11010.2236 - cross entropy: -2356.2603 - Brier score: 11010.2236 - tp: 47597.0000 - fp: 0.0000e+00 - tn: 0.0000e+00 - fn: 271.0000 - accuracy: 0.0000e+00 - precision: 1.0000 - recall: 0.9943 - auc: 0.0000e+00 - prc: 1.0000 - val_loss: 10279.6904 - val_cross entropy: -2362.2891 - val_Brier score: 10279.6904 - val_tp: 15956.0000 - val_fp: 0.0000e+00 - val_tn: 0.0000e+00 - val_fn: 0.0000e+00 - val_accuracy: 0.0000e+00 - val_precision: 1.0000 - val_recall: 1.0000 - val_auc: 0.0000e+00 - val_prc: 1.0000\n",
      "Epoch 16/100\n",
      "479/479 [==============================] - 1s 2ms/step - loss: 15110.3291 - cross entropy: -2191.1973 - Brier score: 15110.3291 - tp: 46001.0000 - fp: 0.0000e+00 - tn: 0.0000e+00 - fn: 1867.0000 - accuracy: 0.0000e+00 - precision: 1.0000 - recall: 0.9610 - auc: 0.0000e+00 - prc: 1.0000 - val_loss: 77492.1719 - val_cross entropy: 754.5632 - val_Brier score: 77492.1719 - val_tp: 5843.0000 - val_fp: 0.0000e+00 - val_tn: 0.0000e+00 - val_fn: 10113.0000 - val_accuracy: 0.0000e+00 - val_precision: 1.0000 - val_recall: 0.3662 - val_auc: 0.0000e+00 - val_prc: 1.0000\n",
      "Epoch 17/100\n",
      "479/479 [==============================] - 1s 2ms/step - loss: 197955.5156 - cross entropy: -1690.5374 - Brier score: 197955.5156 - tp: 41109.0000 - fp: 0.0000e+00 - tn: 0.0000e+00 - fn: 6759.0000 - accuracy: 0.0000e+00 - precision: 1.0000 - recall: 0.8588 - auc: 0.0000e+00 - prc: 1.0000 - val_loss: 11092.9219 - val_cross entropy: -2362.2891 - val_Brier score: 11092.9219 - val_tp: 15956.0000 - val_fp: 0.0000e+00 - val_tn: 0.0000e+00 - val_fn: 0.0000e+00 - val_accuracy: 0.0000e+00 - val_precision: 1.0000 - val_recall: 1.0000 - val_auc: 0.0000e+00 - val_prc: 1.0000\n",
      "Epoch 18/100\n",
      "479/479 [==============================] - 1s 2ms/step - loss: 36587.2539 - cross entropy: -2120.2947 - Brier score: 36587.2539 - tp: 45255.0000 - fp: 0.0000e+00 - tn: 0.0000e+00 - fn: 2613.0000 - accuracy: 0.0000e+00 - precision: 1.0000 - recall: 0.9454 - auc: 0.0000e+00 - prc: 1.0000 - val_loss: 1027500.0000 - val_cross entropy: 1420.7025 - val_Brier score: 1027500.0000 - val_tp: 3486.0000 - val_fp: 0.0000e+00 - val_tn: 0.0000e+00 - val_fn: 12470.0000 - val_accuracy: 0.0000e+00 - val_precision: 1.0000 - val_recall: 0.2185 - val_auc: 0.0000e+00 - val_prc: 1.0000\n",
      "Epoch 19/100\n",
      "479/479 [==============================] - 1s 2ms/step - loss: 186821.9688 - cross entropy: -1889.2234 - Brier score: 186821.9688 - tp: 43071.0000 - fp: 0.0000e+00 - tn: 0.0000e+00 - fn: 4797.0000 - accuracy: 0.0000e+00 - precision: 1.0000 - recall: 0.8998 - auc: 0.0000e+00 - prc: 1.0000 - val_loss: 11737.5264 - val_cross entropy: -2362.2891 - val_Brier score: 11737.5244 - val_tp: 15956.0000 - val_fp: 0.0000e+00 - val_tn: 0.0000e+00 - val_fn: 0.0000e+00 - val_accuracy: 0.0000e+00 - val_precision: 1.0000 - val_recall: 1.0000 - val_auc: 0.0000e+00 - val_prc: 1.0000\n",
      "Epoch 20/100\n",
      "479/479 [==============================] - 1s 2ms/step - loss: 609288.8750 - cross entropy: -1690.5007 - Brier score: 609288.8750 - tp: 41109.0000 - fp: 0.0000e+00 - tn: 0.0000e+00 - fn: 6759.0000 - accuracy: 0.0000e+00 - precision: 1.0000 - recall: 0.8588 - auc: 0.0000e+00 - prc: 1.0000 - val_loss: 121264.8125 - val_cross entropy: -2362.2891 - val_Brier score: 121264.8125 - val_tp: 15956.0000 - val_fp: 0.0000e+00 - val_tn: 0.0000e+00 - val_fn: 0.0000e+00 - val_accuracy: 0.0000e+00 - val_precision: 1.0000 - val_recall: 1.0000 - val_auc: 0.0000e+00 - val_prc: 1.0000\n",
      "Epoch 21/100\n",
      "479/479 [==============================] - 1s 2ms/step - loss: 309113.7500 - cross entropy: -1965.8438 - Brier score: 309113.7500 - tp: 43741.0000 - fp: 0.0000e+00 - tn: 0.0000e+00 - fn: 4127.0000 - accuracy: 0.0000e+00 - precision: 1.0000 - recall: 0.9138 - auc: 0.0000e+00 - prc: 1.0000 - val_loss: 10619.2676 - val_cross entropy: -2362.2891 - val_Brier score: 10619.2676 - val_tp: 15956.0000 - val_fp: 0.0000e+00 - val_tn: 0.0000e+00 - val_fn: 0.0000e+00 - val_accuracy: 0.0000e+00 - val_precision: 1.0000 - val_recall: 1.0000 - val_auc: 0.0000e+00 - val_prc: 1.0000\n",
      "Epoch 22/100\n",
      "479/479 [==============================] - 1s 2ms/step - loss: 17169.2051 - cross entropy: -2201.8096 - Brier score: 17169.2051 - tp: 46060.0000 - fp: 0.0000e+00 - tn: 0.0000e+00 - fn: 1808.0000 - accuracy: 0.0000e+00 - precision: 1.0000 - recall: 0.9622 - auc: 0.0000e+00 - prc: 1.0000 - val_loss: 11931.5195 - val_cross entropy: -2362.2891 - val_Brier score: 11931.5195 - val_tp: 15956.0000 - val_fp: 0.0000e+00 - val_tn: 0.0000e+00 - val_fn: 0.0000e+00 - val_accuracy: 0.0000e+00 - val_precision: 1.0000 - val_recall: 1.0000 - val_auc: 0.0000e+00 - val_prc: 1.0000\n",
      "Epoch 23/100\n",
      "479/479 [==============================] - 1s 3ms/step - loss: 32583.2324 - cross entropy: -1921.8420 - Brier score: 32583.2324 - tp: 43325.0000 - fp: 0.0000e+00 - tn: 0.0000e+00 - fn: 4543.0000 - accuracy: 0.0000e+00 - precision: 1.0000 - recall: 0.9051 - auc: 0.0000e+00 - prc: 1.0000 - val_loss: 138066.3125 - val_cross entropy: 1119.6475 - val_Brier score: 138066.3125 - val_tp: 4537.0000 - val_fp: 0.0000e+00 - val_tn: 0.0000e+00 - val_fn: 11419.0000 - val_accuracy: 0.0000e+00 - val_precision: 1.0000 - val_recall: 0.2843 - val_auc: 0.0000e+00 - val_prc: 1.0000\n",
      "Epoch 24/100\n",
      "463/479 [===========================>..] - ETA: 0s - loss: 205348.3438 - cross entropy: -1886.5457 - Brier score: 205348.3438 - tp: 41609.0000 - fp: 0.0000e+00 - tn: 0.0000e+00 - fn: 4691.0000 - accuracy: 0.0000e+00 - precision: 1.0000 - recall: 0.8987 - auc: 0.0000e+00 - prc: 1.0000Restoring model weights from the end of the best epoch: 14.\n",
      "479/479 [==============================] - 1s 2ms/step - loss: 199024.7188 - cross entropy: -1901.7848 - Brier score: 199024.7188 - tp: 43164.0000 - fp: 0.0000e+00 - tn: 0.0000e+00 - fn: 4704.0000 - accuracy: 0.0000e+00 - precision: 1.0000 - recall: 0.9017 - auc: 0.0000e+00 - prc: 1.0000 - val_loss: 15392.7041 - val_cross entropy: -2324.4336 - val_Brier score: 15392.7041 - val_tp: 15803.0000 - val_fp: 0.0000e+00 - val_tn: 0.0000e+00 - val_fn: 153.0000 - val_accuracy: 0.0000e+00 - val_precision: 1.0000 - val_recall: 0.9904 - val_auc: 0.0000e+00 - val_prc: 1.0000\n",
      "Epoch 24: early stopping\n"
     ]
    }
   ],
   "source": [
    "model = make_model()\n",
    "history = model.fit(\n",
    "    X_train,\n",
    "    Y_train,\n",
    "    batch_size=BATCH_SIZE,\n",
    "    epochs=EPOCHS, #EPOCHS\n",
    "    callbacks=[early_stopping],\n",
    "    validation_data=(X_val, Y_val))"
   ]
  },
  {
   "cell_type": "code",
   "execution_count": 20,
   "metadata": {},
   "outputs": [
    {
     "name": "stdout",
     "output_type": "stream",
     "text": [
      "1/1 [==============================] - 0s 77ms/step\n",
      "[[ 47.132034]\n",
      " [147.55548 ]\n",
      " [ 95.17598 ]\n",
      " [200.82442 ]\n",
      " [ 83.79317 ]\n",
      " [126.51582 ]\n",
      " [ 74.27754 ]\n",
      " [ 54.160355]\n",
      " [147.55548 ]\n",
      " [102.904495]]\n",
      "[260.51358032 181.16201782  89.73949432 286.19677734 118.98925781\n",
      " 201.83940125  80.07064819  77.0490036  231.94145203 103.61458588]\n",
      "Loss on training: 8835.0967\n",
      "Loss on validation: 8702.8711\n"
     ]
    }
   ],
   "source": [
    "pred_output = model.predict(X_train[:10])\n",
    "print(pred_output)\n",
    "print(Y_train[:10])\n",
    "\n",
    "results = model.evaluate(X_train, Y_train, batch_size=BATCH_SIZE, verbose=0)\n",
    "print(\"Loss on training: {:0.4f}\".format(results[0]))\n",
    "\n",
    "results_val = model.evaluate(X_val, Y_val, batch_size=BATCH_SIZE, verbose=0)\n",
    "print(\"Loss on validation: {:0.4f}\".format(results_val[0]))"
   ]
  },
  {
   "cell_type": "code",
   "execution_count": 21,
   "metadata": {},
   "outputs": [
    {
     "name": "stdout",
     "output_type": "stream",
     "text": [
      "47/47 [==============================] - 0s 1ms/step\n",
      "16/16 [==============================] - 0s 1ms/step\n",
      "15956 15956\n"
     ]
    }
   ],
   "source": [
    "# Plots of loss vs epoch \n",
    "# Plot of ROC\n",
    "\n",
    "train_predictions = model.predict(train_data, batch_size=BATCH_SIZE)\n",
    "test_predictions = model.predict(test_data, batch_size=BATCH_SIZE)\n",
    "print(len(test_data),len(test_predictions))"
   ]
  },
  {
   "cell_type": "raw",
   "metadata": {},
   "source": [
    "from source.tools import tools\n",
    "obj = tools()\n",
    "colors = plt.rcParams['axes.prop_cycle'].by_key()['color']\n",
    "obj.plot_roc(\"Train Baseline\", train_labels, train_predictions_baseline, color=colors[0])\n",
    "obj.plot_roc(\"Test Baseline\", test_labels, test_predictions_baseline, color=colors[1], linestyle='--')\n",
    "plt.legend(loc='lower right')"
   ]
  },
  {
   "cell_type": "code",
   "execution_count": 22,
   "metadata": {},
   "outputs": [
    {
     "name": "stdout",
     "output_type": "stream",
     "text": [
      "[60656096.0, 16466.0703125, 17650.4765625, 50370.625, 1541952.625, 18736.92578125, 133165.921875, 1464034.5, 23074.76171875, 1419841.625, 173218.15625, 607435.875, 2825410.25, 22409.845703125, 11010.2236328125, 15110.3291015625, 197955.515625, 36587.25390625, 186821.96875, 609288.875, 309113.75, 17169.205078125, 32583.232421875, 199024.71875]\n",
      "[17067.8203125, 14806.6328125, 20946.638671875, 14090.0400390625, 48579.796875, 11632.740234375, 9433.728515625, 98682.2109375, 9692.6279296875, 17283.658203125, 306013.625, 213641.703125, 403439.5, 8702.87109375, 10279.6904296875, 77492.171875, 11092.921875, 1027500.0, 11737.5263671875, 121264.8125, 10619.267578125, 11931.51953125, 138066.3125, 15392.7041015625]\n",
      "dict_keys(['loss', 'cross entropy', 'Brier score', 'tp', 'fp', 'tn', 'fn', 'accuracy', 'precision', 'recall', 'auc', 'prc', 'val_loss', 'val_cross entropy', 'val_Brier score', 'val_tp', 'val_fp', 'val_tn', 'val_fn', 'val_accuracy', 'val_precision', 'val_recall', 'val_auc', 'val_prc'])\n"
     ]
    }
   ],
   "source": [
    "print(history.history['loss'])\n",
    "print(history.history['val_loss'])\n",
    "print(history.history.keys())"
   ]
  },
  {
   "cell_type": "code",
   "execution_count": 23,
   "metadata": {},
   "outputs": [],
   "source": [
    "#AUC\n",
    "#sklearn.metrics.roc_auc_score(test_labels, test_predictions_baseline)"
   ]
  },
  {
   "cell_type": "code",
   "execution_count": 24,
   "metadata": {},
   "outputs": [],
   "source": [
    "#sklearn.metrics.roc_auc_score(train_labels, train_predictions_baseline)"
   ]
  },
  {
   "cell_type": "code",
   "execution_count": 25,
   "metadata": {},
   "outputs": [],
   "source": [
    "from source.tools import tools\n",
    "obj = tools()\n",
    "colors = plt.rcParams['axes.prop_cycle'].by_key()['color']\n",
    "\n",
    "def plot_metrics(history):\n",
    "    metrics = ['loss', 'prc', 'precision', 'recall']\n",
    "    metrics = ['loss', 'Brier score', 'precision', 'recall']\n",
    "    fig, axs = plt.subplots(2, 2, figsize=(10, 8))\n",
    "    fig.subplots_adjust(hspace=0.3)  # Adjust the vertical spacing between subplots\n",
    "\n",
    "    for n, metric in enumerate(metrics):\n",
    "        name = metric.replace(\"_\",\" \").capitalize()\n",
    "        plt.subplot(2,2,n+1)\n",
    "        plt.plot(history.epoch, history.history[metric], color=colors[0], label='Train')\n",
    "        plt.plot(history.epoch, history.history['val_'+metric],\n",
    "                 color=colors[0], linestyle=\"--\", label='Val')\n",
    "        plt.xlabel('Epoch')\n",
    "        plt.ylabel(name)\n",
    "        if metric == 'loss':\n",
    "            plt.ylim([1, plt.ylim()[1]])\n",
    "            plt.yscale(\"log\")\n",
    "        elif metric == 'auc':\n",
    "            plt.ylim([0.8,1])\n",
    "        elif metric == 'Brier score':\n",
    "            plt.ylim([0.1,12527118336])\n",
    "            plt.yscale(\"log\")\n",
    "        else:\n",
    "            plt.ylim([0,1.1])\n",
    "\n",
    "        plt.legend()"
   ]
  },
  {
   "cell_type": "code",
   "execution_count": 26,
   "metadata": {},
   "outputs": [
    {
     "name": "stdout",
     "output_type": "stream",
     "text": [
      "[10118257664.0, 16466.0703125, 17650.4765625, 50370.6328125, 1541952.625, 18736.92578125, 133165.921875, 1464034.5, 23074.76171875, 1419841.625, 173218.15625, 607435.875, 2825410.25, 22409.845703125, 11010.2236328125, 15110.3291015625, 197955.515625, 36587.25390625, 186821.96875, 609288.875, 309113.75, 17169.205078125, 32583.232421875, 199024.71875]\n"
     ]
    },
    {
     "data": {
      "image/png": "[encoded data removed]",
      "text/plain": [
       "<Figure size 1000x800 with 4 Axes>"
      ]
     },
     "metadata": {},
     "output_type": "display_data"
    }
   ],
   "source": [
    "plot_metrics(history)\n",
    "print(history.history['Brier score'])"
   ]
  },
  {
   "cell_type": "code",
   "execution_count": 27,
   "metadata": {},
   "outputs": [
    {
     "data": {
      "image/png": "[encoded data removed]",
      "text/plain": [
       "<Figure size 640x480 with 1 Axes>"
      ]
     },
     "metadata": {},
     "output_type": "display_data"
    },
    {
     "name": "stdout",
     "output_type": "stream",
     "text": [
      "[[147.55548]\n",
      " [ 97.29317]\n",
      " [ 90.87129]\n",
      " ...\n",
      " [166.64473]\n",
      " [128.28535]\n",
      " [ 74.57442]]\n"
     ]
    }
   ],
   "source": [
    "obj = tools()\n",
    "obj.plotHist(train_predictions,train_labels, bins = 50, interval=[0,1000] ,logy=True, logx=False, labels=[\"prediction\",\"truth\"],\n",
    "             xlabel= 'gen particle energy', density=False, ax=None, moveOverUnderFlow=True, verbosity = 0)\n",
    "\n",
    "#obj.plotHist(test_predictions_signal, test_predictions_background, bins = 50, interval=[0,1], logy=True, logx=False, labels=[\"signal test\", \"background test\"],\n",
    "#             xlabel= 'DNN output', density=False, ax=None, moveOverUnderFlow=True, verbosity = 0)\n",
    "\n",
    "print(train_predictions)"
   ]
  },
  {
   "cell_type": "code",
   "execution_count": 28,
   "metadata": {},
   "outputs": [
    {
     "data": {
      "image/png": "[encoded data removed]",
      "text/plain": [
       "<Figure size 640x480 with 1 Axes>"
      ]
     },
     "metadata": {},
     "output_type": "display_data"
    }
   ],
   "source": [
    "obj = tools()\n",
    "obj.plotHist(test_predictions,test_labels, bins = 50, interval=[0,1000] ,logy=True, logx=False, labels=[\"prediction\",\"truth\"],\n",
    "             xlabel= 'gen particle energy', density=False, ax=None, moveOverUnderFlow=True, verbosity = 0)"
   ]
  },
  {
   "cell_type": "code",
   "execution_count": null,
   "metadata": {},
   "outputs": [],
   "source": []
  }
 ],
 "metadata": {
  "kernelspec": {
   "display_name": "mds_regression",
   "language": "python",
   "name": "mds_regression"
  },
  "language_info": {
   "codemirror_mode": {
    "name": "ipython",
    "version": 3
   },
   "file_extension": ".py",
   "mimetype": "text/x-python",
   "name": "python",
   "nbconvert_exporter": "python",
   "pygments_lexer": "ipython3",
   "version": "3.7.12"
  }
 },
 "nbformat": 4,
 "nbformat_minor": 2
}
