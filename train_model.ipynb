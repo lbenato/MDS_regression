{
 "cells": [
  {
   "cell_type": "code",
   "execution_count": 1,
   "metadata": {},
   "outputs": [],
   "source": [
    "from source import Dataset\n",
    "from source import tools\n",
    "import awkward as ak\n",
    "import glob\n",
    "import time\n",
    "\n",
    "import tensorflow as tf\n",
    "from tensorflow import keras\n",
    "from tensorflow.keras import optimizers\n",
    "from keras import layers\n",
    "\n",
    "import os\n",
    "import tempfile\n",
    "\n",
    "import matplotlib as mpl\n",
    "import matplotlib.pyplot as plt\n",
    "import numpy as np\n",
    "import pandas as pd\n",
    "import seaborn as sns\n",
    "\n",
    "import sklearn\n",
    "from sklearn.metrics import confusion_matrix\n",
    "from sklearn.model_selection import train_test_split\n",
    "from sklearn.preprocessing import StandardScaler"
   ]
  },
  {
   "cell_type": "code",
   "execution_count": 2,
   "metadata": {},
   "outputs": [
    {
     "name": "stdout",
     "output_type": "stream",
     "text": [
      "['cscRechitClusterX', 'cscRechitClusterY', 'cscRechitClusterZ', 'cscRechitClusterTimeWeighted', 'cscRechitClusterTimeSpreadWeightedAll', 'cscRechitClusternXY', 'cscRechitClusternZ', 'cscRechitClusterXSpread', 'cscRechitClusterYSpread', 'cscRechitClusterZSpread', 'cscRechitClusterXYSpread', 'cscRechitClusterRSpread', 'cscRechitClusterEtaPhiSpread', 'cscRechitClusterEtaSpread', 'cscRechitClusterPhiSpread', 'cscRechitClusterDeltaRSpread', 'cscRechitClusterMajorAxis', 'cscRechitClusterMinorAxis', 'cscRechitClusterSkewX', 'cscRechitClusterSkewY', 'cscRechitClusterSkewZ', 'cscRechitClusterKurtX', 'cscRechitClusterKurtY', 'cscRechitClusterKurtZ', 'cscRechitClusterSize']\n"
     ]
    }
   ],
   "source": [
    "#selecting features \n",
    "branches_to_train = [\n",
    "\"cscRechitClusterX\",\n",
    "\"cscRechitClusterY\",\n",
    "\"cscRechitClusterZ\",\n",
    "\"cscRechitClusterTimeWeighted\",\n",
    "\"cscRechitClusterTimeSpreadWeightedAll\",\n",
    "\"cscRechitClusternXY\",\n",
    "\"cscRechitClusternZ\",\n",
    "\"cscRechitClusterXSpread\",\n",
    "\"cscRechitClusterYSpread\",\n",
    "\"cscRechitClusterZSpread\",\n",
    "\"cscRechitClusterXYSpread\",\n",
    "\"cscRechitClusterRSpread\",\n",
    "\"cscRechitClusterEtaPhiSpread\",\n",
    "\"cscRechitClusterEtaSpread\",\n",
    "\"cscRechitClusterPhiSpread\",\n",
    "\"cscRechitClusterDeltaRSpread\",\n",
    "\"cscRechitClusterMajorAxis\",\n",
    "\"cscRechitClusterMinorAxis\",\n",
    "\"cscRechitClusterSkewX\",\n",
    "\"cscRechitClusterSkewY\",\n",
    "\"cscRechitClusterSkewZ\",\n",
    "\"cscRechitClusterKurtX\",\n",
    "\"cscRechitClusterKurtY\",\n",
    "\"cscRechitClusterKurtZ\",\n",
    "\"cscRechitClusterSize\",\n",
    "]\n",
    "\n",
    "#padded_branches_to_train = []\n",
    "#for col in branches_to_train:           \n",
    "#    #creates padded column for each jet of each \"Jets/Jets.\" key\n",
    "#    for icol in range(10):\n",
    "#        new_col_name = col+\"_\"+str(icol)\n",
    "#        padded_branches_to_train.append(new_col_name)\n",
    "\n",
    "#branches_to_train = [\n",
    "#    \"cscRechitClusterSize\",\n",
    "#]\n",
    "\n",
    "print(branches_to_train)\n",
    "truth_value = \"cscRechitCluster_match_gLLP_e\"\n"
   ]
  },
  {
   "cell_type": "code",
   "execution_count": 3,
   "metadata": {},
   "outputs": [],
   "source": [
    "#dataset_signal = Dataset.Dataset(\"signal\")\n",
    "#loaded_array_signal = dataset_signal.load(\"/nfs/dust/cms/user/lbenato/ML_LLP/MDS_regression/datasets/test_v6.h5\")"
   ]
  },
  {
   "cell_type": "code",
   "execution_count": 4,
   "metadata": {},
   "outputs": [
    {
     "name": "stdout",
     "output_type": "stream",
     "text": [
      "Opening file  /nfs/dust/cms/user/lbenato/ML_LLP/MDS_regression/datasets/test_df_v6.h5\n"
     ]
    }
   ],
   "source": [
    "dataset_signal = Dataset.Dataset(\"signal\")\n",
    "df_signal = dataset_signal.load_df(\"/nfs/dust/cms/user/lbenato/ML_LLP/MDS_regression/datasets/test_df_v6.h5\")"
   ]
  },
  {
   "cell_type": "code",
   "execution_count": 5,
   "metadata": {},
   "outputs": [
    {
     "data": {
      "text/plain": [
       "(90016, 79)"
      ]
     },
     "execution_count": 5,
     "metadata": {},
     "output_type": "execute_result"
    }
   ],
   "source": [
    "df_signal.shape"
   ]
  },
  {
   "cell_type": "code",
   "execution_count": 25,
   "metadata": {},
   "outputs": [],
   "source": [
    "#Consider only data with proper gen matching\n",
    "df_signal = df_signal[ df_signal[\"cscRechitCluster_match_gLLP\"]>=1 ]"
   ]
  },
  {
   "cell_type": "code",
   "execution_count": 27,
   "metadata": {},
   "outputs": [
    {
     "data": {
      "text/plain": [
       "(79780, 79)"
      ]
     },
     "execution_count": 27,
     "metadata": {},
     "output_type": "execute_result"
    }
   ],
   "source": [
    "df_signal.shape"
   ]
  },
  {
   "cell_type": "code",
   "execution_count": 28,
   "metadata": {},
   "outputs": [],
   "source": [
    "#splitting the data into train, test and validation\n",
    "#from sklearn.model_selection import train_test_split\n",
    "#\n",
    "#loaded_array_signal_64 = dataset_signal.get_unstructured_numpy(loaded_array_signal)\n",
    "#print(loaded_array_signal.dtype)\n",
    "#print(loaded_array_signal_64.dtype)\n",
    "#    \n",
    "#loaded_array_signal_df = loaded_array_signal_64\n",
    "#\n",
    "#print(loaded_array_signal_64)"
   ]
  },
  {
   "cell_type": "code",
   "execution_count": 29,
   "metadata": {},
   "outputs": [
    {
     "name": "stdout",
     "output_type": "stream",
     "text": [
      "First example:\n",
      "signal training features (47868, 25)\n",
      "signal training labels (47868,)\n",
      "signal test features (15956, 25)\n",
      "signal test labels (15956,)\n",
      "signal val features (15956, 25)\n",
      "signal val labels (15956,)\n",
      "[ 47.68254089  98.56023407 103.9028244  ... 116.4883194  230.63546753\n",
      "  99.98383331]\n",
      "       cscRechitClusterX  cscRechitClusterY  cscRechitClusterZ  \\\n",
      "entry                                                            \n",
      "23018        -311.808868         244.498947         848.761230   \n",
      "44895         399.104065        -513.735535         693.840332   \n",
      "62249         387.325439        -325.646210        -811.453674   \n",
      "40637         451.939575         277.207031         862.512329   \n",
      "22085         104.622169         -71.902878         609.470215   \n",
      "...                  ...                ...                ...   \n",
      "13927        -333.599182        -416.067017        -693.437683   \n",
      "74441         277.425964        -165.012939         687.181396   \n",
      "803            26.589790        -469.242249         734.254333   \n",
      "63949         215.349792          59.771008         810.480225   \n",
      "21785        -150.449768        -134.984634         923.301514   \n",
      "\n",
      "       cscRechitClusterTimeWeighted  cscRechitClusterTimeSpreadWeightedAll  \\\n",
      "entry                                                                        \n",
      "23018                     -0.606718                               8.332315   \n",
      "44895                     -2.048825                              12.822060   \n",
      "62249                      1.333573                              13.762079   \n",
      "40637                     -0.295019                              10.166586   \n",
      "22085                     -0.841436                              12.249375   \n",
      "...                             ...                                    ...   \n",
      "13927                      1.152189                               6.211476   \n",
      "74441                      0.301554                              11.382712   \n",
      "803                       -0.211895                               9.538512   \n",
      "63949                      1.059252                              13.588100   \n",
      "21785                      0.281198                              17.141291   \n",
      "\n",
      "       cscRechitClusternXY  cscRechitClusternZ  cscRechitClusterXSpread  \\\n",
      "entry                                                                     \n",
      "23018                  109                 109                16.055956   \n",
      "44895                   76                  76                12.310897   \n",
      "62249                  175                 175                46.281040   \n",
      "40637                  177                 177                54.669788   \n",
      "22085                   92                  92                18.848801   \n",
      "...                    ...                 ...                      ...   \n",
      "13927                   77                  77                25.658501   \n",
      "74441                  816                 816                31.212027   \n",
      "803                    110                 110                18.215960   \n",
      "63949                   88                  88                52.725685   \n",
      "21785                  176                 176                27.449163   \n",
      "\n",
      "       cscRechitClusterYSpread  cscRechitClusterZSpread  ...  \\\n",
      "entry                                                    ...   \n",
      "23018                16.333860                39.514057  ...   \n",
      "44895                13.962871                 0.018527  ...   \n",
      "62249                62.902020                71.627815  ...   \n",
      "40637                42.590927                71.794708  ...   \n",
      "22085                21.455421                11.594351  ...   \n",
      "...                        ...                      ...  ...   \n",
      "13927                30.212896                 2.535363  ...   \n",
      "74441                24.802784                 8.569495  ...   \n",
      "803                  67.990547                99.087776  ...   \n",
      "63949                39.392044               121.996002  ...   \n",
      "21785                29.298611                87.392151  ...   \n",
      "\n",
      "       cscRechitClusterDeltaRSpread  cscRechitClusterMajorAxis  \\\n",
      "entry                                                            \n",
      "23018                      0.036009                   0.026256   \n",
      "44895                      0.023220                   0.017973   \n",
      "62249                      0.138005                   0.131027   \n",
      "40637                      0.071224                   0.061055   \n",
      "22085                      0.207975                   0.158895   \n",
      "...                             ...                        ...   \n",
      "13927                      0.065730                   0.049386   \n",
      "74441                      0.113320                   0.093858   \n",
      "803                        0.043362                   0.041222   \n",
      "63949                      0.260713                   0.257487   \n",
      "21785                      0.149176                   0.132024   \n",
      "\n",
      "       cscRechitClusterMinorAxis  cscRechitClusterSkewX  \\\n",
      "entry                                                     \n",
      "23018                   0.024644             -25.906652   \n",
      "44895                   0.014702              -1.483443   \n",
      "62249                   0.043328              -4.764709   \n",
      "40637                   0.036676              74.174164   \n",
      "22085                   0.134186              27.556295   \n",
      "...                          ...                    ...   \n",
      "13927                   0.043376              21.014444   \n",
      "74441                   0.063500              19.649027   \n",
      "803                     0.013454              -9.233289   \n",
      "63949                   0.040886             -26.710903   \n",
      "21785                   0.069449             -23.144058   \n",
      "\n",
      "       cscRechitClusterSkewY  cscRechitClusterSkewZ  cscRechitClusterKurtX  \\\n",
      "entry                                                                        \n",
      "23018              28.047947             154.179276               3.324723   \n",
      "44895               0.364782               0.001884              -0.868217   \n",
      "62249               4.221594             -13.634633               0.507126   \n",
      "40637              45.246880              72.527336               0.785086   \n",
      "22085               6.580220             -17.789738               2.331628   \n",
      "...                      ...                    ...                    ...   \n",
      "13927              14.264182               7.983619               0.780947   \n",
      "74441               1.244478              21.318781              -0.104771   \n",
      "803              -144.756226             212.629364              -0.225017   \n",
      "63949              48.562359             -91.871841              -1.371212   \n",
      "21785             -58.701805            -300.429993               3.575012   \n",
      "\n",
      "       cscRechitClusterKurtY  cscRechitClusterKurtZ  cscRechitClusterSize  \n",
      "entry                                                                      \n",
      "23018               2.956102              13.224774                   109  \n",
      "44895              -1.119850              -1.702756                    76  \n",
      "62249              -1.047296               0.907789                   175  \n",
      "40637               0.120927              -0.541638                   177  \n",
      "22085               0.532770               0.354317                    92  \n",
      "...                      ...                    ...                   ...  \n",
      "13927               0.938770               7.916533                    77  \n",
      "74441               0.465587               4.189794                   816  \n",
      "803                 3.091275               3.199979                   110  \n",
      "63949              -0.105883              -0.308353                    88  \n",
      "21785               6.293708               9.847886                   176  \n",
      "\n",
      "[47868 rows x 25 columns]\n"
     ]
    }
   ],
   "source": [
    "# Splitting the loaded_array_signal data\n",
    "#train_data, testval_data = train_test_split(loaded_array_signal_df, train_size=0.6)\n",
    "train_data, testval_data = train_test_split(df_signal, train_size=0.6)\n",
    "test_data, val_data = train_test_split(testval_data, test_size=0.5)\n",
    "\n",
    "# assigning labels\n",
    "train_labels = np.array(train_data[truth_value])#([1.]*len(train_data))\n",
    "test_labels = np.array(test_data[truth_value])#([1.]*len(test_data))\n",
    "val_labels = np.array(val_data[truth_value])#([1.]*len(val_data))\n",
    "\n",
    "train_data = train_data[branches_to_train]\n",
    "test_data = test_data[branches_to_train]\n",
    "val_data = val_data[branches_to_train]\n",
    "\n",
    "# check the shape\n",
    "print(\"First example:\")\n",
    "print(\"signal training features\", train_data.shape)\n",
    "print(\"signal training labels\", train_labels.shape)\n",
    "print(\"signal test features\", test_data.shape)\n",
    "print(\"signal test labels\", test_labels.shape)\n",
    "print(\"signal val features\", val_data.shape)\n",
    "print(\"signal val labels\", val_labels.shape)\n",
    "\n",
    "print(train_labels)\n",
    "print(train_data[branches_to_train])\n",
    "\n",
    "#print(type(train_data), type(train_labels))\n",
    "n_features = train_data.shape[1]"
   ]
  },
  {
   "cell_type": "code",
   "execution_count": 30,
   "metadata": {},
   "outputs": [
    {
     "name": "stdout",
     "output_type": "stream",
     "text": [
      "training features (47868, 25)\n",
      "training labels (47868,)\n",
      "test features (15956, 25)\n",
      "test labels (15956,)\n",
      "val features (15956, 25)\n",
      "val labels (15956,)\n",
      "[126.64868164 187.53904724 103.64417267 ... 258.44216919 109.36463165\n",
      " 321.24499512]\n"
     ]
    }
   ],
   "source": [
    "# concatenate data\n",
    "#train_data = np.concatenate([bkg_train_data,sig_train_data], axis=0)\n",
    "#test_data = np.concatenate([bkg_test_data, sig_test_data], axis=0)\n",
    "#val_data = np.concatenate([bkg_val_data, sig_val_data], axis=0)\n",
    "\n",
    "#train_labels = np.concatenate([bkg_train_labels, sig_train_labels], axis=0)\n",
    "#test_labels = np.concatenate([bkg_test_labels, sig_test_labels], axis=0)\n",
    "#val_labels = np.concatenate([bkg_val_labels, sig_val_labels], axis=0)\n",
    "\n",
    "print(\"training features\", train_data.shape)\n",
    "print(\"training labels\", train_labels.shape)\n",
    "print(\"test features\", test_data.shape)\n",
    "print(\"test labels\", test_labels.shape)\n",
    "print(\"val features\", val_data.shape)\n",
    "print(\"val labels\", val_labels.shape)\n",
    "print(val_labels)"
   ]
  },
  {
   "cell_type": "raw",
   "metadata": {},
   "source": [
    "# TODO: standard scalar. Fit on train_data and apply to test_data and val_data\n",
    "#It affects the results.\n",
    "scaler = StandardScaler()\n",
    "train_data = scaler.fit_transform(train_data)\n",
    "\n",
    "val_data = scaler.transform(val_data)\n",
    "test_data = scaler.transform(test_data)"
   ]
  },
  {
   "cell_type": "code",
   "execution_count": 31,
   "metadata": {},
   "outputs": [
    {
     "name": "stdout",
     "output_type": "stream",
     "text": [
      "shuffled training features        cscRechitClusterX  cscRechitClusterY  cscRechitClusterZ  \\\n",
      "entry                                                            \n",
      "30288        -557.086975        -111.016998         710.512634   \n",
      "22690        -140.125977         -16.270750         643.322937   \n",
      "18841        -418.065277         127.958069         711.587036   \n",
      "24267        -320.429993        -338.931854        -844.561401   \n",
      "2079         -370.174072         -35.838058         700.081970   \n",
      "...                  ...                ...                ...   \n",
      "9121          165.266510        -164.984940       -1025.306152   \n",
      "29953         447.729492         -86.829102         688.562012   \n",
      "24936         270.138977         587.870422         693.937012   \n",
      "81450         -54.067993         329.205872         951.753662   \n",
      "46059        -521.813171        -207.220688         695.213318   \n",
      "\n",
      "       cscRechitClusterTimeWeighted  cscRechitClusterTimeSpreadWeightedAll  \\\n",
      "entry                                                                        \n",
      "30288                      2.745103                              22.225386   \n",
      "22690                      0.406147                              13.817515   \n",
      "18841                      0.006817                              13.552036   \n",
      "24267                      1.019509                              12.159854   \n",
      "2079                      -0.509166                              12.516413   \n",
      "...                             ...                                    ...   \n",
      "9121                      -0.618132                              11.869235   \n",
      "29953                      1.470066                              11.471938   \n",
      "24936                      1.784219                              10.861820   \n",
      "81450                      0.061272                              13.513620   \n",
      "46059                     -0.345383                               9.793026   \n",
      "\n",
      "       cscRechitClusternXY  cscRechitClusternZ  cscRechitClusterXSpread  \\\n",
      "entry                                                                     \n",
      "30288                  295                 295                69.964996   \n",
      "22690                  378                 378                24.393507   \n",
      "18841                   56                  56                17.542992   \n",
      "24267                  402                 402                40.026917   \n",
      "2079                   363                 363                26.196299   \n",
      "...                    ...                 ...                      ...   \n",
      "9121                   657                 657                25.442139   \n",
      "29953                  157                 157                78.988777   \n",
      "24936                  106                 106                29.797546   \n",
      "81450                  195                 195                19.165697   \n",
      "46059                  380                 380                28.924229   \n",
      "\n",
      "       cscRechitClusterYSpread  cscRechitClusterZSpread  ...  \\\n",
      "entry                                                    ...   \n",
      "30288                31.823101                58.891117  ...   \n",
      "22690                18.272997               102.916306  ...   \n",
      "18841                11.949084                 0.046764  ...   \n",
      "24267                40.125916                63.747723  ...   \n",
      "2079                 31.938959                13.258264  ...   \n",
      "...                        ...                      ...  ...   \n",
      "9121                 23.025707                12.293517  ...   \n",
      "29953                27.590124                 4.825253  ...   \n",
      "24936                28.880705                 0.050067  ...   \n",
      "81450                41.283016                26.113400  ...   \n",
      "46059                21.734371                12.405067  ...   \n",
      "\n",
      "       cscRechitClusterDeltaRSpread  cscRechitClusterMajorAxis  \\\n",
      "entry                                                            \n",
      "30288                      0.162187                   0.158782   \n",
      "22690                      0.161632                   0.117467   \n",
      "18841                      0.043871                   0.035054   \n",
      "24267                      0.084559                   0.069863   \n",
      "2079                       0.107399                   0.089029   \n",
      "...                             ...                        ...   \n",
      "9121                       0.143454                   0.112834   \n",
      "29953                      0.160672                   0.152810   \n",
      "24936                      0.060714                   0.056865   \n",
      "81450                      0.097091                   0.088465   \n",
      "46059                      0.051289                   0.039082   \n",
      "\n",
      "       cscRechitClusterMinorAxis  cscRechitClusterSkewX  \\\n",
      "entry                                                     \n",
      "30288                   0.033058             151.187103   \n",
      "22690                   0.111024             -17.787857   \n",
      "18841                   0.026380               6.014762   \n",
      "24267                   0.047637             -31.382521   \n",
      "2079                    0.060069             -10.914412   \n",
      "...                          ...                    ...   \n",
      "9121                    0.088587               8.438223   \n",
      "29953                   0.049646             -17.393913   \n",
      "24936                   0.021274              18.601559   \n",
      "81450                   0.040009              15.992829   \n",
      "46059                   0.033214             -13.588858   \n",
      "\n",
      "       cscRechitClusterSkewY  cscRechitClusterSkewZ  cscRechitClusterKurtX  \\\n",
      "entry                                                                        \n",
      "30288             -32.169460             237.568344               3.838928   \n",
      "22690              -5.229364             241.287018               0.188441   \n",
      "18841               2.827916              -0.018875              -1.640384   \n",
      "24267             -15.453869            -148.015533              -0.002621   \n",
      "2079              -10.094745              -4.211289              -0.924856   \n",
      "...                      ...                    ...                    ...   \n",
      "9121               -8.142168               2.748119               0.984347   \n",
      "29953              20.068354               1.172690              -1.177401   \n",
      "24936             -22.615267              -0.013623              -0.739217   \n",
      "81450             194.955505              61.909031               0.287811   \n",
      "46059             -30.755178             118.991554              -0.361879   \n",
      "\n",
      "       cscRechitClusterKurtY  cscRechitClusterKurtZ  cscRechitClusterSize  \n",
      "entry                                                                      \n",
      "30288               1.006077              15.465321                   295  \n",
      "22690               0.297780               4.513807                   378  \n",
      "18841              -0.738940              -1.753824                    56  \n",
      "24267              -0.040331               3.759523                   402  \n",
      "2079               -0.400799              -1.898533                   363  \n",
      "...                      ...                    ...                   ...  \n",
      "9121                2.577827              -1.949925                   657  \n",
      "29953              -0.484393              -1.939519                   157  \n",
      "24936               0.137053              -0.808834                   106  \n",
      "81450              22.213169               5.156712                   195  \n",
      "46059               4.268100              90.010078                   380  \n",
      "\n",
      "[47868 rows x 25 columns]\n",
      "shuffled training features (47868, 25)\n",
      "shuffled training labels [422.18743896 326.69186401  87.08818817 ...  64.66755676 173.08444214\n",
      " 100.1175766 ]\n",
      "shuffled training labels (47868,)\n"
     ]
    }
   ],
   "source": [
    " # shuffle\n",
    "\n",
    "X_train, Y_train = sklearn.utils.shuffle(train_data, train_labels, random_state=0) # change to random_state=None for full randomness\n",
    "X_test, Y_test = sklearn.utils.shuffle(test_data, test_labels, random_state=0) # change to random_state=None for full randomness\n",
    "X_val, Y_val = sklearn.utils.shuffle(val_data, val_labels, random_state=0) # change to random_state=None for full randomness\n",
    "\n",
    "print(\"shuffled training features\", X_train)\n",
    "print(\"shuffled training features\", X_train.shape)\n",
    "print(\"shuffled training labels\", Y_train)\n",
    "print(\"shuffled training labels\", Y_train.shape)"
   ]
  },
  {
   "cell_type": "code",
   "execution_count": 32,
   "metadata": {},
   "outputs": [],
   "source": [
    "#defining the model and metrics\n",
    "METRICS = [\n",
    "      keras.metrics.BinaryCrossentropy(name='cross entropy'),  # same as model's loss\n",
    "      keras.metrics.MeanSquaredError(name='Brier score'),\n",
    "      keras.metrics.TruePositives(name='tp'),\n",
    "      keras.metrics.FalsePositives(name='fp'),\n",
    "      keras.metrics.TrueNegatives(name='tn'),\n",
    "      keras.metrics.FalseNegatives(name='fn'), \n",
    "      keras.metrics.BinaryAccuracy(name='accuracy'),\n",
    "      keras.metrics.Precision(name='precision'),\n",
    "      keras.metrics.Recall(name='recall'),\n",
    "      keras.metrics.AUC(name='auc'),\n",
    "      keras.metrics.AUC(name='prc', curve='PR'), # precision-recall curve\n",
    "]\n",
    "\n",
    "\n",
    "def make_model(metrics=METRICS, output_bias=None):\n",
    "    if output_bias is not None:\n",
    "        output_bias = tf.keras.initializers.Constant(output_bias)\n",
    "    initializer = tf.keras.initializers.RandomNormal(mean=0., stddev=1.)\n",
    "    initializer = tf.keras.initializers.RandomUniform(minval=0., maxval=200, seed=None)\n",
    "    initializer = tf.keras.initializers.Constant(value=100)\n",
    "\n",
    "    \n",
    "    model = keras.Sequential([\n",
    "        #keras.layers.Dense(5, activation='relu', input_shape=(n_features,), kernel_initializer=initializer, bias_initializer=None),\n",
    "        #keras.layers.Dropout(0.5),\n",
    "        #keras.layers.Dense(1, activation='relu', bias_initializer=output_bias, kernel_initializer=initializer)\n",
    "        #Attempt:\n",
    "        keras.layers.Dense(50, activation='relu', input_shape=(n_features,), kernel_initializer=initializer, bias_initializer=None),\n",
    "        keras.layers.Dense(30, activation='relu'),\n",
    "        keras.layers.Dense(20, activation='relu'),\n",
    "        keras.layers.Dense(5, activation='relu'),\n",
    "        #keras.layers.Dense(1, activation='relu', input_shape=(n_features,), kernel_initializer=initializer, bias_initializer=None),\n",
    "        keras.layers.Dense(1)\n",
    "\n",
    "    ])\n",
    "    \n",
    "    model.compile(\n",
    "        optimizer=keras.optimizers.Adam(learning_rate=1e-3),\n",
    "        #optimizer=keras.optimizers.SGD(learning_rate=0.01),\n",
    "        #loss=keras.losses.BinaryCrossentropy(),\n",
    "        loss=keras.losses.MeanSquaredError(name='MSE'),\n",
    "        metrics=metrics\n",
    "    )\n",
    "    \n",
    "    return model\n",
    "\n",
    "# TODO: Find best way to init weights"
   ]
  },
  {
   "cell_type": "code",
   "execution_count": 33,
   "metadata": {},
   "outputs": [],
   "source": [
    "EPOCHS = 100\n",
    "BATCH_SIZE = 2048\n",
    "\n",
    "early_stopping = tf.keras.callbacks.EarlyStopping(\n",
    "    monitor='val_loss', #val_prec\n",
    "    verbose=1,\n",
    "    patience=10,\n",
    "    mode='min',#max\n",
    "    restore_best_weights=True)"
   ]
  },
  {
   "cell_type": "code",
   "execution_count": 34,
   "metadata": {},
   "outputs": [
    {
     "name": "stdout",
     "output_type": "stream",
     "text": [
      "Model: \"sequential_2\"\n",
      "_________________________________________________________________\n",
      " Layer (type)                Output Shape              Param #   \n",
      "=================================================================\n",
      " dense_10 (Dense)            (None, 50)                1300      \n",
      "                                                                 \n",
      " dense_11 (Dense)            (None, 30)                1530      \n",
      "                                                                 \n",
      " dense_12 (Dense)            (None, 20)                620       \n",
      "                                                                 \n",
      " dense_13 (Dense)            (None, 5)                 105       \n",
      "                                                                 \n",
      " dense_14 (Dense)            (None, 1)                 6         \n",
      "                                                                 \n",
      "=================================================================\n",
      "Total params: 3,561\n",
      "Trainable params: 3,561\n",
      "Non-trainable params: 0\n",
      "_________________________________________________________________\n"
     ]
    }
   ],
   "source": [
    "model = make_model()\n",
    "model.summary()"
   ]
  },
  {
   "cell_type": "code",
   "execution_count": 35,
   "metadata": {},
   "outputs": [
    {
     "name": "stdout",
     "output_type": "stream",
     "text": [
      "1496/1496 [==============================] - 2s 1ms/step\n",
      "[[-29607.75 ]\n",
      " [-38087.758]\n",
      " [-12324.1  ]\n",
      " ...\n",
      " [-36879.047]\n",
      " [-42373.68 ]\n",
      " [-25966.035]]\n",
      "[422.18743896 326.69186401  87.08818817 ...  64.66755676 173.08444214\n",
      " 100.1175766 ]\n"
     ]
    }
   ],
   "source": [
    "output = model.predict(X_train)\n",
    "print(output)\n",
    "print(Y_train)"
   ]
  },
  {
   "cell_type": "code",
   "execution_count": 36,
   "metadata": {},
   "outputs": [
    {
     "name": "stdout",
     "output_type": "stream",
     "text": [
      "Loss: 1287571584.0000\n"
     ]
    }
   ],
   "source": [
    "results = model.evaluate(X_train, Y_train, batch_size=BATCH_SIZE, verbose=0)\n",
    "print(\"Loss: {:0.4f}\".format(results[0]))"
   ]
  },
  {
   "cell_type": "code",
   "execution_count": 37,
   "metadata": {},
   "outputs": [
    {
     "name": "stdout",
     "output_type": "stream",
     "text": [
      "Epoch 1/100\n",
      "479/479 [==============================] - 6s 7ms/step - loss: 6056045.0000 - cross entropy: 541.9663 - Brier score: 646811392.0000 - tp: 36791.0000 - fp: 0.0000e+00 - tn: 0.0000e+00 - fn: 58945.0000 - accuracy: 0.0000e+00 - precision: 1.0000 - recall: 0.3843 - auc: 0.0000e+00 - prc: 1.0000 - val_loss: 5462732.0000 - val_cross entropy: 1518.1365 - val_Brier score: 5462732.0000 - val_tp: 3157.0000 - val_fp: 0.0000e+00 - val_tn: 0.0000e+00 - val_fn: 12799.0000 - val_accuracy: 0.0000e+00 - val_precision: 1.0000 - val_recall: 0.1979 - val_auc: 0.0000e+00 - val_prc: 1.0000\n",
      "Epoch 2/100\n",
      "479/479 [==============================] - 3s 5ms/step - loss: 77767.2422 - cross entropy: -2209.2263 - Brier score: 77767.2422 - tp: 46269.0000 - fp: 0.0000e+00 - tn: 0.0000e+00 - fn: 1599.0000 - accuracy: 0.0000e+00 - precision: 1.0000 - recall: 0.9666 - auc: 0.0000e+00 - prc: 1.0000 - val_loss: 11759.0518 - val_cross entropy: -2382.1233 - val_Brier score: 11759.0518 - val_tp: 15956.0000 - val_fp: 0.0000e+00 - val_tn: 0.0000e+00 - val_fn: 0.0000e+00 - val_accuracy: 0.0000e+00 - val_precision: 1.0000 - val_recall: 1.0000 - val_auc: 0.0000e+00 - val_prc: 1.0000\n",
      "Epoch 3/100\n",
      "479/479 [==============================] - 2s 5ms/step - loss: 450603.2500 - cross entropy: -2020.9607 - Brier score: 450603.2500 - tp: 44409.0000 - fp: 0.0000e+00 - tn: 0.0000e+00 - fn: 3459.0000 - accuracy: 0.0000e+00 - precision: 1.0000 - recall: 0.9277 - auc: 0.0000e+00 - prc: 1.0000 - val_loss: 317643.5312 - val_cross entropy: -2382.1233 - val_Brier score: 317643.5312 - val_tp: 15956.0000 - val_fp: 0.0000e+00 - val_tn: 0.0000e+00 - val_fn: 0.0000e+00 - val_accuracy: 0.0000e+00 - val_precision: 1.0000 - val_recall: 1.0000 - val_auc: 0.0000e+00 - val_prc: 1.0000\n",
      "Epoch 4/100\n",
      "479/479 [==============================] - 3s 6ms/step - loss: 18461.2891 - cross entropy: -2194.1794 - Brier score: 18461.2891 - tp: 46114.0000 - fp: 0.0000e+00 - tn: 0.0000e+00 - fn: 1754.0000 - accuracy: 0.0000e+00 - precision: 1.0000 - recall: 0.9634 - auc: 0.0000e+00 - prc: 1.0000 - val_loss: 11094.8477 - val_cross entropy: -2382.1233 - val_Brier score: 11094.8477 - val_tp: 15956.0000 - val_fp: 0.0000e+00 - val_tn: 0.0000e+00 - val_fn: 0.0000e+00 - val_accuracy: 0.0000e+00 - val_precision: 1.0000 - val_recall: 1.0000 - val_auc: 0.0000e+00 - val_prc: 1.0000\n",
      "Epoch 5/100\n",
      "479/479 [==============================] - 3s 7ms/step - loss: 96252.0000 - cross entropy: -1897.2483 - Brier score: 96252.0000 - tp: 43214.0000 - fp: 0.0000e+00 - tn: 0.0000e+00 - fn: 4654.0000 - accuracy: 0.0000e+00 - precision: 1.0000 - recall: 0.9028 - auc: 0.0000e+00 - prc: 1.0000 - val_loss: 172555.0938 - val_cross entropy: -2382.1233 - val_Brier score: 172555.0781 - val_tp: 15956.0000 - val_fp: 0.0000e+00 - val_tn: 0.0000e+00 - val_fn: 0.0000e+00 - val_accuracy: 0.0000e+00 - val_precision: 1.0000 - val_recall: 1.0000 - val_auc: 0.0000e+00 - val_prc: 1.0000\n",
      "Epoch 6/100\n",
      "479/479 [==============================] - 3s 6ms/step - loss: 556408.1250 - cross entropy: -1463.0990 - Brier score: 556408.1250 - tp: 38952.0000 - fp: 0.0000e+00 - tn: 0.0000e+00 - fn: 8916.0000 - accuracy: 0.0000e+00 - precision: 1.0000 - recall: 0.8137 - auc: 0.0000e+00 - prc: 1.0000 - val_loss: 8725.5762 - val_cross entropy: -2382.1233 - val_Brier score: 8725.5762 - val_tp: 15956.0000 - val_fp: 0.0000e+00 - val_tn: 0.0000e+00 - val_fn: 0.0000e+00 - val_accuracy: 0.0000e+00 - val_precision: 1.0000 - val_recall: 1.0000 - val_auc: 0.0000e+00 - val_prc: 1.0000\n",
      "Epoch 7/100\n",
      "479/479 [==============================] - 3s 6ms/step - loss: 117229.3125 - cross entropy: -1952.5564 - Brier score: 117229.3125 - tp: 43764.0000 - fp: 0.0000e+00 - tn: 0.0000e+00 - fn: 4104.0000 - accuracy: 0.0000e+00 - precision: 1.0000 - recall: 0.9143 - auc: 0.0000e+00 - prc: 1.0000 - val_loss: 8697.6270 - val_cross entropy: -2382.1233 - val_Brier score: 8697.6270 - val_tp: 15956.0000 - val_fp: 0.0000e+00 - val_tn: 0.0000e+00 - val_fn: 0.0000e+00 - val_accuracy: 0.0000e+00 - val_precision: 1.0000 - val_recall: 1.0000 - val_auc: 0.0000e+00 - val_prc: 1.0000\n",
      "Epoch 8/100\n",
      "479/479 [==============================] - 3s 6ms/step - loss: 1009056.3125 - cross entropy: -1644.8390 - Brier score: 1009056.3125 - tp: 40699.0000 - fp: 0.0000e+00 - tn: 0.0000e+00 - fn: 7169.0000 - accuracy: 0.0000e+00 - precision: 1.0000 - recall: 0.8502 - auc: 0.0000e+00 - prc: 1.0000 - val_loss: 13532.0420 - val_cross entropy: -2382.1233 - val_Brier score: 13532.0420 - val_tp: 15956.0000 - val_fp: 0.0000e+00 - val_tn: 0.0000e+00 - val_fn: 0.0000e+00 - val_accuracy: 0.0000e+00 - val_precision: 1.0000 - val_recall: 1.0000 - val_auc: 0.0000e+00 - val_prc: 1.0000\n",
      "Epoch 9/100\n",
      "479/479 [==============================] - 3s 6ms/step - loss: 13743.8848 - cross entropy: -2220.8203 - Brier score: 13743.8848 - tp: 46395.0000 - fp: 0.0000e+00 - tn: 0.0000e+00 - fn: 1473.0000 - accuracy: 0.0000e+00 - precision: 1.0000 - recall: 0.9692 - auc: 0.0000e+00 - prc: 1.0000 - val_loss: 11963.1338 - val_cross entropy: -2382.1233 - val_Brier score: 11963.1338 - val_tp: 15956.0000 - val_fp: 0.0000e+00 - val_tn: 0.0000e+00 - val_fn: 0.0000e+00 - val_accuracy: 0.0000e+00 - val_precision: 1.0000 - val_recall: 1.0000 - val_auc: 0.0000e+00 - val_prc: 1.0000\n",
      "Epoch 10/100\n",
      "479/479 [==============================] - 3s 6ms/step - loss: 70758.4766 - cross entropy: -1757.9358 - Brier score: 70758.4766 - tp: 41861.0000 - fp: 0.0000e+00 - tn: 0.0000e+00 - fn: 6007.0000 - accuracy: 0.0000e+00 - precision: 1.0000 - recall: 0.8745 - auc: 0.0000e+00 - prc: 1.0000 - val_loss: 679744.5000 - val_cross entropy: 1299.8358 - val_Brier score: 679744.5000 - val_tp: 3911.0000 - val_fp: 0.0000e+00 - val_tn: 0.0000e+00 - val_fn: 12045.0000 - val_accuracy: 0.0000e+00 - val_precision: 1.0000 - val_recall: 0.2451 - val_auc: 0.0000e+00 - val_prc: 1.0000\n",
      "Epoch 11/100\n",
      "479/479 [==============================] - 3s 5ms/step - loss: 88580.9062 - cross entropy: -1685.9991 - Brier score: 88580.9062 - tp: 41224.0000 - fp: 0.0000e+00 - tn: 0.0000e+00 - fn: 6644.0000 - accuracy: 0.0000e+00 - precision: 1.0000 - recall: 0.8612 - auc: 0.0000e+00 - prc: 1.0000 - val_loss: 44190.3320 - val_cross entropy: 178.8987 - val_Brier score: 44190.3320 - val_tp: 7741.0000 - val_fp: 0.0000e+00 - val_tn: 0.0000e+00 - val_fn: 8215.0000 - val_accuracy: 0.0000e+00 - val_precision: 1.0000 - val_recall: 0.4851 - val_auc: 0.0000e+00 - val_prc: 1.0000\n",
      "Epoch 12/100\n",
      "479/479 [==============================] - 3s 6ms/step - loss: 333627.6250 - cross entropy: -1357.5659 - Brier score: 333627.6250 - tp: 38021.0000 - fp: 0.0000e+00 - tn: 0.0000e+00 - fn: 9847.0000 - accuracy: 0.0000e+00 - precision: 1.0000 - recall: 0.7943 - auc: 0.0000e+00 - prc: 1.0000 - val_loss: 66724.3359 - val_cross entropy: 552.0317 - val_Brier score: 66724.3359 - val_tp: 6509.0000 - val_fp: 0.0000e+00 - val_tn: 0.0000e+00 - val_fn: 9447.0000 - val_accuracy: 0.0000e+00 - val_precision: 1.0000 - val_recall: 0.4079 - val_auc: 0.0000e+00 - val_prc: 1.0000\n",
      "Epoch 13/100\n",
      "479/479 [==============================] - 3s 5ms/step - loss: 215758.8125 - cross entropy: -1487.0804 - Brier score: 215758.8125 - tp: 39234.0000 - fp: 0.0000e+00 - tn: 0.0000e+00 - fn: 8634.0000 - accuracy: 0.0000e+00 - precision: 1.0000 - recall: 0.8196 - auc: 0.0000e+00 - prc: 1.0000 - val_loss: 22351.7969 - val_cross entropy: -2382.1233 - val_Brier score: 22351.7969 - val_tp: 15956.0000 - val_fp: 0.0000e+00 - val_tn: 0.0000e+00 - val_fn: 0.0000e+00 - val_accuracy: 0.0000e+00 - val_precision: 1.0000 - val_recall: 1.0000 - val_auc: 0.0000e+00 - val_prc: 1.0000\n",
      "Epoch 14/100\n",
      "479/479 [==============================] - 2s 5ms/step - loss: 235692.4688 - cross entropy: -1581.8116 - Brier score: 235692.4688 - tp: 40296.0000 - fp: 0.0000e+00 - tn: 0.0000e+00 - fn: 7572.0000 - accuracy: 0.0000e+00 - precision: 1.0000 - recall: 0.8418 - auc: 0.0000e+00 - prc: 1.0000 - val_loss: 5290947.0000 - val_cross entropy: 1434.4614 - val_Brier score: 5290947.0000 - val_tp: 3447.0000 - val_fp: 0.0000e+00 - val_tn: 0.0000e+00 - val_fn: 12509.0000 - val_accuracy: 0.0000e+00 - val_precision: 1.0000 - val_recall: 0.2160 - val_auc: 0.0000e+00 - val_prc: 1.0000\n",
      "Epoch 15/100\n"
     ]
    },
    {
     "name": "stdout",
     "output_type": "stream",
     "text": [
      "479/479 [==============================] - 2s 5ms/step - loss: 58176.1914 - cross entropy: -1981.7156 - Brier score: 58176.1914 - tp: 44131.0000 - fp: 0.0000e+00 - tn: 0.0000e+00 - fn: 3737.0000 - accuracy: 0.0000e+00 - precision: 1.0000 - recall: 0.9219 - auc: 0.0000e+00 - prc: 1.0000 - val_loss: 25621.7402 - val_cross entropy: -781.3483 - val_Brier score: 25621.7402 - val_tp: 10921.0000 - val_fp: 0.0000e+00 - val_tn: 0.0000e+00 - val_fn: 5035.0000 - val_accuracy: 0.0000e+00 - val_precision: 1.0000 - val_recall: 0.6844 - val_auc: 0.0000e+00 - val_prc: 1.0000\n",
      "Epoch 16/100\n",
      "479/479 [==============================] - 2s 5ms/step - loss: 75003.5391 - cross entropy: -1582.4282 - Brier score: 75003.5391 - tp: 40188.0000 - fp: 0.0000e+00 - tn: 0.0000e+00 - fn: 7680.0000 - accuracy: 0.0000e+00 - precision: 1.0000 - recall: 0.8396 - auc: 0.0000e+00 - prc: 1.0000 - val_loss: 65274.5039 - val_cross entropy: -2382.1233 - val_Brier score: 65274.5039 - val_tp: 15956.0000 - val_fp: 0.0000e+00 - val_tn: 0.0000e+00 - val_fn: 0.0000e+00 - val_accuracy: 0.0000e+00 - val_precision: 1.0000 - val_recall: 1.0000 - val_auc: 0.0000e+00 - val_prc: 1.0000\n",
      "Epoch 17/100\n",
      "467/479 [============================>.] - ETA: 0s - loss: 82049.4844 - cross entropy: -1641.8433 - Brier score: 82049.4844 - tp: 39815.0000 - fp: 0.0000e+00 - tn: 0.0000e+00 - fn: 6885.0000 - accuracy: 0.0000e+00 - precision: 1.0000 - recall: 0.8526 - auc: 0.0000e+00 - prc: 1.0000Restoring model weights from the end of the best epoch: 7.\n",
      "479/479 [==============================] - 3s 5ms/step - loss: 80732.8672 - cross entropy: -1649.1331 - Brier score: 80732.8672 - tp: 40875.0000 - fp: 0.0000e+00 - tn: 0.0000e+00 - fn: 6993.0000 - accuracy: 0.0000e+00 - precision: 1.0000 - recall: 0.8539 - auc: 0.0000e+00 - prc: 1.0000 - val_loss: 24916.8281 - val_cross entropy: -896.8574 - val_Brier score: 24916.8281 - val_tp: 11299.0000 - val_fp: 0.0000e+00 - val_tn: 0.0000e+00 - val_fn: 4657.0000 - val_accuracy: 0.0000e+00 - val_precision: 1.0000 - val_recall: 0.7081 - val_auc: 0.0000e+00 - val_prc: 1.0000\n",
      "Epoch 17: early stopping\n"
     ]
    }
   ],
   "source": [
    "model = make_model()\n",
    "history = model.fit(\n",
    "    X_train,\n",
    "    Y_train,\n",
    "    batch_size=100,\n",
    "    epochs=EPOCHS, #EPOCHS\n",
    "    callbacks=[early_stopping],\n",
    "    validation_data=(X_val, Y_val))"
   ]
  },
  {
   "cell_type": "code",
   "execution_count": 38,
   "metadata": {},
   "outputs": [
    {
     "name": "stdout",
     "output_type": "stream",
     "text": [
      "1/1 [==============================] - 0s 76ms/step\n",
      "[[126.894104]\n",
      " [129.09723 ]\n",
      " [ 39.771053]\n",
      " [148.71037 ]\n",
      " [ 97.32379 ]\n",
      " [ 69.456604]\n",
      " [231.44879 ]\n",
      " [ 68.57379 ]\n",
      " [148.71037 ]\n",
      " [ 69.52301 ]]\n",
      "[422.18743896 326.69186401  87.08818817 108.66213226 178.54800415\n",
      " 184.39175415 105.66104889 194.80322266 164.13456726 123.49138641]\n",
      "Loss on training: 8536.4639\n",
      "Loss on validation: 8697.6279\n"
     ]
    }
   ],
   "source": [
    "pred_output = model.predict(X_train[:10])\n",
    "print(pred_output)\n",
    "print(Y_train[:10])\n",
    "\n",
    "results = model.evaluate(X_train, Y_train, batch_size=BATCH_SIZE, verbose=0)\n",
    "print(\"Loss on training: {:0.4f}\".format(results[0]))\n",
    "\n",
    "results_val = model.evaluate(X_val, Y_val, batch_size=BATCH_SIZE, verbose=0)\n",
    "print(\"Loss on validation: {:0.4f}\".format(results_val[0]))"
   ]
  },
  {
   "cell_type": "code",
   "execution_count": 39,
   "metadata": {},
   "outputs": [
    {
     "name": "stdout",
     "output_type": "stream",
     "text": [
      "24/24 [==============================] - 0s 2ms/step\n",
      "8/8 [==============================] - 0s 3ms/step\n",
      "15956 15956\n"
     ]
    }
   ],
   "source": [
    "# Plots of loss vs epoch \n",
    "# Plot of ROC\n",
    "\n",
    "train_predictions = model.predict(train_data, batch_size=BATCH_SIZE)\n",
    "test_predictions = model.predict(test_data, batch_size=BATCH_SIZE)\n",
    "print(len(test_data),len(test_predictions))"
   ]
  },
  {
   "cell_type": "raw",
   "metadata": {},
   "source": [
    "from source.tools import tools\n",
    "obj = tools()\n",
    "colors = plt.rcParams['axes.prop_cycle'].by_key()['color']\n",
    "obj.plot_roc(\"Train Baseline\", train_labels, train_predictions_baseline, color=colors[0])\n",
    "obj.plot_roc(\"Test Baseline\", test_labels, test_predictions_baseline, color=colors[1], linestyle='--')\n",
    "plt.legend(loc='lower right')"
   ]
  },
  {
   "cell_type": "code",
   "execution_count": 40,
   "metadata": {},
   "outputs": [
    {
     "name": "stdout",
     "output_type": "stream",
     "text": [
      "[6056045.0, 77767.2421875, 450603.25, 18461.2890625, 96252.0, 556408.125, 117229.3125, 1009056.3125, 13743.884765625, 70758.4765625, 88580.90625, 333627.625, 215758.8125, 235692.46875, 58176.19140625, 75003.5390625, 80732.8671875]\n",
      "[5462732.0, 11759.0517578125, 317643.53125, 11094.84765625, 172555.09375, 8725.576171875, 8697.626953125, 13532.0419921875, 11963.1337890625, 679744.5, 44190.33203125, 66724.3359375, 22351.796875, 5290947.0, 25621.740234375, 65274.50390625, 24916.828125]\n",
      "dict_keys(['loss', 'cross entropy', 'Brier score', 'tp', 'fp', 'tn', 'fn', 'accuracy', 'precision', 'recall', 'auc', 'prc', 'val_loss', 'val_cross entropy', 'val_Brier score', 'val_tp', 'val_fp', 'val_tn', 'val_fn', 'val_accuracy', 'val_precision', 'val_recall', 'val_auc', 'val_prc'])\n"
     ]
    }
   ],
   "source": [
    "print(history.history['loss'])\n",
    "print(history.history['val_loss'])\n",
    "print(history.history.keys())"
   ]
  },
  {
   "cell_type": "code",
   "execution_count": 41,
   "metadata": {},
   "outputs": [],
   "source": [
    "#AUC\n",
    "#sklearn.metrics.roc_auc_score(test_labels, test_predictions_baseline)"
   ]
  },
  {
   "cell_type": "code",
   "execution_count": 42,
   "metadata": {},
   "outputs": [],
   "source": [
    "#sklearn.metrics.roc_auc_score(train_labels, train_predictions_baseline)"
   ]
  },
  {
   "cell_type": "code",
   "execution_count": 43,
   "metadata": {},
   "outputs": [],
   "source": [
    "from source.tools import tools\n",
    "obj = tools()\n",
    "colors = plt.rcParams['axes.prop_cycle'].by_key()['color']\n",
    "\n",
    "def plot_metrics(history):\n",
    "    metrics = ['loss', 'prc', 'precision', 'recall']\n",
    "    metrics = ['loss', 'Brier score', 'precision', 'recall']\n",
    "    fig, axs = plt.subplots(2, 2, figsize=(10, 8))\n",
    "    fig.subplots_adjust(hspace=0.3)  # Adjust the vertical spacing between subplots\n",
    "\n",
    "    for n, metric in enumerate(metrics):\n",
    "        name = metric.replace(\"_\",\" \").capitalize()\n",
    "        plt.subplot(2,2,n+1)\n",
    "        plt.plot(history.epoch, history.history[metric], color=colors[0], label='Train')\n",
    "        plt.plot(history.epoch, history.history['val_'+metric],\n",
    "                 color=colors[0], linestyle=\"--\", label='Val')\n",
    "        plt.xlabel('Epoch')\n",
    "        plt.ylabel(name)\n",
    "        if metric == 'loss':\n",
    "            plt.ylim([1, plt.ylim()[1]])\n",
    "            plt.yscale(\"log\")\n",
    "        elif metric == 'auc':\n",
    "            plt.ylim([0.8,1])\n",
    "        elif metric == 'Brier score':\n",
    "            plt.ylim([0.1,12527118336])\n",
    "            plt.yscale(\"log\")\n",
    "        else:\n",
    "            plt.ylim([0,1.1])\n",
    "\n",
    "    plt.legend()"
   ]
  },
  {
   "cell_type": "code",
   "execution_count": 44,
   "metadata": {},
   "outputs": [
    {
     "name": "stdout",
     "output_type": "stream",
     "text": [
      "[646811392.0, 77767.2421875, 450603.25, 18461.2890625, 96252.0, 556408.125, 117229.3125, 1009056.3125, 13743.884765625, 70758.4765625, 88580.90625, 333627.625, 215758.8125, 235692.46875, 58176.19140625, 75003.5390625, 80732.8671875]\n"
     ]
    },
    {
     "data": {
      "image/png": "[encoded data removed]",
      "text/plain": [
       "<Figure size 720x576 with 4 Axes>"
      ]
     },
     "metadata": {
      "needs_background": "light"
     },
     "output_type": "display_data"
    }
   ],
   "source": [
    "plot_metrics(history)\n",
    "print(history.history['Brier score'])"
   ]
  },
  {
   "cell_type": "code",
   "execution_count": 45,
   "metadata": {},
   "outputs": [
    {
     "data": {
      "image/png": "[encoded data removed]",
      "text/plain": [
       "<Figure size 432x288 with 1 Axes>"
      ]
     },
     "metadata": {
      "needs_background": "light"
     },
     "output_type": "display_data"
    },
    {
     "name": "stdout",
     "output_type": "stream",
     "text": [
      "[[ 72.28473 ]\n",
      " [ 32.936092]\n",
      " [101.959625]\n",
      " ...\n",
      " [105.825745]\n",
      " [139.47809 ]\n",
      " [128.65485 ]]\n"
     ]
    }
   ],
   "source": [
    "obj = tools()\n",
    "obj.plotHist(train_predictions,train_labels, bins = 50, interval=[0,1000] ,logy=True, logx=False, labels=[\"prediction\",\"truth\"],\n",
    "             xlabel= 'gen particle energy', density=False, ax=None, moveOverUnderFlow=True, verbosity = 0)\n",
    "\n",
    "#obj.plotHist(test_predictions_signal, test_predictions_background, bins = 50, interval=[0,1], logy=True, logx=False, labels=[\"signal test\", \"background test\"],\n",
    "#             xlabel= 'DNN output', density=False, ax=None, moveOverUnderFlow=True, verbosity = 0)\n",
    "\n",
    "print(train_predictions)"
   ]
  },
  {
   "cell_type": "code",
   "execution_count": null,
   "metadata": {},
   "outputs": [],
   "source": []
  }
 ],
 "metadata": {
  "kernelspec": {
   "display_name": "mds_regression",
   "language": "python",
   "name": "mds_regression"
  },
  "language_info": {
   "codemirror_mode": {
    "name": "ipython",
    "version": 3
   },
   "file_extension": ".py",
   "mimetype": "text/x-python",
   "name": "python",
   "nbconvert_exporter": "python",
   "pygments_lexer": "ipython3",
   "version": "3.7.12"
  }
 },
 "nbformat": 4,
 "nbformat_minor": 2
}
