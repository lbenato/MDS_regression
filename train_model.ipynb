{
 "cells": [
  {
   "cell_type": "code",
   "execution_count": 3,
   "metadata": {},
   "outputs": [
    {
     "name": "stderr",
     "output_type": "stream",
     "text": [
      "2023-12-04 15:24:12.498484: I tensorflow/core/platform/cpu_feature_guard.cc:193] This TensorFlow binary is optimized with oneAPI Deep Neural Network Library (oneDNN) to use the following CPU instructions in performance-critical operations:  AVX2 FMA\n",
      "To enable them in other operations, rebuild TensorFlow with the appropriate compiler flags.\n",
      "2023-12-04 15:24:12.766626: W tensorflow/compiler/xla/stream_executor/platform/default/dso_loader.cc:64] Could not load dynamic library 'libcudart.so.11.0'; dlerror: libcudart.so.11.0: cannot open shared object file: No such file or directory\n",
      "2023-12-04 15:24:12.766660: I tensorflow/compiler/xla/stream_executor/cuda/cudart_stub.cc:29] Ignore above cudart dlerror if you do not have a GPU set up on your machine.\n",
      "2023-12-04 15:24:14.221750: W tensorflow/compiler/xla/stream_executor/platform/default/dso_loader.cc:64] Could not load dynamic library 'libnvinfer.so.7'; dlerror: libnvinfer.so.7: cannot open shared object file: No such file or directory\n",
      "2023-12-04 15:24:14.221857: W tensorflow/compiler/xla/stream_executor/platform/default/dso_loader.cc:64] Could not load dynamic library 'libnvinfer_plugin.so.7'; dlerror: libnvinfer_plugin.so.7: cannot open shared object file: No such file or directory\n",
      "2023-12-04 15:24:14.221865: W tensorflow/compiler/tf2tensorrt/utils/py_utils.cc:38] TF-TRT Warning: Cannot dlopen some TensorRT libraries. If you would like to use Nvidia GPU with TensorRT, please make sure the missing libraries mentioned above are installed properly.\n",
      "2023-12-04 15:24:18.032757: W tensorflow/compiler/xla/stream_executor/platform/default/dso_loader.cc:64] Could not load dynamic library 'libcuda.so.1'; dlerror: libcuda.so.1: cannot open shared object file: No such file or directory\n",
      "2023-12-04 15:24:18.032808: W tensorflow/compiler/xla/stream_executor/cuda/cuda_driver.cc:265] failed call to cuInit: UNKNOWN ERROR (303)\n",
      "2023-12-04 15:24:18.032837: I tensorflow/compiler/xla/stream_executor/cuda/cuda_diagnostics.cc:156] kernel driver does not appear to be running on this host (batch1362.desy.de): /proc/driver/nvidia/version does not exist\n",
      "2023-12-04 15:24:18.033301: I tensorflow/core/platform/cpu_feature_guard.cc:193] This TensorFlow binary is optimized with oneAPI Deep Neural Network Library (oneDNN) to use the following CPU instructions in performance-critical operations:  AVX2 FMA\n",
      "To enable them in other operations, rebuild TensorFlow with the appropriate compiler flags.\n"
     ]
    }
   ],
   "source": [
    "from source import Dataset\n",
    "from source import tools\n",
    "import awkward as ak\n",
    "import glob\n",
    "import time\n",
    "\n",
    "import tensorflow as tf\n",
    "from tensorflow import keras\n",
    "from tensorflow.keras import optimizers\n",
    "from keras import layers\n",
    "\n",
    "import os\n",
    "import tempfile\n",
    "\n",
    "import matplotlib as mpl\n",
    "import matplotlib.pyplot as plt\n",
    "import numpy as np\n",
    "import pandas as pd\n",
    "import seaborn as sns\n",
    "\n",
    "import sklearn\n",
    "from sklearn.metrics import confusion_matrix\n",
    "from sklearn.model_selection import train_test_split\n",
    "from sklearn.preprocessing import StandardScaler"
   ]
  },
  {
   "cell_type": "code",
   "execution_count": 4,
   "metadata": {},
   "outputs": [
    {
     "name": "stdout",
     "output_type": "stream",
     "text": [
      "['cscRechitClusterX', 'cscRechitClusterY', 'cscRechitClusterZ', 'cscRechitClusterTimeWeighted', 'cscRechitClusterTimeSpreadWeightedAll', 'cscRechitClusternXY', 'cscRechitClusternZ', 'cscRechitClusterXSpread', 'cscRechitClusterYSpread', 'cscRechitClusterZSpread', 'cscRechitClusterXYSpread', 'cscRechitClusterRSpread', 'cscRechitClusterEtaPhiSpread', 'cscRechitClusterEtaSpread', 'cscRechitClusterPhiSpread', 'cscRechitClusterDeltaRSpread', 'cscRechitClusterMajorAxis', 'cscRechitClusterMinorAxis', 'cscRechitClusterSkewX', 'cscRechitClusterSkewY', 'cscRechitClusterSkewZ', 'cscRechitClusterKurtX', 'cscRechitClusterKurtY', 'cscRechitClusterKurtZ', 'cscRechitClusterSize']\n"
     ]
    }
   ],
   "source": [
    "#selecting features \n",
    "branches_to_train = [\n",
    "\"cscRechitClusterX\",\n",
    "\"cscRechitClusterY\",\n",
    "\"cscRechitClusterZ\",\n",
    "\"cscRechitClusterTimeWeighted\",\n",
    "\"cscRechitClusterTimeSpreadWeightedAll\",\n",
    "\"cscRechitClusternXY\",\n",
    "\"cscRechitClusternZ\",\n",
    "\"cscRechitClusterXSpread\",\n",
    "\"cscRechitClusterYSpread\",\n",
    "\"cscRechitClusterZSpread\",\n",
    "\"cscRechitClusterXYSpread\",\n",
    "\"cscRechitClusterRSpread\",\n",
    "\"cscRechitClusterEtaPhiSpread\",\n",
    "\"cscRechitClusterEtaSpread\",\n",
    "\"cscRechitClusterPhiSpread\",\n",
    "\"cscRechitClusterDeltaRSpread\",\n",
    "\"cscRechitClusterMajorAxis\",\n",
    "\"cscRechitClusterMinorAxis\",\n",
    "\"cscRechitClusterSkewX\",\n",
    "\"cscRechitClusterSkewY\",\n",
    "\"cscRechitClusterSkewZ\",\n",
    "\"cscRechitClusterKurtX\",\n",
    "\"cscRechitClusterKurtY\",\n",
    "\"cscRechitClusterKurtZ\",\n",
    "\"cscRechitClusterSize\",\n",
    "]\n",
    "\n",
    "#padded_branches_to_train = []\n",
    "#for col in branches_to_train:           \n",
    "#    #creates padded column for each jet of each \"Jets/Jets.\" key\n",
    "#    for icol in range(10):\n",
    "#        new_col_name = col+\"_\"+str(icol)\n",
    "#        padded_branches_to_train.append(new_col_name)\n",
    "\n",
    "#branches_to_train = [\n",
    "#    \"cscRechitClusterSize\",\n",
    "#]\n",
    "\n",
    "print(branches_to_train)\n",
    "truth_value = \"cscRechitCluster_match_gLLP_e\"\n"
   ]
  },
  {
   "cell_type": "code",
   "execution_count": 5,
   "metadata": {},
   "outputs": [],
   "source": [
    "#dataset_signal = Dataset.Dataset(\"signal\")\n",
    "#loaded_array_signal = dataset_signal.load(\"/nfs/dust/cms/user/lbenato/ML_LLP/MDS_regression/datasets/test_v6.h5\")"
   ]
  },
  {
   "cell_type": "code",
   "execution_count": 6,
   "metadata": {},
   "outputs": [
    {
     "name": "stdout",
     "output_type": "stream",
     "text": [
      "Opening file  /nfs/dust/cms/user/loewetob/ML_LLP/MDS_regression/datasets/test_df_v6.h5\n"
     ]
    }
   ],
   "source": [
    "dataset_signal = Dataset.Dataset(\"signal\")\n",
    "df_signal = dataset_signal.load_df(\"/nfs/dust/cms/user/loewetob/ML_LLP/MDS_regression/datasets/test_df_v6.h5\")"
   ]
  },
  {
   "cell_type": "code",
   "execution_count": 7,
   "metadata": {},
   "outputs": [
    {
     "data": {
      "text/plain": [
       "(90016, 79)"
      ]
     },
     "execution_count": 7,
     "metadata": {},
     "output_type": "execute_result"
    }
   ],
   "source": [
    "df_signal.shape"
   ]
  },
  {
   "cell_type": "code",
   "execution_count": 8,
   "metadata": {},
   "outputs": [],
   "source": [
    "#Consider only data with proper gen matching\n",
    "df_signal = df_signal[ df_signal[\"cscRechitCluster_match_gLLP\"]>=1 ]"
   ]
  },
  {
   "cell_type": "code",
   "execution_count": 9,
   "metadata": {},
   "outputs": [
    {
     "data": {
      "text/plain": [
       "(79780, 79)"
      ]
     },
     "execution_count": 9,
     "metadata": {},
     "output_type": "execute_result"
    }
   ],
   "source": [
    "df_signal.shape"
   ]
  },
  {
   "cell_type": "code",
   "execution_count": 10,
   "metadata": {},
   "outputs": [
    {
     "name": "stdout",
     "output_type": "stream",
     "text": [
      "          weight  evtNum  cscRechitCluster_match_gLLP  \\\n",
      "entry                                                   \n",
      "0      23.164499  502880                         True   \n",
      "1      23.164499  502904                         True   \n",
      "2      23.164499  502907                         True   \n",
      "3      23.164499  502907                         True   \n",
      "4      23.164499  502929                         True   \n",
      "...          ...     ...                          ...   \n",
      "90008  23.164499  552795                         True   \n",
      "90009  23.164499  552829                         True   \n",
      "90011  23.164499  552858                         True   \n",
      "90012  23.164499  552905                         True   \n",
      "90014  23.164499  552967                         True   \n",
      "\n",
      "       cscRechitCluster_match_gLLP_minDeltaR  \\\n",
      "entry                                          \n",
      "0                                   0.021920   \n",
      "1                                   0.019714   \n",
      "2                                   0.076979   \n",
      "3                                   0.013711   \n",
      "4                                   0.230313   \n",
      "...                                      ...   \n",
      "90008                               0.028581   \n",
      "90009                               0.024280   \n",
      "90011                               0.019510   \n",
      "90012                               0.043339   \n",
      "90014                               0.043587   \n",
      "\n",
      "       cscRechitCluster_match_gLLP_index  cscRechitCluster_match_gLLP_eta  \\\n",
      "entry                                                                       \n",
      "0                                      0                        -2.093896   \n",
      "1                                      0                        -1.533004   \n",
      "2                                      1                        -1.429658   \n",
      "3                                      0                        -1.550052   \n",
      "4                                      0                        -1.274899   \n",
      "...                                  ...                              ...   \n",
      "90008                                  0                        -2.077198   \n",
      "90009                                  0                        -1.510345   \n",
      "90011                                  0                         1.296651   \n",
      "90012                                  1                        -2.017064   \n",
      "90014                                  1                         1.226646   \n",
      "\n",
      "       cscRechitCluster_match_gLLP_phi  cscRechitCluster_match_gLLP_decay_r  \\\n",
      "entry                                                                         \n",
      "0                             2.359756                           201.741638   \n",
      "1                             2.072294                           416.863739   \n",
      "2                             1.592075                           285.706299   \n",
      "3                            -1.773696                           266.036346   \n",
      "4                             2.053477                           254.872650   \n",
      "...                                ...                                  ...   \n",
      "90008                         1.921864                           140.769135   \n",
      "90009                        -2.182787                           230.464218   \n",
      "90011                        -2.176770                           339.710938   \n",
      "90012                         2.430563                           249.698868   \n",
      "90014                        -1.918645                           471.164856   \n",
      "\n",
      "       cscRechitCluster_match_gLLP_decay_z  cscRechitCluster_match_gLLP_csc  \\\n",
      "entry                                                                         \n",
      "0                              -807.699829                             True   \n",
      "1                              -917.223328                             True   \n",
      "2                              -559.822205                             True   \n",
      "3                              -595.773254                             True   \n",
      "4                              -419.333923                             True   \n",
      "...                                    ...                              ...   \n",
      "90008                          -552.425842                             True   \n",
      "90009                          -494.936890                             True   \n",
      "90011                           574.616028                             True   \n",
      "90012                          -923.552002                             True   \n",
      "90014                           744.273438                             True   \n",
      "\n",
      "       ...  cscRechitClusterNRechitChamberMinus11  \\\n",
      "entry  ...                                          \n",
      "0      ...                                      6   \n",
      "1      ...                                      0   \n",
      "2      ...                                      0   \n",
      "3      ...                                      0   \n",
      "4      ...                                      8   \n",
      "...    ...                                    ...   \n",
      "90008  ...                                    278   \n",
      "90009  ...                                      8   \n",
      "90011  ...                                      0   \n",
      "90012  ...                                      0   \n",
      "90014  ...                                      0   \n",
      "\n",
      "       cscRechitClusterNRechitChamberMinus12  \\\n",
      "entry                                          \n",
      "0                                          0   \n",
      "1                                          0   \n",
      "2                                        704   \n",
      "3                                        376   \n",
      "4                                        118   \n",
      "...                                      ...   \n",
      "90008                                      0   \n",
      "90009                                    730   \n",
      "90011                                      0   \n",
      "90012                                      0   \n",
      "90014                                      0   \n",
      "\n",
      "       cscRechitClusterNRechitChamberMinus13  \\\n",
      "entry                                          \n",
      "0                                          0   \n",
      "1                                          0   \n",
      "2                                          0   \n",
      "3                                          0   \n",
      "4                                          0   \n",
      "...                                      ...   \n",
      "90008                                      0   \n",
      "90009                                      0   \n",
      "90011                                      0   \n",
      "90012                                      0   \n",
      "90014                                      0   \n",
      "\n",
      "       cscRechitClusterNRechitChamberMinus21  \\\n",
      "entry                                          \n",
      "0                                         91   \n",
      "1                                          0   \n",
      "2                                          0   \n",
      "3                                         33   \n",
      "4                                          0   \n",
      "...                                      ...   \n",
      "90008                                      0   \n",
      "90009                                      0   \n",
      "90011                                      0   \n",
      "90012                                      0   \n",
      "90014                                      0   \n",
      "\n",
      "       cscRechitClusterNRechitChamberMinus22  \\\n",
      "entry                                          \n",
      "0                                          0   \n",
      "1                                          0   \n",
      "2                                         90   \n",
      "3                                        155   \n",
      "4                                          0   \n",
      "...                                      ...   \n",
      "90008                                      0   \n",
      "90009                                      6   \n",
      "90011                                      0   \n",
      "90012                                      0   \n",
      "90014                                      0   \n",
      "\n",
      "       cscRechitClusterNRechitChamberMinus31  \\\n",
      "entry                                          \n",
      "0                                        195   \n",
      "1                                          0   \n",
      "2                                          0   \n",
      "3                                          0   \n",
      "4                                          0   \n",
      "...                                      ...   \n",
      "90008                                      0   \n",
      "90009                                      0   \n",
      "90011                                      0   \n",
      "90012                                     70   \n",
      "90014                                      0   \n",
      "\n",
      "       cscRechitClusterNRechitChamberMinus32  \\\n",
      "entry                                          \n",
      "0                                          0   \n",
      "1                                         27   \n",
      "2                                          0   \n",
      "3                                         12   \n",
      "4                                          0   \n",
      "...                                      ...   \n",
      "90008                                      0   \n",
      "90009                                    175   \n",
      "90011                                      0   \n",
      "90012                                      0   \n",
      "90014                                      0   \n",
      "\n",
      "       cscRechitClusterNRechitChamberMinus41  \\\n",
      "entry                                          \n",
      "0                                         40   \n",
      "1                                          0   \n",
      "2                                          0   \n",
      "3                                          0   \n",
      "4                                          0   \n",
      "...                                      ...   \n",
      "90008                                      0   \n",
      "90009                                      0   \n",
      "90011                                      0   \n",
      "90012                                   1177   \n",
      "90014                                      0   \n",
      "\n",
      "       cscRechitClusterNRechitChamberMinus42  cscRechitClusterMet_dPhi  \n",
      "entry                                                                   \n",
      "0                                          0                  0.473428  \n",
      "1                                        311                  1.248036  \n",
      "2                                          0                 -2.188321  \n",
      "3                                         14                  0.738918  \n",
      "4                                          0                  2.813964  \n",
      "...                                      ...                       ...  \n",
      "90008                                      0                  2.259697  \n",
      "90009                                    108                 -1.416921  \n",
      "90011                                      0                  0.310996  \n",
      "90012                                      0                 -0.554559  \n",
      "90014                                      0                  1.392084  \n",
      "\n",
      "[79780 rows x 79 columns]\n"
     ]
    }
   ],
   "source": [
    "print(df_signal)"
   ]
  },
  {
   "cell_type": "code",
   "execution_count": 11,
   "metadata": {},
   "outputs": [],
   "source": [
    "#splitting the data into train, test and validation\n",
    "#from sklearn.model_selection import train_test_split\n",
    "#\n",
    "#loaded_array_signal_64 = dataset_signal.get_unstructured_numpy(loaded_array_signal)\n",
    "#print(loaded_array_signal.dtype)\n",
    "#print(loaded_array_signal_64.dtype)\n",
    "#    \n",
    "#loaded_array_signal_df = loaded_array_signal_64\n",
    "#\n",
    "#print(loaded_array_signal_64)"
   ]
  },
  {
   "cell_type": "code",
   "execution_count": 12,
   "metadata": {},
   "outputs": [
    {
     "name": "stdout",
     "output_type": "stream",
     "text": [
      "First example:\n",
      "signal training features (47868, 25)\n",
      "signal training labels (47868,)\n",
      "signal test features (15956, 25)\n",
      "signal test labels (15956,)\n",
      "signal val features (15956, 25)\n",
      "signal val labels (15956,)\n",
      "[108.45256805  64.96260071 190.56190491 ... 104.01509857 112.09381866\n",
      " 196.21965027]\n",
      "       cscRechitClusterX  cscRechitClusterY  cscRechitClusterZ  \\\n",
      "entry                                                            \n",
      "1081         -589.669617         -14.883728         830.549927   \n",
      "21587          96.030716        -158.929947         613.435364   \n",
      "6476          -49.646149        -390.059998         945.089417   \n",
      "73995         174.169342         124.088585         798.918335   \n",
      "42382         101.735916         104.503784         643.567566   \n",
      "...                  ...                ...                ...   \n",
      "11571         347.790222         396.471985        -735.170105   \n",
      "10220        -174.802307        -331.374969         721.886292   \n",
      "44639         573.748657        -143.371353         824.529541   \n",
      "30388         398.871582         103.448212         744.964478   \n",
      "33416         -78.813171        -313.316650        1022.229797   \n",
      "\n",
      "       cscRechitClusterTimeWeighted  cscRechitClusterTimeSpreadWeightedAll  \\\n",
      "entry                                                                        \n",
      "1081                       2.232497                              14.695302   \n",
      "21587                     -0.696835                               7.407550   \n",
      "6476                      -0.968695                              13.012729   \n",
      "73995                      0.828266                              14.116359   \n",
      "42382                     -1.771619                               6.734555   \n",
      "...                             ...                                    ...   \n",
      "11571                      1.910111                               8.894124   \n",
      "10220                     -0.423298                               8.926413   \n",
      "44639                      1.030230                              12.604919   \n",
      "30388                      2.081681                              12.432444   \n",
      "33416                      0.882060                               7.506217   \n",
      "\n",
      "       cscRechitClusternXY  cscRechitClusternZ  cscRechitClusterXSpread  \\\n",
      "entry                                                                     \n",
      "1081                    82                  82               100.745117   \n",
      "21587                  414                 414                14.855113   \n",
      "6476                   296                 296                21.698067   \n",
      "73995                  180                 180                51.171825   \n",
      "42382                  140                 140                14.084394   \n",
      "...                    ...                 ...                      ...   \n",
      "11571                  100                 100                49.501057   \n",
      "10220                 1209                1209                36.726284   \n",
      "44639                   50                  50                28.847767   \n",
      "30388                  163                 163                43.819893   \n",
      "33416                  297                 297                22.410673   \n",
      "\n",
      "       cscRechitClusterYSpread  cscRechitClusterZSpread  ...  \\\n",
      "entry                                                    ...   \n",
      "1081                 26.165773                33.536766  ...   \n",
      "21587                19.730532                 7.242064  ...   \n",
      "6476                 45.124317                85.617783  ...   \n",
      "73995                41.788258               144.652817  ...   \n",
      "42382                19.206276               115.677383  ...   \n",
      "...                        ...                      ...  ...   \n",
      "11571                55.008804               101.613815  ...   \n",
      "10220                45.620388                44.275723  ...   \n",
      "44639                22.812918                12.095710  ...   \n",
      "30388                13.554608                89.081253  ...   \n",
      "33416                30.564590                27.732218  ...   \n",
      "\n",
      "       cscRechitClusterDeltaRSpread  cscRechitClusterMajorAxis  \\\n",
      "entry                                                            \n",
      "1081                       0.161700                   0.155745   \n",
      "21587                      0.128277                   0.114510   \n",
      "6476                       0.071648                   0.058468   \n",
      "73995                      0.229645                   0.221461   \n",
      "42382                      0.148115                   0.126419   \n",
      "...                             ...                        ...   \n",
      "11571                      0.112710                   0.104871   \n",
      "10220                      0.127165                   0.108752   \n",
      "44639                      0.049823                   0.040295   \n",
      "30388                      0.042809                   0.035262   \n",
      "33416                      0.118452                   0.104066   \n",
      "\n",
      "       cscRechitClusterMinorAxis  cscRechitClusterSkewX  \\\n",
      "entry                                                     \n",
      "1081                    0.043479             175.893402   \n",
      "21587                   0.057813               2.754820   \n",
      "6476                    0.041411              29.122187   \n",
      "73995                   0.060763              28.603369   \n",
      "42382                   0.077177              15.990103   \n",
      "...                          ...                    ...   \n",
      "11571                   0.041299              26.223623   \n",
      "10220                   0.065908              -3.948594   \n",
      "44639                   0.029302              15.437023   \n",
      "30388                   0.024274              65.225082   \n",
      "33416                   0.056578              10.598976   \n",
      "\n",
      "       cscRechitClusterSkewY  cscRechitClusterSkewZ  cscRechitClusterKurtX  \\\n",
      "entry                                                                        \n",
      "1081              -22.311722            -109.930252               2.647702   \n",
      "21587               3.380275             -25.503948              -0.686677   \n",
      "6476              -15.656567             -38.409409               1.266281   \n",
      "73995               8.508335             -62.367924              -1.034942   \n",
      "42382              20.751890             281.467346               0.580695   \n",
      "...                      ...                    ...                    ...   \n",
      "11571               4.316586            -212.838943              -0.194327   \n",
      "10220             -42.852188             103.905540               1.161721   \n",
      "44639             -30.417437               5.981390              -1.178691   \n",
      "30388             -13.419681             157.967194               1.958487   \n",
      "33416              29.542933             -62.220272               0.471147   \n",
      "\n",
      "       cscRechitClusterKurtY  cscRechitClusterKurtZ  cscRechitClusterSize  \n",
      "entry                                                                      \n",
      "1081                1.557847               8.745017                    82  \n",
      "21587              -1.063536              10.402429                   414  \n",
      "6476                0.580888              -1.313274                   296  \n",
      "73995              -1.136742              -1.173485                   180  \n",
      "42382               1.271685               4.554387                   140  \n",
      "...                      ...                    ...                   ...  \n",
      "11571              -0.575916               2.922312                   100  \n",
      "10220               1.909214               4.441967                  1209  \n",
      "44639               3.599132              -1.755308                    50  \n",
      "30388               1.253922               2.514512                   163  \n",
      "33416               4.102862               4.203684                   297  \n",
      "\n",
      "[47868 rows x 25 columns]\n"
     ]
    }
   ],
   "source": [
    "# Splitting the loaded_array_signal data\n",
    "#train_data, testval_data = train_test_split(loaded_array_signal_df, train_size=0.6)\n",
    "train_data, testval_data = train_test_split(df_signal, train_size=0.6)\n",
    "test_data, val_data = train_test_split(testval_data, test_size=0.5)\n",
    "\n",
    "# assigning labels\n",
    "train_labels = np.array(train_data[truth_value])#([1.]*len(train_data))\n",
    "test_labels = np.array(test_data[truth_value])#([1.]*len(test_data))\n",
    "val_labels = np.array(val_data[truth_value])#([1.]*len(val_data))\n",
    "\n",
    "train_data = train_data[branches_to_train]\n",
    "test_data = test_data[branches_to_train]\n",
    "val_data = val_data[branches_to_train]\n",
    "\n",
    "# check the shape\n",
    "print(\"First example:\")\n",
    "print(\"signal training features\", train_data.shape)\n",
    "print(\"signal training labels\", train_labels.shape)\n",
    "print(\"signal test features\", test_data.shape)\n",
    "print(\"signal test labels\", test_labels.shape)\n",
    "print(\"signal val features\", val_data.shape)\n",
    "print(\"signal val labels\", val_labels.shape)\n",
    "\n",
    "print(train_labels)\n",
    "print(train_data[branches_to_train])\n",
    "\n",
    "#print(type(train_data), type(train_labels))\n",
    "n_features = train_data.shape[1]"
   ]
  },
  {
   "cell_type": "code",
   "execution_count": 13,
   "metadata": {},
   "outputs": [
    {
     "data": {
      "text/plain": [
       "25"
      ]
     },
     "execution_count": 13,
     "metadata": {},
     "output_type": "execute_result"
    }
   ],
   "source": [
    "n_features"
   ]
  },
  {
   "cell_type": "code",
   "execution_count": 12,
   "metadata": {},
   "outputs": [
    {
     "name": "stdout",
     "output_type": "stream",
     "text": [
      "training features (47868, 25)\n",
      "training labels (47868,)\n",
      "test features (15956, 25)\n",
      "test labels (15956,)\n",
      "val features (15956, 25)\n",
      "val labels (15956,)\n",
      "[101.84392548  55.56621552 150.77801514 ... 249.88980103  98.42115021\n",
      " 175.31388855]\n"
     ]
    }
   ],
   "source": [
    "# concatenate data\n",
    "#train_data = np.concatenate([bkg_train_data,sig_train_data], axis=0)\n",
    "#test_data = np.concatenate([bkg_test_data, sig_test_data], axis=0)\n",
    "#val_data = np.concatenate([bkg_val_data, sig_val_data], axis=0)\n",
    "\n",
    "#train_labels = np.concatenate([bkg_train_labels, sig_train_labels], axis=0)\n",
    "#test_labels = np.concatenate([bkg_test_labels, sig_test_labels], axis=0)\n",
    "#val_labels = np.concatenate([bkg_val_labels, sig_val_labels], axis=0)\n",
    "\n",
    "print(\"training features\", train_data.shape)\n",
    "print(\"training labels\", train_labels.shape)\n",
    "print(\"test features\", test_data.shape)\n",
    "print(\"test labels\", test_labels.shape)\n",
    "print(\"val features\", val_data.shape)\n",
    "print(\"val labels\", val_labels.shape)\n",
    "print(val_labels)"
   ]
  },
  {
   "cell_type": "raw",
   "metadata": {},
   "source": [
    "# TODO: standard scalar. Fit on train_data and apply to test_data and val_data\n",
    "#It affects the results.\n",
    "scaler = StandardScaler()\n",
    "train_data = scaler.fit_transform(train_data)\n",
    "\n",
    "val_data = scaler.transform(val_data)\n",
    "test_data = scaler.transform(test_data)"
   ]
  },
  {
   "cell_type": "code",
   "execution_count": 13,
   "metadata": {},
   "outputs": [
    {
     "name": "stdout",
     "output_type": "stream",
     "text": [
      "shuffled training features        cscRechitClusterX  cscRechitClusterY  cscRechitClusterZ  \\\n",
      "entry                                                            \n",
      "74465        -403.417755         151.530716         716.426758   \n",
      "2990         -463.151428         289.679993         696.388489   \n",
      "43889        -324.162872          38.468750         993.104675   \n",
      "52600         389.347382         330.284302         955.644165   \n",
      "47567        -458.647888         -35.449791        1024.200562   \n",
      "...                  ...                ...                ...   \n",
      "11092         180.855728         449.092865        -844.378723   \n",
      "27921         237.999893         541.835571        1027.039429   \n",
      "48613         500.858856         334.032867        1037.483154   \n",
      "24953         254.236343          61.057384        -831.534058   \n",
      "15354         314.023041         286.612610         711.015320   \n",
      "\n",
      "       cscRechitClusterTimeWeighted  cscRechitClusterTimeSpreadWeightedAll  \\\n",
      "entry                                                                        \n",
      "74465                      2.157688                              12.482413   \n",
      "2990                       3.195582                              12.205231   \n",
      "43889                     -0.220354                               8.975994   \n",
      "52600                     -1.800279                               8.360797   \n",
      "47567                      0.875135                              12.734232   \n",
      "...                             ...                                    ...   \n",
      "11092                     -0.062137                              10.684572   \n",
      "27921                     -2.497185                               8.103324   \n",
      "48613                      0.571467                               7.533066   \n",
      "24953                      0.353713                               9.557565   \n",
      "15354                      0.437682                               9.659765   \n",
      "\n",
      "       cscRechitClusternXY  cscRechitClusternZ  cscRechitClusterXSpread  \\\n",
      "entry                                                                     \n",
      "74465                  132                 132                47.039742   \n",
      "2990                   181                 181                58.541100   \n",
      "43889                  100                 100                36.501617   \n",
      "52600                  195                 195                31.500168   \n",
      "47567                  274                 274                25.453556   \n",
      "...                    ...                 ...                      ...   \n",
      "11092                 1098                1098                43.179771   \n",
      "27921                  263                 263                20.106157   \n",
      "48613                   58                  58                18.698622   \n",
      "24953                  978                 978                23.968777   \n",
      "15354                  161                 161                24.296682   \n",
      "\n",
      "       cscRechitClusterYSpread  cscRechitClusterZSpread  ...  \\\n",
      "entry                                                    ...   \n",
      "74465                37.413143                27.093273  ...   \n",
      "2990                 37.060883                24.325598  ...   \n",
      "43889                15.221395                63.199558  ...   \n",
      "52600                27.928747                43.983173  ...   \n",
      "47567                23.015928                12.358056  ...   \n",
      "...                        ...                      ...  ...   \n",
      "11092                54.720161                56.991837  ...   \n",
      "27921                70.775192                54.410564  ...   \n",
      "48613                14.834427                 0.038171  ...   \n",
      "24953                24.451509                27.628382  ...   \n",
      "15354                44.817909                 3.392064  ...   \n",
      "\n",
      "       cscRechitClusterDeltaRSpread  cscRechitClusterMajorAxis  \\\n",
      "entry                                                            \n",
      "74465                      0.144291                   0.137894   \n",
      "2990                       0.116606                   0.106816   \n",
      "43889                      0.105477                   0.094008   \n",
      "52600                      0.093090                   0.088884   \n",
      "47567                      0.074896                   0.062947   \n",
      "...                             ...                        ...   \n",
      "11092                      0.125156                   0.093983   \n",
      "27921                      0.104153                   0.099136   \n",
      "48613                      0.035247                   0.027189   \n",
      "24953                      0.122019                   0.098560   \n",
      "15354                      0.108369                   0.095346   \n",
      "\n",
      "       cscRechitClusterMinorAxis  cscRechitClusterSkewX  \\\n",
      "entry                                                     \n",
      "74465                   0.042488              18.427813   \n",
      "2990                    0.046769              27.159416   \n",
      "43889                   0.047832              22.485638   \n",
      "52600                   0.027666             -41.435913   \n",
      "47567                   0.040586             -10.819593   \n",
      "...                          ...                    ...   \n",
      "11092                   0.082652             -14.475984   \n",
      "27921                   0.031937              -5.941166   \n",
      "48613                   0.022429              42.111115   \n",
      "24953                   0.071933              -2.298619   \n",
      "15354                   0.051506             -37.567047   \n",
      "\n",
      "       cscRechitClusterSkewY  cscRechitClusterSkewZ  cscRechitClusterKurtX  \\\n",
      "entry                                                                        \n",
      "74465               5.347898             113.671219               2.590853   \n",
      "2990              -10.277572             135.916824              -0.422106   \n",
      "43889              47.561932            -122.849808              -0.159277   \n",
      "52600             -27.407827              22.838530               1.256007   \n",
      "47567              37.116074               1.266971              -0.296939   \n",
      "...                      ...                    ...                    ...   \n",
      "11092              30.179598            -159.894211              -0.142236   \n",
      "27921            -196.395874            -314.976074               0.165651   \n",
      "48613              -2.650471               0.082531               4.927205   \n",
      "24953               0.651140              36.701267               5.288855   \n",
      "15354             115.417244             -16.564468               4.043025   \n",
      "\n",
      "       cscRechitClusterKurtY  cscRechitClusterKurtZ  cscRechitClusterSize  \n",
      "entry                                                                      \n",
      "74465               0.241197              16.208281                   132  \n",
      "2990               -0.299525              29.956215                   181  \n",
      "43889              10.127357               2.345628                   100  \n",
      "52600               0.578126              -1.730365                   195  \n",
      "47567               2.238496              -1.989448                   274  \n",
      "...                      ...                    ...                   ...  \n",
      "11092               0.013598               6.573707                  1098  \n",
      "27921               7.797729              33.102016                   263  \n",
      "48613               3.510498               3.432441                    58  \n",
      "24953               0.141494              37.337936                   978  \n",
      "15354              10.526388              21.855665                   161  \n",
      "\n",
      "[47868 rows x 25 columns]\n",
      "shuffled training features (47868, 25)\n",
      "shuffled training labels [103.19415283 111.37741852 170.25746155 ... 125.39369202 180.44848633\n",
      " 218.00059509]\n",
      "shuffled training labels (47868,)\n"
     ]
    }
   ],
   "source": [
    " # shuffle\n",
    "\n",
    "X_train, Y_train = sklearn.utils.shuffle(train_data, train_labels, random_state=0) # change to random_state=None for full randomness\n",
    "X_test, Y_test = sklearn.utils.shuffle(test_data, test_labels, random_state=0) # change to random_state=None for full randomness\n",
    "X_val, Y_val = sklearn.utils.shuffle(val_data, val_labels, random_state=0) # change to random_state=None for full randomness\n",
    "\n",
    "print(\"shuffled training features\", X_train)\n",
    "print(\"shuffled training features\", X_train.shape)\n",
    "print(\"shuffled training labels\", Y_train)\n",
    "print(\"shuffled training labels\", Y_train.shape)"
   ]
  },
  {
   "cell_type": "code",
   "execution_count": 14,
   "metadata": {},
   "outputs": [],
   "source": [
    "#defining the model and metrics\n",
    "METRICS = [\n",
    "      keras.metrics.BinaryCrossentropy(name='cross entropy'),  # same as model's loss\n",
    "      keras.metrics.MeanSquaredError(name='Brier score'),\n",
    "      keras.metrics.TruePositives(name='tp'),\n",
    "      keras.metrics.FalsePositives(name='fp'),\n",
    "      keras.metrics.TrueNegatives(name='tn'),\n",
    "      keras.metrics.FalseNegatives(name='fn'), \n",
    "      keras.metrics.BinaryAccuracy(name='accuracy'),\n",
    "      keras.metrics.Precision(name='precision'),\n",
    "      keras.metrics.Recall(name='recall'),\n",
    "      keras.metrics.AUC(name='auc'),\n",
    "      keras.metrics.AUC(name='prc', curve='PR'), # precision-recall curve\n",
    "]\n",
    "\n",
    "\n",
    "def make_model(metrics=METRICS, output_bias=None):\n",
    "    if output_bias is not None:\n",
    "        output_bias = tf.keras.initializers.Constant(output_bias)\n",
    "    #initializer = tf.keras.initializers.RandomNormal(mean=0., stddev=1.)\n",
    "    #initializer = tf.keras.initializers.RandomUniform(minval=0., maxval=200, seed=None)\n",
    "    initializer = tf.keras.initializers.Constant(value=100)\n",
    "\n",
    "    \n",
    "    model = keras.Sequential([\n",
    "        #keras.layers.Dense(5, activation='relu', input_shape=(n_features,), kernel_initializer=initializer, bias_initializer=None),\n",
    "        #keras.layers.Dropout(0.5),\n",
    "        #keras.layers.Dense(1, activation='relu', bias_initializer=output_bias, kernel_initializer=initializer)\n",
    "        #Attempt:\n",
    "        keras.layers.Dense(50, activation='relu', input_shape=(n_features,), kernel_initializer=initializer, bias_initializer=None),\n",
    "        keras.layers.Dense(30, activation='relu'),\n",
    "        keras.layers.Dense(20, activation='relu'),\n",
    "        keras.layers.Dense(5, activation='relu'),\n",
    "        #keras.layers.Dense(1, activation='relu', input_shape=(n_features,), kernel_initializer=initializer, bias_initializer=None),\n",
    "        keras.layers.Dense(1)\n",
    "\n",
    "    ])\n",
    "    \n",
    "    model.compile(\n",
    "        optimizer=keras.optimizers.Adam(learning_rate=1e-3),\n",
    "        #optimizer=keras.optimizers.SGD(learning_rate=0.01),\n",
    "        #loss=keras.losses.BinaryCrossentropy(),\n",
    "        loss=keras.losses.MeanSquaredError(name='MSE'),\n",
    "        metrics=metrics\n",
    "    )\n",
    "    \n",
    "    return model\n",
    "\n",
    "# TODO: Find best way to init weights"
   ]
  },
  {
   "cell_type": "code",
   "execution_count": 15,
   "metadata": {},
   "outputs": [],
   "source": [
    "EPOCHS = 100\n",
    "BATCH_SIZE = 1024\n",
    "\n",
    "early_stopping = tf.keras.callbacks.EarlyStopping(\n",
    "    monitor='val_loss', #val_prec\n",
    "    verbose=1,\n",
    "    patience=10,\n",
    "    mode='min',#max\n",
    "    restore_best_weights=True)"
   ]
  },
  {
   "cell_type": "code",
   "execution_count": 16,
   "metadata": {},
   "outputs": [
    {
     "name": "stdout",
     "output_type": "stream",
     "text": [
      "Model: \"sequential\"\n",
      "_________________________________________________________________\n",
      " Layer (type)                Output Shape              Param #   \n",
      "=================================================================\n",
      " dense (Dense)               (None, 50)                1300      \n",
      "                                                                 \n",
      " dense_1 (Dense)             (None, 30)                1530      \n",
      "                                                                 \n",
      " dense_2 (Dense)             (None, 20)                620       \n",
      "                                                                 \n",
      " dense_3 (Dense)             (None, 5)                 105       \n",
      "                                                                 \n",
      " dense_4 (Dense)             (None, 1)                 6         \n",
      "                                                                 \n",
      "=================================================================\n",
      "Total params: 3,561\n",
      "Trainable params: 3,561\n",
      "Non-trainable params: 0\n",
      "_________________________________________________________________\n"
     ]
    }
   ],
   "source": [
    "model = make_model()\n",
    "model.summary()"
   ]
  },
  {
   "cell_type": "code",
   "execution_count": 17,
   "metadata": {},
   "outputs": [
    {
     "name": "stdout",
     "output_type": "stream",
     "text": [
      "1496/1496 [==============================] - 1s 532us/step\n",
      "[[40075.76 ]\n",
      " [49003.887]\n",
      " [37485.74 ]\n",
      " ...\n",
      " [71490.32 ]\n",
      " [86451.414]\n",
      " [67038.86 ]]\n",
      "[103.19415283 111.37741852 170.25746155 ... 125.39369202 180.44848633\n",
      " 218.00059509]\n"
     ]
    }
   ],
   "source": [
    "output = model.predict(X_train)\n",
    "print(output)\n",
    "print(Y_train)"
   ]
  },
  {
   "cell_type": "code",
   "execution_count": 18,
   "metadata": {},
   "outputs": [
    {
     "name": "stdout",
     "output_type": "stream",
     "text": [
      "Loss: 4002170624.0000\n"
     ]
    }
   ],
   "source": [
    "results = model.evaluate(X_train, Y_train, batch_size=BATCH_SIZE, verbose=0)\n",
    "print(\"Loss: {:0.4f}\".format(results[0]))"
   ]
  },
  {
   "cell_type": "code",
   "execution_count": 19,
   "metadata": {},
   "outputs": [
    {
     "name": "stdout",
     "output_type": "stream",
     "text": [
      "Epoch 1/100\n",
      "479/479 [==============================] - 3s 3ms/step - loss: 2740824064.0000 - cross entropy: -1178.0653 - Brier score: 3371495168.0000 - tp: 70929.0000 - fp: 0.0000e+00 - tn: 0.0000e+00 - fn: 24807.0000 - accuracy: 0.0000e+00 - precision: 1.0000 - recall: 0.7409 - auc: 0.0000e+00 - prc: 1.0000 - val_loss: 16092.4375 - val_cross entropy: -1474.0087 - val_Brier score: 16092.4375 - val_tp: 12798.0000 - val_fp: 0.0000e+00 - val_tn: 0.0000e+00 - val_fn: 3158.0000 - val_accuracy: 0.0000e+00 - val_precision: 1.0000 - val_recall: 0.8021 - val_auc: 0.0000e+00 - val_prc: 1.0000\n",
      "Epoch 2/100\n",
      "479/479 [==============================] - 1s 2ms/step - loss: 16973.7363 - cross entropy: -1792.1111 - Brier score: 16973.7363 - tp: 41000.0000 - fp: 0.0000e+00 - tn: 0.0000e+00 - fn: 6868.0000 - accuracy: 0.0000e+00 - precision: 1.0000 - recall: 0.8565 - auc: 0.0000e+00 - prc: 1.0000 - val_loss: 15996.0293 - val_cross entropy: -1958.6625 - val_Brier score: 15996.0293 - val_tp: 15937.0000 - val_fp: 0.0000e+00 - val_tn: 0.0000e+00 - val_fn: 19.0000 - val_accuracy: 0.0000e+00 - val_precision: 1.0000 - val_recall: 0.9988 - val_auc: 0.0000e+00 - val_prc: 1.0000\n",
      "Epoch 3/100\n",
      "479/479 [==============================] - 1s 2ms/step - loss: 16001.3320 - cross entropy: -2220.3330 - Brier score: 16001.3320 - tp: 47829.0000 - fp: 0.0000e+00 - tn: 0.0000e+00 - fn: 39.0000 - accuracy: 0.0000e+00 - precision: 1.0000 - recall: 0.9992 - auc: 0.0000e+00 - prc: 1.0000 - val_loss: 16066.6445 - val_cross entropy: -2368.7107 - val_Brier score: 16066.6445 - val_tp: 15940.0000 - val_fp: 0.0000e+00 - val_tn: 0.0000e+00 - val_fn: 16.0000 - val_accuracy: 0.0000e+00 - val_precision: 1.0000 - val_recall: 0.9990 - val_auc: 0.0000e+00 - val_prc: 1.0000\n",
      "Epoch 4/100\n",
      "479/479 [==============================] - 1s 2ms/step - loss: 16271.1631 - cross entropy: -2373.2407 - Brier score: 16271.1631 - tp: 47840.0000 - fp: 0.0000e+00 - tn: 0.0000e+00 - fn: 28.0000 - accuracy: 0.0000e+00 - precision: 1.0000 - recall: 0.9994 - auc: 0.0000e+00 - prc: 1.0000 - val_loss: 15969.9902 - val_cross entropy: -2369.4692 - val_Brier score: 15969.9902 - val_tp: 15945.0000 - val_fp: 0.0000e+00 - val_tn: 0.0000e+00 - val_fn: 11.0000 - val_accuracy: 0.0000e+00 - val_precision: 1.0000 - val_recall: 0.9993 - val_auc: 0.0000e+00 - val_prc: 1.0000\n",
      "Epoch 5/100\n",
      "479/479 [==============================] - 1s 2ms/step - loss: 15716.0752 - cross entropy: -2373.5171 - Brier score: 15716.0752 - tp: 47842.0000 - fp: 0.0000e+00 - tn: 0.0000e+00 - fn: 26.0000 - accuracy: 0.0000e+00 - precision: 1.0000 - recall: 0.9995 - auc: 0.0000e+00 - prc: 1.0000 - val_loss: 15546.4785 - val_cross entropy: -2369.2256 - val_Brier score: 15546.4785 - val_tp: 15945.0000 - val_fp: 0.0000e+00 - val_tn: 0.0000e+00 - val_fn: 11.0000 - val_accuracy: 0.0000e+00 - val_precision: 1.0000 - val_recall: 0.9993 - val_auc: 0.0000e+00 - val_prc: 1.0000\n",
      "Epoch 6/100\n",
      "479/479 [==============================] - 1s 2ms/step - loss: 15422.9746 - cross entropy: -2373.7915 - Brier score: 15422.9746 - tp: 47846.0000 - fp: 0.0000e+00 - tn: 0.0000e+00 - fn: 22.0000 - accuracy: 0.0000e+00 - precision: 1.0000 - recall: 0.9995 - auc: 0.0000e+00 - prc: 1.0000 - val_loss: 15351.4932 - val_cross entropy: -2369.1904 - val_Brier score: 15351.4932 - val_tp: 15946.0000 - val_fp: 0.0000e+00 - val_tn: 0.0000e+00 - val_fn: 10.0000 - val_accuracy: 0.0000e+00 - val_precision: 1.0000 - val_recall: 0.9994 - val_auc: 0.0000e+00 - val_prc: 1.0000\n",
      "Epoch 7/100\n",
      "479/479 [==============================] - 1s 2ms/step - loss: 15047.6982 - cross entropy: -2374.5862 - Brier score: 15047.6982 - tp: 47851.0000 - fp: 0.0000e+00 - tn: 0.0000e+00 - fn: 17.0000 - accuracy: 0.0000e+00 - precision: 1.0000 - recall: 0.9996 - auc: 0.0000e+00 - prc: 1.0000 - val_loss: 14746.1465 - val_cross entropy: -2370.1292 - val_Brier score: 14746.1465 - val_tp: 15949.0000 - val_fp: 0.0000e+00 - val_tn: 0.0000e+00 - val_fn: 7.0000 - val_accuracy: 0.0000e+00 - val_precision: 1.0000 - val_recall: 0.9996 - val_auc: 0.0000e+00 - val_prc: 1.0000\n",
      "Epoch 8/100\n",
      "479/479 [==============================] - 1s 3ms/step - loss: 14623.7549 - cross entropy: -2374.8767 - Brier score: 14623.7539 - tp: 47853.0000 - fp: 0.0000e+00 - tn: 0.0000e+00 - fn: 15.0000 - accuracy: 0.0000e+00 - precision: 1.0000 - recall: 0.9997 - auc: 0.0000e+00 - prc: 1.0000 - val_loss: 14400.0322 - val_cross entropy: -2370.2588 - val_Brier score: 14400.0322 - val_tp: 15949.0000 - val_fp: 0.0000e+00 - val_tn: 0.0000e+00 - val_fn: 7.0000 - val_accuracy: 0.0000e+00 - val_precision: 1.0000 - val_recall: 0.9996 - val_auc: 0.0000e+00 - val_prc: 1.0000\n",
      "Epoch 9/100\n",
      "479/479 [==============================] - 1s 2ms/step - loss: 14310.7188 - cross entropy: -2375.4934 - Brier score: 14310.7188 - tp: 47857.0000 - fp: 0.0000e+00 - tn: 0.0000e+00 - fn: 11.0000 - accuracy: 0.0000e+00 - precision: 1.0000 - recall: 0.9998 - auc: 0.0000e+00 - prc: 1.0000 - val_loss: 14965.6406 - val_cross entropy: -2369.5632 - val_Brier score: 14965.6406 - val_tp: 15949.0000 - val_fp: 0.0000e+00 - val_tn: 0.0000e+00 - val_fn: 7.0000 - val_accuracy: 0.0000e+00 - val_precision: 1.0000 - val_recall: 0.9996 - val_auc: 0.0000e+00 - val_prc: 1.0000\n",
      "Epoch 10/100\n",
      "479/479 [==============================] - 1s 2ms/step - loss: 14008.3350 - cross entropy: -2375.8318 - Brier score: 14008.3350 - tp: 47863.0000 - fp: 0.0000e+00 - tn: 0.0000e+00 - fn: 5.0000 - accuracy: 0.0000e+00 - precision: 1.0000 - recall: 0.9999 - auc: 0.0000e+00 - prc: 1.0000 - val_loss: 13475.4541 - val_cross entropy: -2371.4395 - val_Brier score: 13475.4561 - val_tp: 15956.0000 - val_fp: 0.0000e+00 - val_tn: 0.0000e+00 - val_fn: 0.0000e+00 - val_accuracy: 0.0000e+00 - val_precision: 1.0000 - val_recall: 1.0000 - val_auc: 0.0000e+00 - val_prc: 1.0000\n",
      "Epoch 11/100\n",
      "479/479 [==============================] - 1s 2ms/step - loss: 13755.5625 - cross entropy: -2377.0127 - Brier score: 13755.5625 - tp: 47867.0000 - fp: 0.0000e+00 - tn: 0.0000e+00 - fn: 1.0000 - accuracy: 0.0000e+00 - precision: 1.0000 - recall: 1.0000 - auc: 0.0000e+00 - prc: 1.0000 - val_loss: 13129.2246 - val_cross entropy: -2372.2385 - val_Brier score: 13129.2256 - val_tp: 15956.0000 - val_fp: 0.0000e+00 - val_tn: 0.0000e+00 - val_fn: 0.0000e+00 - val_accuracy: 0.0000e+00 - val_precision: 1.0000 - val_recall: 1.0000 - val_auc: 0.0000e+00 - val_prc: 1.0000\n",
      "Epoch 12/100\n",
      "479/479 [==============================] - 1s 2ms/step - loss: 16326.5596 - cross entropy: -2300.0591 - Brier score: 16326.5596 - tp: 47069.0000 - fp: 0.0000e+00 - tn: 0.0000e+00 - fn: 799.0000 - accuracy: 0.0000e+00 - precision: 1.0000 - recall: 0.9833 - auc: 0.0000e+00 - prc: 1.0000 - val_loss: 12745.6982 - val_cross entropy: -2373.4282 - val_Brier score: 12745.6982 - val_tp: 15956.0000 - val_fp: 0.0000e+00 - val_tn: 0.0000e+00 - val_fn: 0.0000e+00 - val_accuracy: 0.0000e+00 - val_precision: 1.0000 - val_recall: 1.0000 - val_auc: 0.0000e+00 - val_prc: 1.0000\n",
      "Epoch 13/100\n",
      "479/479 [==============================] - 1s 2ms/step - loss: 12819.0488 - cross entropy: -2378.7593 - Brier score: 12819.0488 - tp: 47868.0000 - fp: 0.0000e+00 - tn: 0.0000e+00 - fn: 0.0000e+00 - accuracy: 0.0000e+00 - precision: 1.0000 - recall: 1.0000 - auc: 0.0000e+00 - prc: 1.0000 - val_loss: 11873.4873 - val_cross entropy: -2374.3206 - val_Brier score: 11873.4873 - val_tp: 15956.0000 - val_fp: 0.0000e+00 - val_tn: 0.0000e+00 - val_fn: 0.0000e+00 - val_accuracy: 0.0000e+00 - val_precision: 1.0000 - val_recall: 1.0000 - val_auc: 0.0000e+00 - val_prc: 1.0000\n",
      "Epoch 14/100\n",
      "479/479 [==============================] - 1s 2ms/step - loss: 24250.0156 - cross entropy: -2251.2024 - Brier score: 24250.0176 - tp: 46624.0000 - fp: 0.0000e+00 - tn: 0.0000e+00 - fn: 1244.0000 - accuracy: 0.0000e+00 - precision: 1.0000 - recall: 0.9740 - auc: 0.0000e+00 - prc: 1.0000 - val_loss: 11734.3164 - val_cross entropy: -2374.2625 - val_Brier score: 11734.3164 - val_tp: 15956.0000 - val_fp: 0.0000e+00 - val_tn: 0.0000e+00 - val_fn: 0.0000e+00 - val_accuracy: 0.0000e+00 - val_precision: 1.0000 - val_recall: 1.0000 - val_auc: 0.0000e+00 - val_prc: 1.0000\n",
      "Epoch 15/100\n",
      "479/479 [==============================] - 1s 2ms/step - loss: 11654.2627 - cross entropy: -2378.8643 - Brier score: 11654.2627 - tp: 47868.0000 - fp: 0.0000e+00 - tn: 0.0000e+00 - fn: 0.0000e+00 - accuracy: 0.0000e+00 - precision: 1.0000 - recall: 1.0000 - auc: 0.0000e+00 - prc: 1.0000 - val_loss: 11613.1787 - val_cross entropy: -2374.3479 - val_Brier score: 11613.1787 - val_tp: 15956.0000 - val_fp: 0.0000e+00 - val_tn: 0.0000e+00 - val_fn: 0.0000e+00 - val_accuracy: 0.0000e+00 - val_precision: 1.0000 - val_recall: 1.0000 - val_auc: 0.0000e+00 - val_prc: 1.0000\n",
      "Epoch 16/100\n",
      "479/479 [==============================] - 1s 2ms/step - loss: 11706.8154 - cross entropy: -2378.8655 - Brier score: 11706.8154 - tp: 47868.0000 - fp: 0.0000e+00 - tn: 0.0000e+00 - fn: 0.0000e+00 - accuracy: 0.0000e+00 - precision: 1.0000 - recall: 1.0000 - auc: 0.0000e+00 - prc: 1.0000 - val_loss: 11804.8301 - val_cross entropy: -2374.3479 - val_Brier score: 11804.8301 - val_tp: 15956.0000 - val_fp: 0.0000e+00 - val_tn: 0.0000e+00 - val_fn: 0.0000e+00 - val_accuracy: 0.0000e+00 - val_precision: 1.0000 - val_recall: 1.0000 - val_auc: 0.0000e+00 - val_prc: 1.0000\n",
      "Epoch 17/100\n",
      "479/479 [==============================] - 1s 2ms/step - loss: 11698.7744 - cross entropy: -2378.8633 - Brier score: 11698.7744 - tp: 47868.0000 - fp: 0.0000e+00 - tn: 0.0000e+00 - fn: 0.0000e+00 - accuracy: 0.0000e+00 - precision: 1.0000 - recall: 1.0000 - auc: 0.0000e+00 - prc: 1.0000 - val_loss: 11467.4434 - val_cross entropy: -2374.3479 - val_Brier score: 11467.4434 - val_tp: 15956.0000 - val_fp: 0.0000e+00 - val_tn: 0.0000e+00 - val_fn: 0.0000e+00 - val_accuracy: 0.0000e+00 - val_precision: 1.0000 - val_recall: 1.0000 - val_auc: 0.0000e+00 - val_prc: 1.0000\n",
      "Epoch 18/100\n",
      "479/479 [==============================] - 1s 2ms/step - loss: 11747.0293 - cross entropy: -2378.8643 - Brier score: 11747.0293 - tp: 47868.0000 - fp: 0.0000e+00 - tn: 0.0000e+00 - fn: 0.0000e+00 - accuracy: 0.0000e+00 - precision: 1.0000 - recall: 1.0000 - auc: 0.0000e+00 - prc: 1.0000 - val_loss: 11364.0117 - val_cross entropy: -2374.3479 - val_Brier score: 11364.0117 - val_tp: 15956.0000 - val_fp: 0.0000e+00 - val_tn: 0.0000e+00 - val_fn: 0.0000e+00 - val_accuracy: 0.0000e+00 - val_precision: 1.0000 - val_recall: 1.0000 - val_auc: 0.0000e+00 - val_prc: 1.0000\n",
      "Epoch 19/100\n",
      "479/479 [==============================] - 1s 3ms/step - loss: 11720.2373 - cross entropy: -2378.8660 - Brier score: 11720.2373 - tp: 47868.0000 - fp: 0.0000e+00 - tn: 0.0000e+00 - fn: 0.0000e+00 - accuracy: 0.0000e+00 - precision: 1.0000 - recall: 1.0000 - auc: 0.0000e+00 - prc: 1.0000 - val_loss: 11447.0439 - val_cross entropy: -2374.3479 - val_Brier score: 11447.0439 - val_tp: 15956.0000 - val_fp: 0.0000e+00 - val_tn: 0.0000e+00 - val_fn: 0.0000e+00 - val_accuracy: 0.0000e+00 - val_precision: 1.0000 - val_recall: 1.0000 - val_auc: 0.0000e+00 - val_prc: 1.0000\n",
      "Epoch 20/100\n",
      "479/479 [==============================] - 1s 2ms/step - loss: 11710.5762 - cross entropy: -2378.8655 - Brier score: 11710.5762 - tp: 47868.0000 - fp: 0.0000e+00 - tn: 0.0000e+00 - fn: 0.0000e+00 - accuracy: 0.0000e+00 - precision: 1.0000 - recall: 1.0000 - auc: 0.0000e+00 - prc: 1.0000 - val_loss: 11397.5713 - val_cross entropy: -2374.3479 - val_Brier score: 11397.5713 - val_tp: 15956.0000 - val_fp: 0.0000e+00 - val_tn: 0.0000e+00 - val_fn: 0.0000e+00 - val_accuracy: 0.0000e+00 - val_precision: 1.0000 - val_recall: 1.0000 - val_auc: 0.0000e+00 - val_prc: 1.0000\n",
      "Epoch 21/100\n",
      "479/479 [==============================] - 1s 2ms/step - loss: 11901.1973 - cross entropy: -2378.8652 - Brier score: 11901.1973 - tp: 47868.0000 - fp: 0.0000e+00 - tn: 0.0000e+00 - fn: 0.0000e+00 - accuracy: 0.0000e+00 - precision: 1.0000 - recall: 1.0000 - auc: 0.0000e+00 - prc: 1.0000 - val_loss: 14545.8027 - val_cross entropy: -2374.3479 - val_Brier score: 14545.8027 - val_tp: 15956.0000 - val_fp: 0.0000e+00 - val_tn: 0.0000e+00 - val_fn: 0.0000e+00 - val_accuracy: 0.0000e+00 - val_precision: 1.0000 - val_recall: 1.0000 - val_auc: 0.0000e+00 - val_prc: 1.0000\n",
      "Epoch 22/100\n",
      "479/479 [==============================] - 1s 2ms/step - loss: 11866.3965 - cross entropy: -2377.2979 - Brier score: 11866.3965 - tp: 47853.0000 - fp: 0.0000e+00 - tn: 0.0000e+00 - fn: 15.0000 - accuracy: 0.0000e+00 - precision: 1.0000 - recall: 0.9997 - auc: 0.0000e+00 - prc: 1.0000 - val_loss: 11375.5078 - val_cross entropy: -2374.3479 - val_Brier score: 11375.5059 - val_tp: 15956.0000 - val_fp: 0.0000e+00 - val_tn: 0.0000e+00 - val_fn: 0.0000e+00 - val_accuracy: 0.0000e+00 - val_precision: 1.0000 - val_recall: 1.0000 - val_auc: 0.0000e+00 - val_prc: 1.0000\n",
      "Epoch 23/100\n",
      "479/479 [==============================] - 1s 2ms/step - loss: 12442.2090 - cross entropy: -2364.5625 - Brier score: 12442.2090 - tp: 47711.0000 - fp: 0.0000e+00 - tn: 0.0000e+00 - fn: 157.0000 - accuracy: 0.0000e+00 - precision: 1.0000 - recall: 0.9967 - auc: 0.0000e+00 - prc: 1.0000 - val_loss: 10709.7744 - val_cross entropy: -2374.3479 - val_Brier score: 10709.7744 - val_tp: 15956.0000 - val_fp: 0.0000e+00 - val_tn: 0.0000e+00 - val_fn: 0.0000e+00 - val_accuracy: 0.0000e+00 - val_precision: 1.0000 - val_recall: 1.0000 - val_auc: 0.0000e+00 - val_prc: 1.0000\n",
      "Epoch 24/100\n",
      "479/479 [==============================] - 1s 2ms/step - loss: 12431.2002 - cross entropy: -2336.3994 - Brier score: 12431.2002 - tp: 47447.0000 - fp: 0.0000e+00 - tn: 0.0000e+00 - fn: 421.0000 - accuracy: 0.0000e+00 - precision: 1.0000 - recall: 0.9912 - auc: 0.0000e+00 - prc: 1.0000 - val_loss: 17178.3652 - val_cross entropy: -2374.3479 - val_Brier score: 17178.3652 - val_tp: 15956.0000 - val_fp: 0.0000e+00 - val_tn: 0.0000e+00 - val_fn: 0.0000e+00 - val_accuracy: 0.0000e+00 - val_precision: 1.0000 - val_recall: 1.0000 - val_auc: 0.0000e+00 - val_prc: 1.0000\n",
      "Epoch 25/100\n",
      "479/479 [==============================] - 1s 2ms/step - loss: 12462.7793 - cross entropy: -2347.2498 - Brier score: 12462.7793 - tp: 47548.0000 - fp: 0.0000e+00 - tn: 0.0000e+00 - fn: 320.0000 - accuracy: 0.0000e+00 - precision: 1.0000 - recall: 0.9933 - auc: 0.0000e+00 - prc: 1.0000 - val_loss: 12714.3213 - val_cross entropy: -2374.3479 - val_Brier score: 12714.3213 - val_tp: 15956.0000 - val_fp: 0.0000e+00 - val_tn: 0.0000e+00 - val_fn: 0.0000e+00 - val_accuracy: 0.0000e+00 - val_precision: 1.0000 - val_recall: 1.0000 - val_auc: 0.0000e+00 - val_prc: 1.0000\n",
      "Epoch 26/100\n",
      "479/479 [==============================] - 1s 2ms/step - loss: 12545.6123 - cross entropy: -2344.2668 - Brier score: 12545.6123 - tp: 47526.0000 - fp: 0.0000e+00 - tn: 0.0000e+00 - fn: 342.0000 - accuracy: 0.0000e+00 - precision: 1.0000 - recall: 0.9929 - auc: 0.0000e+00 - prc: 1.0000 - val_loss: 10449.9717 - val_cross entropy: -2374.3479 - val_Brier score: 10449.9717 - val_tp: 15956.0000 - val_fp: 0.0000e+00 - val_tn: 0.0000e+00 - val_fn: 0.0000e+00 - val_accuracy: 0.0000e+00 - val_precision: 1.0000 - val_recall: 1.0000 - val_auc: 0.0000e+00 - val_prc: 1.0000\n",
      "Epoch 27/100\n",
      "479/479 [==============================] - 1s 2ms/step - loss: 12707.1045 - cross entropy: -2356.9917 - Brier score: 12707.1045 - tp: 47637.0000 - fp: 0.0000e+00 - tn: 0.0000e+00 - fn: 231.0000 - accuracy: 0.0000e+00 - precision: 1.0000 - recall: 0.9952 - auc: 0.0000e+00 - prc: 1.0000 - val_loss: 10469.3877 - val_cross entropy: -2374.3479 - val_Brier score: 10469.3877 - val_tp: 15956.0000 - val_fp: 0.0000e+00 - val_tn: 0.0000e+00 - val_fn: 0.0000e+00 - val_accuracy: 0.0000e+00 - val_precision: 1.0000 - val_recall: 1.0000 - val_auc: 0.0000e+00 - val_prc: 1.0000\n",
      "Epoch 28/100\n",
      "479/479 [==============================] - 1s 2ms/step - loss: 12832.0859 - cross entropy: -2323.6633 - Brier score: 12832.0859 - tp: 47321.0000 - fp: 0.0000e+00 - tn: 0.0000e+00 - fn: 547.0000 - accuracy: 0.0000e+00 - precision: 1.0000 - recall: 0.9886 - auc: 0.0000e+00 - prc: 1.0000 - val_loss: 11316.5439 - val_cross entropy: -2374.3479 - val_Brier score: 11316.5439 - val_tp: 15956.0000 - val_fp: 0.0000e+00 - val_tn: 0.0000e+00 - val_fn: 0.0000e+00 - val_accuracy: 0.0000e+00 - val_precision: 1.0000 - val_recall: 1.0000 - val_auc: 0.0000e+00 - val_prc: 1.0000\n",
      "Epoch 29/100\n"
     ]
    },
    {
     "name": "stdout",
     "output_type": "stream",
     "text": [
      "479/479 [==============================] - 1s 2ms/step - loss: 13729.3535 - cross entropy: -2262.7529 - Brier score: 13729.3535 - tp: 46740.0000 - fp: 0.0000e+00 - tn: 0.0000e+00 - fn: 1128.0000 - accuracy: 0.0000e+00 - precision: 1.0000 - recall: 0.9764 - auc: 0.0000e+00 - prc: 1.0000 - val_loss: 11842.4492 - val_cross entropy: -2374.3479 - val_Brier score: 11842.4492 - val_tp: 15956.0000 - val_fp: 0.0000e+00 - val_tn: 0.0000e+00 - val_fn: 0.0000e+00 - val_accuracy: 0.0000e+00 - val_precision: 1.0000 - val_recall: 1.0000 - val_auc: 0.0000e+00 - val_prc: 1.0000\n",
      "Epoch 30/100\n",
      "479/479 [==============================] - 1s 2ms/step - loss: 14077.5176 - cross entropy: -2270.1467 - Brier score: 14077.5176 - tp: 46801.0000 - fp: 0.0000e+00 - tn: 0.0000e+00 - fn: 1067.0000 - accuracy: 0.0000e+00 - precision: 1.0000 - recall: 0.9777 - auc: 0.0000e+00 - prc: 1.0000 - val_loss: 11381.5527 - val_cross entropy: -2374.3479 - val_Brier score: 11381.5527 - val_tp: 15956.0000 - val_fp: 0.0000e+00 - val_tn: 0.0000e+00 - val_fn: 0.0000e+00 - val_accuracy: 0.0000e+00 - val_precision: 1.0000 - val_recall: 1.0000 - val_auc: 0.0000e+00 - val_prc: 1.0000\n",
      "Epoch 31/100\n",
      "479/479 [==============================] - 1s 2ms/step - loss: 12116.5605 - cross entropy: -2333.1565 - Brier score: 12116.5605 - tp: 47413.0000 - fp: 0.0000e+00 - tn: 0.0000e+00 - fn: 455.0000 - accuracy: 0.0000e+00 - precision: 1.0000 - recall: 0.9905 - auc: 0.0000e+00 - prc: 1.0000 - val_loss: 9752.5674 - val_cross entropy: -2374.3479 - val_Brier score: 9752.5674 - val_tp: 15956.0000 - val_fp: 0.0000e+00 - val_tn: 0.0000e+00 - val_fn: 0.0000e+00 - val_accuracy: 0.0000e+00 - val_precision: 1.0000 - val_recall: 1.0000 - val_auc: 0.0000e+00 - val_prc: 1.0000\n",
      "Epoch 32/100\n",
      "479/479 [==============================] - 1s 2ms/step - loss: 14346.6494 - cross entropy: -2242.7881 - Brier score: 14346.6494 - tp: 46540.0000 - fp: 0.0000e+00 - tn: 0.0000e+00 - fn: 1328.0000 - accuracy: 0.0000e+00 - precision: 1.0000 - recall: 0.9723 - auc: 0.0000e+00 - prc: 1.0000 - val_loss: 18173.8770 - val_cross entropy: -2374.3479 - val_Brier score: 18173.8770 - val_tp: 15956.0000 - val_fp: 0.0000e+00 - val_tn: 0.0000e+00 - val_fn: 0.0000e+00 - val_accuracy: 0.0000e+00 - val_precision: 1.0000 - val_recall: 1.0000 - val_auc: 0.0000e+00 - val_prc: 1.0000\n",
      "Epoch 33/100\n",
      "479/479 [==============================] - 1s 3ms/step - loss: 13910.7012 - cross entropy: -2265.1606 - Brier score: 13910.7012 - tp: 46771.0000 - fp: 0.0000e+00 - tn: 0.0000e+00 - fn: 1097.0000 - accuracy: 0.0000e+00 - precision: 1.0000 - recall: 0.9771 - auc: 0.0000e+00 - prc: 1.0000 - val_loss: 14326.0322 - val_cross entropy: -2372.8188 - val_Brier score: 14326.0322 - val_tp: 15951.0000 - val_fp: 0.0000e+00 - val_tn: 0.0000e+00 - val_fn: 5.0000 - val_accuracy: 0.0000e+00 - val_precision: 1.0000 - val_recall: 0.9997 - val_auc: 0.0000e+00 - val_prc: 1.0000\n",
      "Epoch 34/100\n",
      "479/479 [==============================] - 1s 2ms/step - loss: 13337.6006 - cross entropy: -2292.5295 - Brier score: 13337.6006 - tp: 47024.0000 - fp: 0.0000e+00 - tn: 0.0000e+00 - fn: 844.0000 - accuracy: 0.0000e+00 - precision: 1.0000 - recall: 0.9824 - auc: 0.0000e+00 - prc: 1.0000 - val_loss: 20267.6602 - val_cross entropy: -2374.3479 - val_Brier score: 20267.6602 - val_tp: 15956.0000 - val_fp: 0.0000e+00 - val_tn: 0.0000e+00 - val_fn: 0.0000e+00 - val_accuracy: 0.0000e+00 - val_precision: 1.0000 - val_recall: 1.0000 - val_auc: 0.0000e+00 - val_prc: 1.0000\n",
      "Epoch 35/100\n",
      "479/479 [==============================] - 1s 2ms/step - loss: 12064.9336 - cross entropy: -2310.7180 - Brier score: 12064.9336 - tp: 47214.0000 - fp: 0.0000e+00 - tn: 0.0000e+00 - fn: 654.0000 - accuracy: 0.0000e+00 - precision: 1.0000 - recall: 0.9863 - auc: 0.0000e+00 - prc: 1.0000 - val_loss: 11674.1836 - val_cross entropy: -2374.3479 - val_Brier score: 11674.1836 - val_tp: 15956.0000 - val_fp: 0.0000e+00 - val_tn: 0.0000e+00 - val_fn: 0.0000e+00 - val_accuracy: 0.0000e+00 - val_precision: 1.0000 - val_recall: 1.0000 - val_auc: 0.0000e+00 - val_prc: 1.0000\n",
      "Epoch 36/100\n",
      "479/479 [==============================] - 1s 2ms/step - loss: 11190.9160 - cross entropy: -2351.1248 - Brier score: 11190.9160 - tp: 47604.0000 - fp: 0.0000e+00 - tn: 0.0000e+00 - fn: 264.0000 - accuracy: 0.0000e+00 - precision: 1.0000 - recall: 0.9945 - auc: 0.0000e+00 - prc: 1.0000 - val_loss: 8871.8818 - val_cross entropy: -2374.3479 - val_Brier score: 8871.8818 - val_tp: 15956.0000 - val_fp: 0.0000e+00 - val_tn: 0.0000e+00 - val_fn: 0.0000e+00 - val_accuracy: 0.0000e+00 - val_precision: 1.0000 - val_recall: 1.0000 - val_auc: 0.0000e+00 - val_prc: 1.0000\n",
      "Epoch 37/100\n",
      "479/479 [==============================] - 1s 2ms/step - loss: 15169.0264 - cross entropy: -2175.6431 - Brier score: 15169.0264 - tp: 45913.0000 - fp: 0.0000e+00 - tn: 0.0000e+00 - fn: 1955.0000 - accuracy: 0.0000e+00 - precision: 1.0000 - recall: 0.9592 - auc: 0.0000e+00 - prc: 1.0000 - val_loss: 8950.1455 - val_cross entropy: -2374.3479 - val_Brier score: 8950.1465 - val_tp: 15956.0000 - val_fp: 0.0000e+00 - val_tn: 0.0000e+00 - val_fn: 0.0000e+00 - val_accuracy: 0.0000e+00 - val_precision: 1.0000 - val_recall: 1.0000 - val_auc: 0.0000e+00 - val_prc: 1.0000\n",
      "Epoch 38/100\n",
      "479/479 [==============================] - 1s 2ms/step - loss: 12286.9600 - cross entropy: -2299.5691 - Brier score: 12286.9600 - tp: 47132.0000 - fp: 0.0000e+00 - tn: 0.0000e+00 - fn: 736.0000 - accuracy: 0.0000e+00 - precision: 1.0000 - recall: 0.9846 - auc: 0.0000e+00 - prc: 1.0000 - val_loss: 8706.7520 - val_cross entropy: -2374.3479 - val_Brier score: 8706.7520 - val_tp: 15956.0000 - val_fp: 0.0000e+00 - val_tn: 0.0000e+00 - val_fn: 0.0000e+00 - val_accuracy: 0.0000e+00 - val_precision: 1.0000 - val_recall: 1.0000 - val_auc: 0.0000e+00 - val_prc: 1.0000\n",
      "Epoch 39/100\n",
      "479/479 [==============================] - 1s 2ms/step - loss: 10700.7207 - cross entropy: -2361.8201 - Brier score: 10700.7207 - tp: 47700.0000 - fp: 0.0000e+00 - tn: 0.0000e+00 - fn: 168.0000 - accuracy: 0.0000e+00 - precision: 1.0000 - recall: 0.9965 - auc: 0.0000e+00 - prc: 1.0000 - val_loss: 8866.6475 - val_cross entropy: -2374.3479 - val_Brier score: 8866.6475 - val_tp: 15956.0000 - val_fp: 0.0000e+00 - val_tn: 0.0000e+00 - val_fn: 0.0000e+00 - val_accuracy: 0.0000e+00 - val_precision: 1.0000 - val_recall: 1.0000 - val_auc: 0.0000e+00 - val_prc: 1.0000\n",
      "Epoch 40/100\n",
      "479/479 [==============================] - 1s 2ms/step - loss: 12085.1514 - cross entropy: -2298.6218 - Brier score: 12085.1514 - tp: 47105.0000 - fp: 0.0000e+00 - tn: 0.0000e+00 - fn: 763.0000 - accuracy: 0.0000e+00 - precision: 1.0000 - recall: 0.9841 - auc: 0.0000e+00 - prc: 1.0000 - val_loss: 8574.8379 - val_cross entropy: -2374.3479 - val_Brier score: 8574.8379 - val_tp: 15956.0000 - val_fp: 0.0000e+00 - val_tn: 0.0000e+00 - val_fn: 0.0000e+00 - val_accuracy: 0.0000e+00 - val_precision: 1.0000 - val_recall: 1.0000 - val_auc: 0.0000e+00 - val_prc: 1.0000\n",
      "Epoch 41/100\n",
      "479/479 [==============================] - 1s 2ms/step - loss: 12276.8906 - cross entropy: -2298.3950 - Brier score: 12276.8906 - tp: 47088.0000 - fp: 0.0000e+00 - tn: 0.0000e+00 - fn: 780.0000 - accuracy: 0.0000e+00 - precision: 1.0000 - recall: 0.9837 - auc: 0.0000e+00 - prc: 1.0000 - val_loss: 9787.1279 - val_cross entropy: -2374.3479 - val_Brier score: 9787.1279 - val_tp: 15956.0000 - val_fp: 0.0000e+00 - val_tn: 0.0000e+00 - val_fn: 0.0000e+00 - val_accuracy: 0.0000e+00 - val_precision: 1.0000 - val_recall: 1.0000 - val_auc: 0.0000e+00 - val_prc: 1.0000\n",
      "Epoch 42/100\n",
      "479/479 [==============================] - 1s 2ms/step - loss: 9994.4170 - cross entropy: -2377.5081 - Brier score: 9994.4170 - tp: 47854.0000 - fp: 0.0000e+00 - tn: 0.0000e+00 - fn: 14.0000 - accuracy: 0.0000e+00 - precision: 1.0000 - recall: 0.9997 - auc: 0.0000e+00 - prc: 1.0000 - val_loss: 9818.3936 - val_cross entropy: -2374.3479 - val_Brier score: 9818.3936 - val_tp: 15956.0000 - val_fp: 0.0000e+00 - val_tn: 0.0000e+00 - val_fn: 0.0000e+00 - val_accuracy: 0.0000e+00 - val_precision: 1.0000 - val_recall: 1.0000 - val_auc: 0.0000e+00 - val_prc: 1.0000\n",
      "Epoch 43/100\n",
      "479/479 [==============================] - 1s 2ms/step - loss: 10513.0381 - cross entropy: -2346.8242 - Brier score: 10513.0381 - tp: 47567.0000 - fp: 0.0000e+00 - tn: 0.0000e+00 - fn: 301.0000 - accuracy: 0.0000e+00 - precision: 1.0000 - recall: 0.9937 - auc: 0.0000e+00 - prc: 1.0000 - val_loss: 10050.2549 - val_cross entropy: -2374.3479 - val_Brier score: 10050.2549 - val_tp: 15956.0000 - val_fp: 0.0000e+00 - val_tn: 0.0000e+00 - val_fn: 0.0000e+00 - val_accuracy: 0.0000e+00 - val_precision: 1.0000 - val_recall: 1.0000 - val_auc: 0.0000e+00 - val_prc: 1.0000\n",
      "Epoch 44/100\n",
      "479/479 [==============================] - 1s 2ms/step - loss: 9742.9326 - cross entropy: -2368.5332 - Brier score: 9742.9326 - tp: 47775.0000 - fp: 0.0000e+00 - tn: 0.0000e+00 - fn: 93.0000 - accuracy: 0.0000e+00 - precision: 1.0000 - recall: 0.9981 - auc: 0.0000e+00 - prc: 1.0000 - val_loss: 13518.8359 - val_cross entropy: -2368.2278 - val_Brier score: 13518.8359 - val_tp: 15934.0000 - val_fp: 0.0000e+00 - val_tn: 0.0000e+00 - val_fn: 22.0000 - val_accuracy: 0.0000e+00 - val_precision: 1.0000 - val_recall: 0.9986 - val_auc: 0.0000e+00 - val_prc: 1.0000\n",
      "Epoch 45/100\n",
      "479/479 [==============================] - 1s 2ms/step - loss: 10607.6787 - cross entropy: -2351.0830 - Brier score: 10607.6797 - tp: 47599.0000 - fp: 0.0000e+00 - tn: 0.0000e+00 - fn: 269.0000 - accuracy: 0.0000e+00 - precision: 1.0000 - recall: 0.9944 - auc: 0.0000e+00 - prc: 1.0000 - val_loss: 8459.2783 - val_cross entropy: -2374.3479 - val_Brier score: 8459.2783 - val_tp: 15956.0000 - val_fp: 0.0000e+00 - val_tn: 0.0000e+00 - val_fn: 0.0000e+00 - val_accuracy: 0.0000e+00 - val_precision: 1.0000 - val_recall: 1.0000 - val_auc: 0.0000e+00 - val_prc: 1.0000\n",
      "Epoch 46/100\n",
      "479/479 [==============================] - 1s 2ms/step - loss: 9817.2129 - cross entropy: -2370.5439 - Brier score: 9817.2129 - tp: 47784.0000 - fp: 0.0000e+00 - tn: 0.0000e+00 - fn: 84.0000 - accuracy: 0.0000e+00 - precision: 1.0000 - recall: 0.9982 - auc: 0.0000e+00 - prc: 1.0000 - val_loss: 11588.3408 - val_cross entropy: -2374.3479 - val_Brier score: 11588.3408 - val_tp: 15956.0000 - val_fp: 0.0000e+00 - val_tn: 0.0000e+00 - val_fn: 0.0000e+00 - val_accuracy: 0.0000e+00 - val_precision: 1.0000 - val_recall: 1.0000 - val_auc: 0.0000e+00 - val_prc: 1.0000\n",
      "Epoch 47/100\n",
      "479/479 [==============================] - 1s 2ms/step - loss: 13860.4658 - cross entropy: -2307.0728 - Brier score: 13860.4658 - tp: 47152.0000 - fp: 0.0000e+00 - tn: 0.0000e+00 - fn: 716.0000 - accuracy: 0.0000e+00 - precision: 1.0000 - recall: 0.9850 - auc: 0.0000e+00 - prc: 1.0000 - val_loss: 10609.3027 - val_cross entropy: -2374.3479 - val_Brier score: 10609.3027 - val_tp: 15956.0000 - val_fp: 0.0000e+00 - val_tn: 0.0000e+00 - val_fn: 0.0000e+00 - val_accuracy: 0.0000e+00 - val_precision: 1.0000 - val_recall: 1.0000 - val_auc: 0.0000e+00 - val_prc: 1.0000\n",
      "Epoch 48/100\n",
      "479/479 [==============================] - 1s 2ms/step - loss: 10406.1562 - cross entropy: -2378.8633 - Brier score: 10406.1562 - tp: 47868.0000 - fp: 0.0000e+00 - tn: 0.0000e+00 - fn: 0.0000e+00 - accuracy: 0.0000e+00 - precision: 1.0000 - recall: 1.0000 - auc: 0.0000e+00 - prc: 1.0000 - val_loss: 10361.3672 - val_cross entropy: -2374.3479 - val_Brier score: 10361.3672 - val_tp: 15956.0000 - val_fp: 0.0000e+00 - val_tn: 0.0000e+00 - val_fn: 0.0000e+00 - val_accuracy: 0.0000e+00 - val_precision: 1.0000 - val_recall: 1.0000 - val_auc: 0.0000e+00 - val_prc: 1.0000\n",
      "Epoch 49/100\n",
      "479/479 [==============================] - 1s 2ms/step - loss: 10289.0117 - cross entropy: -2378.8635 - Brier score: 10289.0117 - tp: 47868.0000 - fp: 0.0000e+00 - tn: 0.0000e+00 - fn: 0.0000e+00 - accuracy: 0.0000e+00 - precision: 1.0000 - recall: 1.0000 - auc: 0.0000e+00 - prc: 1.0000 - val_loss: 10453.2871 - val_cross entropy: -2374.3479 - val_Brier score: 10453.2871 - val_tp: 15956.0000 - val_fp: 0.0000e+00 - val_tn: 0.0000e+00 - val_fn: 0.0000e+00 - val_accuracy: 0.0000e+00 - val_precision: 1.0000 - val_recall: 1.0000 - val_auc: 0.0000e+00 - val_prc: 1.0000\n",
      "Epoch 50/100\n",
      "479/479 [==============================] - 1s 2ms/step - loss: 10517.1172 - cross entropy: -2371.6990 - Brier score: 10517.1172 - tp: 47791.0000 - fp: 0.0000e+00 - tn: 0.0000e+00 - fn: 77.0000 - accuracy: 0.0000e+00 - precision: 1.0000 - recall: 0.9984 - auc: 0.0000e+00 - prc: 1.0000 - val_loss: 9975.6367 - val_cross entropy: -2374.3479 - val_Brier score: 9975.6367 - val_tp: 15956.0000 - val_fp: 0.0000e+00 - val_tn: 0.0000e+00 - val_fn: 0.0000e+00 - val_accuracy: 0.0000e+00 - val_precision: 1.0000 - val_recall: 1.0000 - val_auc: 0.0000e+00 - val_prc: 1.0000\n",
      "Epoch 51/100\n",
      "479/479 [==============================] - 1s 2ms/step - loss: 10051.3223 - cross entropy: -2378.8640 - Brier score: 10051.3223 - tp: 47868.0000 - fp: 0.0000e+00 - tn: 0.0000e+00 - fn: 0.0000e+00 - accuracy: 0.0000e+00 - precision: 1.0000 - recall: 1.0000 - auc: 0.0000e+00 - prc: 1.0000 - val_loss: 9179.8369 - val_cross entropy: -2374.3479 - val_Brier score: 9179.8369 - val_tp: 15956.0000 - val_fp: 0.0000e+00 - val_tn: 0.0000e+00 - val_fn: 0.0000e+00 - val_accuracy: 0.0000e+00 - val_precision: 1.0000 - val_recall: 1.0000 - val_auc: 0.0000e+00 - val_prc: 1.0000\n",
      "Epoch 52/100\n",
      "479/479 [==============================] - 1s 2ms/step - loss: 9907.1104 - cross entropy: -2378.8655 - Brier score: 9907.1104 - tp: 47868.0000 - fp: 0.0000e+00 - tn: 0.0000e+00 - fn: 0.0000e+00 - accuracy: 0.0000e+00 - precision: 1.0000 - recall: 1.0000 - auc: 0.0000e+00 - prc: 1.0000 - val_loss: 8881.4492 - val_cross entropy: -2374.3479 - val_Brier score: 8881.4473 - val_tp: 15956.0000 - val_fp: 0.0000e+00 - val_tn: 0.0000e+00 - val_fn: 0.0000e+00 - val_accuracy: 0.0000e+00 - val_precision: 1.0000 - val_recall: 1.0000 - val_auc: 0.0000e+00 - val_prc: 1.0000\n",
      "Epoch 53/100\n",
      "479/479 [==============================] - 1s 2ms/step - loss: 9875.4043 - cross entropy: -2378.8635 - Brier score: 9875.4043 - tp: 47868.0000 - fp: 0.0000e+00 - tn: 0.0000e+00 - fn: 0.0000e+00 - accuracy: 0.0000e+00 - precision: 1.0000 - recall: 1.0000 - auc: 0.0000e+00 - prc: 1.0000 - val_loss: 8889.2910 - val_cross entropy: -2374.3479 - val_Brier score: 8889.2910 - val_tp: 15956.0000 - val_fp: 0.0000e+00 - val_tn: 0.0000e+00 - val_fn: 0.0000e+00 - val_accuracy: 0.0000e+00 - val_precision: 1.0000 - val_recall: 1.0000 - val_auc: 0.0000e+00 - val_prc: 1.0000\n",
      "Epoch 54/100\n",
      "479/479 [==============================] - 1s 2ms/step - loss: 9530.6924 - cross entropy: -2378.8635 - Brier score: 9530.6924 - tp: 47868.0000 - fp: 0.0000e+00 - tn: 0.0000e+00 - fn: 0.0000e+00 - accuracy: 0.0000e+00 - precision: 1.0000 - recall: 1.0000 - auc: 0.0000e+00 - prc: 1.0000 - val_loss: 11039.3555 - val_cross entropy: -2374.3479 - val_Brier score: 11039.3555 - val_tp: 15956.0000 - val_fp: 0.0000e+00 - val_tn: 0.0000e+00 - val_fn: 0.0000e+00 - val_accuracy: 0.0000e+00 - val_precision: 1.0000 - val_recall: 1.0000 - val_auc: 0.0000e+00 - val_prc: 1.0000\n",
      "Epoch 55/100\n",
      "459/479 [===========================>..] - ETA: 0s - loss: 9464.3506 - cross entropy: -2380.0525 - Brier score: 9464.3506 - tp: 45900.0000 - fp: 0.0000e+00 - tn: 0.0000e+00 - fn: 0.0000e+00 - accuracy: 0.0000e+00 - precision: 1.0000 - recall: 1.0000 - auc: 0.0000e+00 - prc: 1.0000Restoring model weights from the end of the best epoch: 45.\n",
      "479/479 [==============================] - 1s 2ms/step - loss: 9419.6582 - cross entropy: -2378.8638 - Brier score: 9419.6582 - tp: 47868.0000 - fp: 0.0000e+00 - tn: 0.0000e+00 - fn: 0.0000e+00 - accuracy: 0.0000e+00 - precision: 1.0000 - recall: 1.0000 - auc: 0.0000e+00 - prc: 1.0000 - val_loss: 8785.2197 - val_cross entropy: -2374.3479 - val_Brier score: 8785.2197 - val_tp: 15956.0000 - val_fp: 0.0000e+00 - val_tn: 0.0000e+00 - val_fn: 0.0000e+00 - val_accuracy: 0.0000e+00 - val_precision: 1.0000 - val_recall: 1.0000 - val_auc: 0.0000e+00 - val_prc: 1.0000\n",
      "Epoch 55: early stopping\n"
     ]
    }
   ],
   "source": [
    "model = make_model()\n",
    "history = model.fit(\n",
    "    X_train,\n",
    "    Y_train,\n",
    "    batch_size=100,\n",
    "    epochs=EPOCHS, #EPOCHS\n",
    "    callbacks=[early_stopping],\n",
    "    validation_data=(X_val, Y_val))"
   ]
  },
  {
   "cell_type": "code",
   "execution_count": 20,
   "metadata": {},
   "outputs": [
    {
     "name": "stdout",
     "output_type": "stream",
     "text": [
      "1/1 [==============================] - 0s 63ms/step\n",
      "[[108.90208 ]\n",
      " [129.56253 ]\n",
      " [105.229164]\n",
      " [143.33902 ]\n",
      " [107.57322 ]\n",
      " [ 73.95606 ]\n",
      " [117.88712 ]\n",
      " [115.19962 ]\n",
      " [168.92227 ]\n",
      " [153.2261  ]]\n",
      "[103.19415283 111.37741852 170.25746155 126.65801239 131.60432434\n",
      " 136.67912292 147.08555603 131.7905426   76.76410675 121.31212616]\n",
      "Loss on training: 8520.8105\n",
      "Loss on validation: 8459.2793\n"
     ]
    }
   ],
   "source": [
    "pred_output = model.predict(X_train[:10])\n",
    "print(pred_output)\n",
    "print(Y_train[:10])\n",
    "\n",
    "results = model.evaluate(X_train, Y_train, batch_size=BATCH_SIZE, verbose=0)\n",
    "print(\"Loss on training: {:0.4f}\".format(results[0]))\n",
    "\n",
    "results_val = model.evaluate(X_val, Y_val, batch_size=BATCH_SIZE, verbose=0)\n",
    "print(\"Loss on validation: {:0.4f}\".format(results_val[0]))"
   ]
  },
  {
   "cell_type": "code",
   "execution_count": 21,
   "metadata": {},
   "outputs": [
    {
     "name": "stdout",
     "output_type": "stream",
     "text": [
      "47/47 [==============================] - 0s 1ms/step\n",
      "16/16 [==============================] - 0s 1ms/step\n",
      "15956 15956\n"
     ]
    }
   ],
   "source": [
    "# Plots of loss vs epoch \n",
    "# Plot of ROC\n",
    "\n",
    "train_predictions = model.predict(train_data, batch_size=BATCH_SIZE)\n",
    "test_predictions = model.predict(test_data, batch_size=BATCH_SIZE)\n",
    "print(len(test_data),len(test_predictions))"
   ]
  },
  {
   "cell_type": "raw",
   "metadata": {},
   "source": [
    "from source.tools import tools\n",
    "obj = tools()\n",
    "colors = plt.rcParams['axes.prop_cycle'].by_key()['color']\n",
    "obj.plot_roc(\"Train Baseline\", train_labels, train_predictions_baseline, color=colors[0])\n",
    "obj.plot_roc(\"Test Baseline\", test_labels, test_predictions_baseline, color=colors[1], linestyle='--')\n",
    "plt.legend(loc='lower right')"
   ]
  },
  {
   "cell_type": "code",
   "execution_count": 22,
   "metadata": {},
   "outputs": [
    {
     "name": "stdout",
     "output_type": "stream",
     "text": [
      "[2740824064.0, 16973.736328125, 16001.33203125, 16271.1630859375, 15716.0751953125, 15422.974609375, 15047.6982421875, 14623.7548828125, 14310.71875, 14008.3349609375, 13755.5625, 16326.5595703125, 12819.048828125, 24250.015625, 11654.2626953125, 11706.8154296875, 11698.7744140625, 11747.029296875, 11720.2373046875, 11710.576171875, 11901.197265625, 11866.396484375, 12442.208984375, 12431.2001953125, 12462.779296875, 12545.6123046875, 12707.1044921875, 12832.0859375, 13729.353515625, 14077.517578125, 12116.560546875, 14346.6494140625, 13910.701171875, 13337.6005859375, 12064.93359375, 11190.916015625, 15169.0263671875, 12286.9599609375, 10700.720703125, 12085.1513671875, 12276.890625, 9994.4169921875, 10513.0380859375, 9742.9326171875, 10607.6787109375, 9817.212890625, 13860.4658203125, 10406.15625, 10289.01171875, 10517.1171875, 10051.322265625, 9907.1103515625, 9875.404296875, 9530.6923828125, 9419.658203125]\n",
      "[16092.4375, 15996.029296875, 16066.64453125, 15969.990234375, 15546.478515625, 15351.4931640625, 14746.146484375, 14400.0322265625, 14965.640625, 13475.4541015625, 13129.224609375, 12745.6982421875, 11873.4873046875, 11734.31640625, 11613.1787109375, 11804.830078125, 11467.443359375, 11364.01171875, 11447.0439453125, 11397.5712890625, 14545.802734375, 11375.5078125, 10709.7744140625, 17178.365234375, 12714.3212890625, 10449.9716796875, 10469.3876953125, 11316.5439453125, 11842.44921875, 11381.552734375, 9752.5673828125, 18173.876953125, 14326.0322265625, 20267.66015625, 11674.18359375, 8871.8818359375, 8950.1455078125, 8706.751953125, 8866.6474609375, 8574.837890625, 9787.1279296875, 9818.3935546875, 10050.2548828125, 13518.8359375, 8459.2783203125, 11588.3408203125, 10609.302734375, 10361.3671875, 10453.287109375, 9975.63671875, 9179.8369140625, 8881.44921875, 8889.291015625, 11039.35546875, 8785.2197265625]\n",
      "dict_keys(['loss', 'cross entropy', 'Brier score', 'tp', 'fp', 'tn', 'fn', 'accuracy', 'precision', 'recall', 'auc', 'prc', 'val_loss', 'val_cross entropy', 'val_Brier score', 'val_tp', 'val_fp', 'val_tn', 'val_fn', 'val_accuracy', 'val_precision', 'val_recall', 'val_auc', 'val_prc'])\n"
     ]
    }
   ],
   "source": [
    "print(history.history['loss'])\n",
    "print(history.history['val_loss'])\n",
    "print(history.history.keys())"
   ]
  },
  {
   "cell_type": "code",
   "execution_count": 23,
   "metadata": {},
   "outputs": [],
   "source": [
    "#AUC\n",
    "#sklearn.metrics.roc_auc_score(test_labels, test_predictions_baseline)"
   ]
  },
  {
   "cell_type": "code",
   "execution_count": 24,
   "metadata": {},
   "outputs": [],
   "source": [
    "#sklearn.metrics.roc_auc_score(train_labels, train_predictions_baseline)"
   ]
  },
  {
   "cell_type": "code",
   "execution_count": 25,
   "metadata": {},
   "outputs": [],
   "source": [
    "from source.tools import tools\n",
    "obj = tools()\n",
    "colors = plt.rcParams['axes.prop_cycle'].by_key()['color']\n",
    "\n",
    "def plot_metrics(history):\n",
    "    metrics = ['loss', 'prc', 'precision', 'recall']\n",
    "    metrics = ['loss', 'Brier score', 'precision', 'recall']\n",
    "    fig, axs = plt.subplots(2, 2, figsize=(10, 8))\n",
    "    fig.subplots_adjust(hspace=0.3)  # Adjust the vertical spacing between subplots\n",
    "\n",
    "    for n, metric in enumerate(metrics):\n",
    "        name = metric.replace(\"_\",\" \").capitalize()\n",
    "        plt.subplot(2,2,n+1)\n",
    "        plt.plot(history.epoch, history.history[metric], color=colors[0], label='Train')\n",
    "        plt.plot(history.epoch, history.history['val_'+metric],\n",
    "                 color=colors[0], linestyle=\"--\", label='Val')\n",
    "        plt.xlabel('Epoch')\n",
    "        plt.ylabel(name)\n",
    "        if metric == 'loss':\n",
    "            plt.ylim([1, plt.ylim()[1]])\n",
    "            plt.yscale(\"log\")\n",
    "        elif metric == 'auc':\n",
    "            plt.ylim([0.8,1])\n",
    "        elif metric == 'Brier score':\n",
    "            plt.ylim([0.1,12527118336])\n",
    "            plt.yscale(\"log\")\n",
    "        else:\n",
    "            plt.ylim([0,1.1])\n",
    "\n",
    "        plt.legend()"
   ]
  },
  {
   "cell_type": "code",
   "execution_count": 26,
   "metadata": {},
   "outputs": [
    {
     "name": "stdout",
     "output_type": "stream",
     "text": [
      "[3371495168.0, 16973.736328125, 16001.33203125, 16271.1630859375, 15716.0751953125, 15422.974609375, 15047.6982421875, 14623.75390625, 14310.71875, 14008.3349609375, 13755.5625, 16326.5595703125, 12819.048828125, 24250.017578125, 11654.2626953125, 11706.8154296875, 11698.7744140625, 11747.029296875, 11720.2373046875, 11710.576171875, 11901.197265625, 11866.396484375, 12442.208984375, 12431.2001953125, 12462.779296875, 12545.6123046875, 12707.1044921875, 12832.0859375, 13729.353515625, 14077.517578125, 12116.560546875, 14346.6494140625, 13910.701171875, 13337.6005859375, 12064.93359375, 11190.916015625, 15169.0263671875, 12286.9599609375, 10700.720703125, 12085.1513671875, 12276.890625, 9994.4169921875, 10513.0380859375, 9742.9326171875, 10607.6796875, 9817.212890625, 13860.4658203125, 10406.15625, 10289.01171875, 10517.1171875, 10051.322265625, 9907.1103515625, 9875.404296875, 9530.6923828125, 9419.658203125]\n"
     ]
    },
    {
     "data": {
      "image/png": "[encoded data removed]",
      "text/plain": [
       "<Figure size 1000x800 with 4 Axes>"
      ]
     },
     "metadata": {},
     "output_type": "display_data"
    }
   ],
   "source": [
    "plot_metrics(history)\n",
    "print(history.history['Brier score'])"
   ]
  },
  {
   "cell_type": "code",
   "execution_count": 27,
   "metadata": {},
   "outputs": [
    {
     "data": {
      "image/png": "[encoded data removed]",
      "text/plain": [
       "<Figure size 640x480 with 1 Axes>"
      ]
     },
     "metadata": {},
     "output_type": "display_data"
    },
    {
     "name": "stdout",
     "output_type": "stream",
     "text": [
      "[[148.11008 ]\n",
      " [ 76.15299 ]\n",
      " [ 75.62324 ]\n",
      " ...\n",
      " [147.74258 ]\n",
      " [ 63.285347]\n",
      " [118.75266 ]]\n"
     ]
    }
   ],
   "source": [
    "obj = tools()\n",
    "obj.plotHist(train_predictions,train_labels, bins = 50, interval=[0,1000] ,logy=True, logx=False, labels=[\"prediction\",\"truth\"],\n",
    "             xlabel= 'gen particle energy', density=False, ax=None, moveOverUnderFlow=True, verbosity = 0)\n",
    "\n",
    "#obj.plotHist(test_predictions_signal, test_predictions_background, bins = 50, interval=[0,1], logy=True, logx=False, labels=[\"signal test\", \"background test\"],\n",
    "#             xlabel= 'DNN output', density=False, ax=None, moveOverUnderFlow=True, verbosity = 0)\n",
    "\n",
    "print(train_predictions)"
   ]
  },
  {
   "cell_type": "code",
   "execution_count": 28,
   "metadata": {},
   "outputs": [
    {
     "data": {
      "image/png": "[encoded data removed]",
      "text/plain": [
       "<Figure size 640x480 with 1 Axes>"
      ]
     },
     "metadata": {},
     "output_type": "display_data"
    }
   ],
   "source": [
    "obj = tools()\n",
    "obj.plotHist(test_predictions,test_labels, bins = 50, interval=[0,1000] ,logy=True, logx=False, labels=[\"prediction\",\"truth\"],\n",
    "             xlabel= 'gen particle energy', density=False, ax=None, moveOverUnderFlow=True, verbosity = 0)"
   ]
  }
 ],
 "metadata": {
  "kernelspec": {
   "display_name": "mds_regression",
   "language": "python",
   "name": "mds_regression"
  },
  "language_info": {
   "codemirror_mode": {
    "name": "ipython",
    "version": 3
   },
   "file_extension": ".py",
   "mimetype": "text/x-python",
   "name": "python",
   "nbconvert_exporter": "python",
   "pygments_lexer": "ipython3",
   "version": "3.7.12"
  }
 },
 "nbformat": 4,
 "nbformat_minor": 2
}
