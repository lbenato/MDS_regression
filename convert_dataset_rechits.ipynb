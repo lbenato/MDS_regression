{
 "cells": [
  {
   "cell_type": "code",
   "execution_count": 1,
   "metadata": {},
   "outputs": [],
   "source": [
    "from source import Dataset\n",
    "import numpy as np\n",
    "import awkward as ak\n",
    "import glob\n",
    "import time\n",
    "import pandas as pd"
   ]
  },
  {
   "cell_type": "code",
   "execution_count": 4,
   "metadata": {},
   "outputs": [
    {
     "name": "stdout",
     "output_type": "stream",
     "text": [
      "['weight', 'evtNum', 'nCscRechitClusters', 'cscRechitCluster_match_gLLP', 'cscRechitCluster_match_gLLP_minDeltaR', 'cscRechitCluster_match_gLLP_index', 'cscRechitCluster_match_gLLP_eta', 'cscRechitCluster_match_gLLP_phi', 'cscRechitCluster_match_gLLP_decay_r', 'cscRechitCluster_match_gLLP_decay_z', 'cscRechitCluster_match_gLLP_csc', 'cscRechitCluster_match_gLLP_dt', 'cscRechitCluster_match_gLLP_e', 'cscRechitClusterX', 'cscRechitClusterY', 'cscRechitClusterZ', 'cscRechitClusterTimeWeighted', 'cscRechitClusterTimeSpreadWeightedAll', 'cscRechitClusterTime', 'cscRechitClusterTimeSpread', 'cscRechitClusternXY', 'cscRechitClusternZ', 'cscRechitClusterXSpread', 'cscRechitClusterYSpread', 'cscRechitClusterZSpread', 'cscRechitClusterXYSpread', 'cscRechitClusterRSpread', 'cscRechitClusterEtaPhiSpread', 'cscRechitClusterEtaSpread', 'cscRechitClusterPhiSpread', 'cscRechitClusterDeltaRSpread', 'cscRechitClusterMajorAxis', 'cscRechitClusterMinorAxis', 'cscRechitClusterSkewX', 'cscRechitClusterSkewY', 'cscRechitClusterSkewZ', 'cscRechitClusterKurtX', 'cscRechitClusterKurtY', 'cscRechitClusterKurtZ', 'cscRechitClusterPhi', 'cscRechitClusterEta', 'cscRechitClusterJetVetoPt', 'cscRechitClusterJetVetoLooseId', 'cscRechitClusterJetVetoTightId', 'cscRechitClusterJetVetoE', 'cscRechitClusterMuonVetoPt', 'cscRechitClusterMuonVetoE', 'cscRechitClusterMuonVetoLooseId', 'cscRechitClusterMuonVetoGlobal', 'cscRechitCluster_match_dtSeg_0p4', 'cscRechitCluster_match_MB1Seg_0p4', 'cscRechitCluster_match_RE12_0p4', 'cscRechitCluster_match_RB1_0p4', 'cscRechitClusterSize', 'cscRechitClusterNStation10', 'cscRechitClusterAvgStation10', 'cscRechitClusterMaxStation', 'cscRechitClusterMaxStationRatio', 'cscRechitClusterNChamber', 'cscRechitClusterMaxChamber', 'cscRechitClusterMaxChamberRatio', 'cscRechitClusterNRechitChamberPlus11', 'cscRechitClusterNRechitChamberPlus12', 'cscRechitClusterNRechitChamberPlus13', 'cscRechitClusterNRechitChamberPlus21', 'cscRechitClusterNRechitChamberPlus22', 'cscRechitClusterNRechitChamberPlus31', 'cscRechitClusterNRechitChamberPlus32', 'cscRechitClusterNRechitChamberPlus41', 'cscRechitClusterNRechitChamberPlus42', 'cscRechitClusterNRechitChamberMinus11', 'cscRechitClusterNRechitChamberMinus12', 'cscRechitClusterNRechitChamberMinus13', 'cscRechitClusterNRechitChamberMinus21', 'cscRechitClusterNRechitChamberMinus22', 'cscRechitClusterNRechitChamberMinus31', 'cscRechitClusterNRechitChamberMinus32', 'cscRechitClusterNRechitChamberMinus41', 'cscRechitClusterNRechitChamberMinus42', 'cscRechitClusterMet_dPhi']\n"
     ]
    }
   ],
   "source": [
    "branches_to_read = [\n",
    "\"weight\",\n",
    "\"evtNum\",\n",
    "\"nCscRechitClusters\",\n",
    "\"cscRechitCluster_match_gLLP\",\n",
    "\"cscRechitCluster_match_gLLP_minDeltaR\",\n",
    "\"cscRechitCluster_match_gLLP_index\",\n",
    "\"cscRechitCluster_match_gLLP_eta\",\n",
    "\"cscRechitCluster_match_gLLP_phi\",\n",
    "\"cscRechitCluster_match_gLLP_decay_r\",\n",
    "\"cscRechitCluster_match_gLLP_decay_z\",\n",
    "\"cscRechitCluster_match_gLLP_csc\",\n",
    "\"cscRechitCluster_match_gLLP_dt\",\n",
    "\"cscRechitCluster_match_gLLP_e\",\n",
    "\"cscRechitClusterX\",\n",
    "\"cscRechitClusterY\",\n",
    "\"cscRechitClusterZ\",\n",
    "\"cscRechitClusterTimeWeighted\",\n",
    "\"cscRechitClusterTimeSpreadWeightedAll\",\n",
    "\"cscRechitClusterTime\",\n",
    "\"cscRechitClusterTimeSpread\",\n",
    "\"cscRechitClusternXY\",\n",
    "\"cscRechitClusternZ\",\n",
    "\"cscRechitClusterXSpread\",\n",
    "\"cscRechitClusterYSpread\",\n",
    "\"cscRechitClusterZSpread\",\n",
    "\"cscRechitClusterXYSpread\",\n",
    "\"cscRechitClusterRSpread\",\n",
    "\"cscRechitClusterEtaPhiSpread\",\n",
    "\"cscRechitClusterEtaSpread\",\n",
    "\"cscRechitClusterPhiSpread\",\n",
    "\"cscRechitClusterDeltaRSpread\",\n",
    "\"cscRechitClusterMajorAxis\",\n",
    "\"cscRechitClusterMinorAxis\",\n",
    "\"cscRechitClusterSkewX\",\n",
    "\"cscRechitClusterSkewY\",\n",
    "\"cscRechitClusterSkewZ\",\n",
    "\"cscRechitClusterKurtX\",\n",
    "\"cscRechitClusterKurtY\",\n",
    "\"cscRechitClusterKurtZ\",\n",
    "\"cscRechitClusterPhi\",\n",
    "\"cscRechitClusterEta\",\n",
    "\"cscRechitClusterJetVetoPt\",\n",
    "\"cscRechitClusterJetVetoLooseId\",\n",
    "\"cscRechitClusterJetVetoTightId\",\n",
    "\"cscRechitClusterJetVetoE\",\n",
    "\"cscRechitClusterMuonVetoPt\",\n",
    "\"cscRechitClusterMuonVetoE\",\n",
    "\"cscRechitClusterMuonVetoLooseId\",\n",
    "\"cscRechitClusterMuonVetoGlobal\",\n",
    "\"cscRechitCluster_match_dtSeg_0p4\",\n",
    "\"cscRechitCluster_match_MB1Seg_0p4\",\n",
    "\"cscRechitCluster_match_RE12_0p4\",\n",
    "\"cscRechitCluster_match_RB1_0p4\",\n",
    "\"cscRechitClusterSize\",\n",
    "\"cscRechitClusterNStation10\",\n",
    "\"cscRechitClusterAvgStation10\",\n",
    "\"cscRechitClusterMaxStation\",\n",
    "\"cscRechitClusterMaxStationRatio\",\n",
    "\"cscRechitClusterNChamber\",\n",
    "\"cscRechitClusterMaxChamber\",\n",
    "\"cscRechitClusterMaxChamberRatio\",\n",
    "\"cscRechitClusterNRechitChamberPlus11\",\n",
    "\"cscRechitClusterNRechitChamberPlus12\",\n",
    "\"cscRechitClusterNRechitChamberPlus13\",\n",
    "\"cscRechitClusterNRechitChamberPlus21\",\n",
    "\"cscRechitClusterNRechitChamberPlus22\",\n",
    "\"cscRechitClusterNRechitChamberPlus31\",\n",
    "\"cscRechitClusterNRechitChamberPlus32\",\n",
    "\"cscRechitClusterNRechitChamberPlus41\",\n",
    "\"cscRechitClusterNRechitChamberPlus42\",\n",
    "\"cscRechitClusterNRechitChamberMinus11\",\n",
    "\"cscRechitClusterNRechitChamberMinus12\",\n",
    "\"cscRechitClusterNRechitChamberMinus13\",\n",
    "\"cscRechitClusterNRechitChamberMinus21\",\n",
    "\"cscRechitClusterNRechitChamberMinus22\",\n",
    "\"cscRechitClusterNRechitChamberMinus31\",\n",
    "\"cscRechitClusterNRechitChamberMinus32\",\n",
    "\"cscRechitClusterNRechitChamberMinus41\",\n",
    "\"cscRechitClusterNRechitChamberMinus42\",\n",
    "\"cscRechitClusterMet_dPhi\",\n",
    "]\n",
    "print(branches_to_read)\n",
    "\n"
   ]
  },
  {
   "cell_type": "code",
   "execution_count": 6,
   "metadata": {},
   "outputs": [
    {
     "name": "stdout",
     "output_type": "stream",
     "text": [
      "['weight', 'evtNum', 'nCscRechitClusters', 'cscRechitCluster_match_gLLP', 'cscRechitCluster_match_gLLP_minDeltaR', 'cscRechitCluster_match_gLLP_index', 'cscRechitCluster_match_gLLP_eta', 'cscRechitCluster_match_gLLP_phi', 'cscRechitCluster_match_gLLP_decay_r', 'cscRechitCluster_match_gLLP_decay_z', 'cscRechitCluster_match_gLLP_csc', 'cscRechitCluster_match_gLLP_dt', 'cscRechitCluster_match_gLLP_e', 'cscRechitClusterX', 'cscRechitClusterY', 'cscRechitClusterZ', 'cscRechitClusterTimeWeighted', 'cscRechitClusterTimeSpreadWeightedAll', 'cscRechitClusterTime', 'cscRechitClusterTimeSpread', 'cscRechitClusternXY', 'cscRechitClusternZ', 'cscRechitClusterXSpread', 'cscRechitClusterYSpread', 'cscRechitClusterZSpread', 'cscRechitClusterXYSpread', 'cscRechitClusterRSpread', 'cscRechitClusterEtaPhiSpread', 'cscRechitClusterEtaSpread', 'cscRechitClusterPhiSpread', 'cscRechitClusterDeltaRSpread', 'cscRechitClusterMajorAxis', 'cscRechitClusterMinorAxis', 'cscRechitClusterSkewX', 'cscRechitClusterSkewY', 'cscRechitClusterSkewZ', 'cscRechitClusterKurtX', 'cscRechitClusterKurtY', 'cscRechitClusterKurtZ', 'cscRechitClusterPhi', 'cscRechitClusterEta', 'cscRechitClusterJetVetoPt', 'cscRechitClusterJetVetoLooseId', 'cscRechitClusterJetVetoTightId', 'cscRechitClusterJetVetoE', 'cscRechitClusterMuonVetoPt', 'cscRechitClusterMuonVetoE', 'cscRechitClusterMuonVetoLooseId', 'cscRechitClusterMuonVetoGlobal', 'cscRechitCluster_match_dtSeg_0p4', 'cscRechitCluster_match_MB1Seg_0p4', 'cscRechitCluster_match_RE12_0p4', 'cscRechitCluster_match_RB1_0p4', 'cscRechitClusterSize', 'cscRechitClusterNStation10', 'cscRechitClusterAvgStation10', 'cscRechitClusterMaxStation', 'cscRechitClusterMaxStationRatio', 'cscRechitClusterNChamber', 'cscRechitClusterMaxChamber', 'cscRechitClusterMaxChamberRatio', 'cscRechitClusterNRechitChamberPlus11', 'cscRechitClusterNRechitChamberPlus12', 'cscRechitClusterNRechitChamberPlus13', 'cscRechitClusterNRechitChamberPlus21', 'cscRechitClusterNRechitChamberPlus22', 'cscRechitClusterNRechitChamberPlus31', 'cscRechitClusterNRechitChamberPlus32', 'cscRechitClusterNRechitChamberPlus41', 'cscRechitClusterNRechitChamberPlus42', 'cscRechitClusterNRechitChamberMinus11', 'cscRechitClusterNRechitChamberMinus12', 'cscRechitClusterNRechitChamberMinus13', 'cscRechitClusterNRechitChamberMinus21', 'cscRechitClusterNRechitChamberMinus22', 'cscRechitClusterNRechitChamberMinus31', 'cscRechitClusterNRechitChamberMinus32', 'cscRechitClusterNRechitChamberMinus41', 'cscRechitClusterNRechitChamberMinus42', 'cscRechitClusterMet_dPhi', 'cscClusteredRechitsEta', 'cscClusteredRechitsIndex', 'cscClusteredRechitsEta', 'cscClusteredRechitsPhi', 'cscClusteredRechitsX', 'cscClusteredRechitsY', 'cscClusteredRechitsZ', 'cscClusteredRechitsTpeak', 'cscClusteredRechitsTwire', 'cscClusteredRechitsChamber', 'cscClusteredRechitsStation', 'cscClusteredRechitsIndex']\n"
     ]
    }
   ],
   "source": [
    "branches_rechits = [\n",
    "\"cscClusteredRechitsEta\",\n",
    "\"cscClusteredRechitsPhi\",\n",
    "\"cscClusteredRechitsX\",\n",
    "\"cscClusteredRechitsY\",\n",
    "\"cscClusteredRechitsZ\",\n",
    "\"cscClusteredRechitsTpeak\",\n",
    "\"cscClusteredRechitsTwire\",\n",
    "\"cscClusteredRechitsChamber\",\n",
    "\"cscClusteredRechitsStation\",\n",
    "\"cscClusteredRechitsIndex\",\n",
    "]\n",
    "\n",
    "branches_to_read += branches_rechits\n",
    "\n",
    "default_values_rechits ={}\n",
    "default_values_rechits[\"cscClusteredRechitsIndex\"] = -1\n",
    "default_values_rechits[\"cscClusteredRechitsEta\"] = -999.\n",
    "default_values_rechits[\"cscClusteredRechitsPhi\"] = -999.\n",
    "default_values_rechits[\"cscClusteredRechitsX\"] = -999.\n",
    "default_values_rechits[\"cscClusteredRechitsY\"] = -999.\n",
    "default_values_rechits[\"cscClusteredRechitsZ\"] = -999.\n",
    "default_values_rechits[\"cscClusteredRechitsTpeak\"] = -999.\n",
    "default_values_rechits[\"cscClusteredRechitsTwire\"] = -999.\n",
    "default_values_rechits[\"cscClusteredRechitsChamber\"] = -999\n",
    "default_values_rechits[\"cscClusteredRechitsStation\"] = -999\n",
    "print(branches_to_read)\n",
    "\n"
   ]
  },
  {
   "cell_type": "markdown",
   "metadata": {},
   "source": [
    "## Signal"
   ]
  },
  {
   "cell_type": "code",
   "execution_count": 7,
   "metadata": {},
   "outputs": [
    {
     "name": "stdout",
     "output_type": "stream",
     "text": [
      "converting the following root files and trees\n",
      "/afs/desy.de/user/l/lbenato/cms-lpc-llp_analyzer/CMSSW_10_6_32/src/run3_llp_analyzer/MuonSystem_Tree.root:MuonSystem\n",
      "start loading\n",
      "converted trees to awkward array\n",
      "found 2812 events\n",
      "None\n",
      "None\n",
      "None\n",
      "None\n"
     ]
    }
   ],
   "source": [
    "#signal \n",
    "#wildcard = \"/nfs/dust/cms/group/cms-llp/muon_system_run3/V1p19/Data2022/v6_Pedro_newDNN/mc.root\"\n",
    "wildcard = \"/afs/desy.de/user/l/lbenato/cms-lpc-llp_analyzer/CMSSW_10_6_32/src/run3_llp_analyzer/MuonSystem_Tree.root\"\n",
    "\n",
    "dataset_signal = Dataset.Dataset(\"signal\")\n",
    "pre_ak_array = dataset_signal.create_ak_array_from_tree(wildcard, \"MuonSystem\", branches_to_read, verbosity=1)\n",
    "\n",
    "\n",
    "print(dataset_signal.ak_array_raw)\n",
    "print(dataset_signal.ak_array_unrolled)\n",
    "print(dataset_signal.np_array_structured)\n",
    "print(dataset_signal.np_array_unstructured)\n",
    "\n",
    "#Filter out events without gen matched CSC clusters\n",
    "#Skip it now because of low stat\n",
    "#ak_array = pre_ak_array[ ak.any(pre_ak_array[\"cscRechitCluster_match_gLLP\"],axis=1)>=1 ]\n",
    "ak_array = pre_ak_array[ pre_ak_array[\"nCscRechitClusters\"]>=2 ]\n",
    "#ak_array\n",
    "#print(ak_array)"
   ]
  },
  {
   "cell_type": "code",
   "execution_count": 8,
   "metadata": {},
   "outputs": [
    {
     "name": "stdout",
     "output_type": "stream",
     "text": [
      "number of events: 42\n",
      "weight -999.0\n",
      "evtNum 108548\n",
      "nCscRechitClusters 2\n",
      "cscRechitCluster_match_gLLP [False, False]\n",
      "cscRechitCluster_match_gLLP_minDeltaR [15, 15]\n",
      "cscRechitCluster_match_gLLP_index [999, 999]\n",
      "cscRechitCluster_match_gLLP_eta [0, 0]\n",
      "cscRechitCluster_match_gLLP_phi [0, 0]\n",
      "cscRechitCluster_match_gLLP_decay_r [-999, -999]\n",
      "cscRechitCluster_match_gLLP_decay_z [-999, -999]\n",
      "cscRechitCluster_match_gLLP_csc [False, False]\n",
      "cscRechitCluster_match_gLLP_dt [False, False]\n",
      "cscRechitCluster_match_gLLP_e [0, 0]\n",
      "cscRechitClusterX [-45.6, -492]\n",
      "cscRechitClusterY [-212, 248]\n",
      "cscRechitClusterZ [609, 822]\n",
      "cscRechitClusterTimeWeighted [0.346, 0.058]\n",
      "cscRechitClusterTimeSpreadWeightedAll [10, 12.9]\n",
      "cscRechitClusterTime [0.564, 0.915]\n",
      "cscRechitClusterTimeSpread [10, 13.1]\n",
      "cscRechitClusternXY [637, 303]\n",
      "cscRechitClusternZ [637, 303]\n",
      "cscRechitClusterXSpread [29, 26.7]\n",
      "cscRechitClusterYSpread [34.3, 26.3]\n",
      "cscRechitClusterZSpread [25.1, 11]\n",
      "cscRechitClusterXYSpread [19.6, 7.16]\n",
      "cscRechitClusterRSpread [37.9, 27.4]\n",
      "cscRechitClusterEtaPhiSpread [0.0313, 0.0215]\n",
      "cscRechitClusterEtaSpread [0.129, 0.044]\n",
      "cscRechitClusterPhiSpread [0.105, 0.0464]\n",
      "cscRechitClusterDeltaRSpread [0.167, 0.064]\n",
      "cscRechitClusterMajorAxis [0.13, 0.0502]\n",
      "cscRechitClusterMinorAxis [0.105, 0.0397]\n",
      "cscRechitClusterSkewX [-76.4, -4.31]\n",
      "cscRechitClusterSkewY [-18.3, 4.08]\n",
      "cscRechitClusterSkewZ [58.6, 11.4]\n",
      "cscRechitClusterKurtX [9.44, -0.65]\n",
      "cscRechitClusterKurtY [0.0669, -0.384]\n",
      "cscRechitClusterKurtZ [7.47, -0.933]\n",
      "cscRechitClusterPhi [-1.78, 2.67]\n",
      "cscRechitClusterEta [1.76, 1.19]\n",
      "cscRechitClusterJetVetoPt [0, 0]\n",
      "cscRechitClusterJetVetoLooseId [False, False]\n",
      "cscRechitClusterJetVetoTightId [False, False]\n",
      "cscRechitClusterJetVetoE [0, 0]\n",
      "cscRechitClusterMuonVetoPt [1.74, 0]\n",
      "cscRechitClusterMuonVetoE [6.68, 0]\n",
      "cscRechitClusterMuonVetoLooseId [True, False]\n",
      "cscRechitClusterMuonVetoGlobal [False, False]\n",
      "cscRechitCluster_match_dtSeg_0p4 [0, 0]\n",
      "cscRechitCluster_match_MB1Seg_0p4 [0, 0]\n",
      "cscRechitCluster_match_RE12_0p4 [0, 0]\n",
      "cscRechitCluster_match_RB1_0p4 [0, 0]\n",
      "cscRechitClusterSize [637, 303]\n",
      "cscRechitClusterNStation10 [1, 1]\n",
      "cscRechitClusterAvgStation10 [1, 2]\n",
      "cscRechitClusterMaxStation [1, 2]\n",
      "cscRechitClusterMaxStationRatio [1, 1]\n",
      "cscRechitClusterNChamber [1964264688, 1964264688]\n",
      "cscRechitClusterMaxChamber [1015, 1015]\n",
      "cscRechitClusterMaxChamberRatio [0.331, 0.696]\n",
      "cscRechitClusterNRechitChamberPlus11 [607, 0]\n",
      "cscRechitClusterNRechitChamberPlus12 [30, 0]\n",
      "cscRechitClusterNRechitChamberPlus13 [0, 0]\n",
      "cscRechitClusterNRechitChamberPlus21 [0, 0]\n",
      "cscRechitClusterNRechitChamberPlus22 [0, 303]\n",
      "cscRechitClusterNRechitChamberPlus31 [0, 0]\n",
      "cscRechitClusterNRechitChamberPlus32 [0, 0]\n",
      "cscRechitClusterNRechitChamberPlus41 [0, 0]\n",
      "cscRechitClusterNRechitChamberPlus42 [0, 0]\n",
      "cscRechitClusterNRechitChamberMinus11 [0, 0]\n",
      "cscRechitClusterNRechitChamberMinus12 [0, 0]\n",
      "cscRechitClusterNRechitChamberMinus13 [0, 0]\n",
      "cscRechitClusterNRechitChamberMinus21 [0, 0]\n",
      "cscRechitClusterNRechitChamberMinus22 [0, 0]\n",
      "cscRechitClusterNRechitChamberMinus31 [0, 0]\n",
      "cscRechitClusterNRechitChamberMinus32 [0, 0]\n",
      "cscRechitClusterNRechitChamberMinus41 [0, 0]\n",
      "cscRechitClusterNRechitChamberMinus42 [0, 0]\n",
      "cscRechitClusterMet_dPhi [0.154, -1.67]\n",
      "cscClusteredRechitsEta [1.29, 1.29, 1.28, 1.28, 1.28, 1.26, ..., 1.9, 1.92, 1.92, 1.91, 1.91, 1.91]\n",
      "cscClusteredRechitsIndex [0, 0, 0, 0, 0, 0, 0, 0, 0, 0, 0, 0, 0, ..., 1, 1, 1, 1, 1, 1, 1, 1, 1, 1, 1, 1]\n",
      "cscClusteredRechitsPhi [2.71, 2.72, 2.71, 2.71, 2.72, 2.72, ..., -1.86, -1.86, -1.85, -1.85, -1.85]\n",
      "cscClusteredRechitsX [-453, -454, -457, -458, -459, -473, ..., -49.6, -49.7, -48.5, -48.5, -48.6]\n",
      "cscClusteredRechitsY [209, 206, 211, 209, 207, 215, 213, ..., -173, -169, -169, -171, -170, -170]\n",
      "cscClusteredRechitsZ [840, 840, 840, 840, 840, 840, 840, 840, ..., 586, 586, 586, 586, 586, 586, 586]\n",
      "cscClusteredRechitsTpeak [11.6, -11.8, 0.644, -44.7, -15, -12.4, ..., -12.1, 34.7, 1.96, -2.44, -1.23]\n",
      "cscClusteredRechitsTwire [-1.74, -1.74, -1.74, -1.74, -1.74, ..., -3.25, -15.8, -3.25, -3.25, -15.8]\n",
      "cscClusteredRechitsChamber [22, 22, 22, 22, 22, 22, 22, 22, 22, ..., 11, 11, 11, 11, 11, 11, 11, 11, 11]\n",
      "cscClusteredRechitsStation [2, 2, 2, 2, 2, 2, 2, 2, 2, 2, 2, 2, 2, ..., 1, 1, 1, 1, 1, 1, 1, 1, 1, 1, 1, 1]\n"
     ]
    }
   ],
   "source": [
    "# check length of array (number of events)\n",
    "print(\"number of events:\", len(ak_array))\n",
    "\n",
    "#check values for keys\n",
    "for k in ak_array[2].fields:\n",
    "    print(k, ak_array[2][k])\n",
    "    \n",
    "#print(ak_array[2])\n",
    "#print(type(dataset_signal))\n",
    "\n",
    "#print(dataset_signal.vectorize_and_pad_raw_array_cluster(ak_array,\"csc\",verbosity=1))\n",
    "dataset_signal.ak_array_raw = ak_array\n",
    "\n"
   ]
  },
  {
   "cell_type": "code",
   "execution_count": null,
   "metadata": {},
   "outputs": [],
   "source": [
    "test_array = dataset_signal.unroll_clusters_vectorize_and_pad_hits(ak_array, \"cscRechitCluster\", \"cscClusteredRechits\", default_values_rechits, max_hits=1000, max_events = -1, verbosity=0)\n"
   ]
  },
  {
   "cell_type": "code",
   "execution_count": null,
   "metadata": {},
   "outputs": [],
   "source": [
    "cols = []\n",
    "for k in test_array[1].fields:\n",
    "    print(k, test_array[1][k])\n",
    "    cols.append(k)"
   ]
  },
  {
   "cell_type": "code",
   "execution_count": null,
   "metadata": {},
   "outputs": [],
   "source": [
    "print(test_array)"
   ]
  },
  {
   "cell_type": "code",
   "execution_count": null,
   "metadata": {},
   "outputs": [],
   "source": [
    "print(\"length of the vectorized array:\", len(test_array))\n",
    "#print(\"length of the unrolled array:\", len(unrolled_array))\n",
    "\n",
    "#print(vectorized_array[0])\n",
    "#print(unrolled_array[0])\n",
    "#print(ak.to_numpy(vectorized_array))\n",
    "#print(ak.to_numpy(unrolled_array))"
   ]
  },
  {
   "cell_type": "code",
   "execution_count": null,
   "metadata": {},
   "outputs": [],
   "source": [
    "# Convert to structured numpy array\n",
    "numpy_array = dataset_signal.convert_ak_to_numpy(test_array)\n",
    "\n",
    "\n",
    "# Save structured numpy array to disk \n",
    "# Here is use a data directory in my beegfs\n",
    "# You will need to change the directory of course!\n",
    "# It is probably a good idea not to store the data in the git directory!\n",
    "# In the end we only want to do the conversion once and then store signal and QCD somewhere we both can access it\n",
    "#dataset_signal.save(\"/beegfs/desy/user/kelmorab/LLP_data/version1_16may2023/signal_structured.h5\", mode=\"structured\")\n"
   ]
  },
  {
   "cell_type": "code",
   "execution_count": null,
   "metadata": {},
   "outputs": [],
   "source": [
    "#print(cols)\n",
    "print(len(cols))\n",
    "#print(ak.num(ak_array,axis=0))\n",
    "#print(vectorized_array[0].fields)\n",
    "#print(vectorized_array[0].values)\n",
    "df = ak.to_dataframe(test_array)\n",
    "print(df)\n",
    "#df = pd.DataFrame(numpy_array,columns=cols)"
   ]
  },
  {
   "cell_type": "code",
   "execution_count": null,
   "metadata": {},
   "outputs": [],
   "source": [
    "#save the pandas dataframe\n",
    "#df.to_hdf('/nfs/dust/cms/user/loewetob/ML_LLP/MDS_regression/datasets/test_bigger_dataset.h5', 'df', format='table' if (len(cols)<=2000) else 'fixed')\n",
    "df.to_hdf('/nfs/dust/cms/user/lbenato/ML_LLP/MDS_regression/datasets/test_rechits.h5', 'df', format='table' if (len(cols)<=2000) else 'fixed')"
   ]
  },
  {
   "cell_type": "code",
   "execution_count": null,
   "metadata": {},
   "outputs": [],
   "source": []
  }
 ],
 "metadata": {
  "kernelspec": {
   "display_name": "mds_regression",
   "language": "python",
   "name": "mds_regression"
  },
  "language_info": {
   "codemirror_mode": {
    "name": "ipython",
    "version": 3
   },
   "file_extension": ".py",
   "mimetype": "text/x-python",
   "name": "python",
   "nbconvert_exporter": "python",
   "pygments_lexer": "ipython3",
   "version": "3.7.12"
  }
 },
 "nbformat": 4,
 "nbformat_minor": 2
}
