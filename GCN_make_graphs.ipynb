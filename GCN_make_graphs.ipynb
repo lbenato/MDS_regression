{
 "cells": [
  {
   "cell_type": "code",
   "execution_count": 1,
   "id": "4dec3df9-1264-43a5-8e70-251130b93b7f",
   "metadata": {},
   "outputs": [
    {
     "name": "stderr",
     "output_type": "stream",
     "text": [
      "2024-02-09 11:27:03.913787: E external/local_xla/xla/stream_executor/cuda/cuda_dnn.cc:9261] Unable to register cuDNN factory: Attempting to register factory for plugin cuDNN when one has already been registered\n",
      "2024-02-09 11:27:03.913873: E external/local_xla/xla/stream_executor/cuda/cuda_fft.cc:607] Unable to register cuFFT factory: Attempting to register factory for plugin cuFFT when one has already been registered\n",
      "2024-02-09 11:27:04.180278: E external/local_xla/xla/stream_executor/cuda/cuda_blas.cc:1515] Unable to register cuBLAS factory: Attempting to register factory for plugin cuBLAS when one has already been registered\n",
      "2024-02-09 11:27:04.766200: I tensorflow/core/platform/cpu_feature_guard.cc:182] This TensorFlow binary is optimized to use available CPU instructions in performance-critical operations.\n",
      "To enable the following instructions: AVX2 AVX512F FMA, in other operations, rebuild TensorFlow with the appropriate compiler flags.\n",
      "2024-02-09 11:27:15.872217: W tensorflow/compiler/tf2tensorrt/utils/py_utils.cc:38] TF-TRT Warning: Could not find TensorRT\n"
     ]
    }
   ],
   "source": [
    "import torch\n",
    "import torch_geometric\n",
    "from torch_geometric.data import Data\n",
    "from torch_cluster import knn_graph\n",
    "from torch_geometric.loader import DataLoader\n",
    "import matplotlib.pyplot as plt\n",
    "import numpy as np\n",
    "\n",
    "from torch.nn import Linear\n",
    "import torch.nn.functional as F\n",
    "from torch_geometric.nn import GCNConv\n",
    "from torch_geometric.nn import global_mean_pool\n",
    "import tensorflow as tf\n",
    "import pandas as pd\n",
    "#from source import Dataset as ds"
   ]
  },
  {
   "cell_type": "code",
   "execution_count": 5,
   "id": "d3e83237-f783-435d-9dff-4efc99ca2ebd",
   "metadata": {},
   "outputs": [],
   "source": [
    "a = torch.Tensor(np.arange(10))\n",
    "b = torch.Tensor(np.arange(10,20))"
   ]
  },
  {
   "cell_type": "code",
   "execution_count": 8,
   "id": "6d73fafe-6042-44d9-93a0-5c3600c815ef",
   "metadata": {},
   "outputs": [],
   "source": [
    "a = torch.reshape(a, (2,5))\n",
    "b = torch.reshape(b, (2,5))"
   ]
  },
  {
   "cell_type": "code",
   "execution_count": 12,
   "id": "029a5167-dc7f-4aa8-ae11-52081786399d",
   "metadata": {},
   "outputs": [
    {
     "data": {
      "text/plain": [
       "tensor([[ 0.,  1.,  2.,  3.,  4., 10., 11., 12., 13., 14.],\n",
       "        [ 5.,  6.,  7.,  8.,  9., 15., 16., 17., 18., 19.]])"
      ]
     },
     "execution_count": 12,
     "metadata": {},
     "output_type": "execute_result"
    }
   ],
   "source": [
    "torch.cat((a,b), dim = 1)"
   ]
  },
  {
   "cell_type": "code",
   "execution_count": 8,
   "id": "4067bb06-a33f-42a8-bf29-7498317fae88",
   "metadata": {},
   "outputs": [],
   "source": [
    "#read data\n",
    "path = '/beegfs/desy/group/unihh2/cms-llp/run3/v10/ggH_HToSSTobbbb_MH-125_MS-15_CTau1000_13p6TeV/dataframes/'\n",
    "alldf = []\n",
    "def process_file(i):\n",
    "    store = pd.HDFStore(path + 'output_' + str(i) + \".h5\")\n",
    "    dfnew = store.select(\"df\",start=0,stop=-1)\n",
    "    store.close()\n",
    "    return dfnew\n"
   ]
  },
  {
   "cell_type": "code",
   "execution_count": 9,
   "id": "48e3c64c-aaab-4f31-ac76-d6b4e96dca1d",
   "metadata": {},
   "outputs": [],
   "source": [
    "frames = [process_file(j) for j in range(10)]"
   ]
  },
  {
   "cell_type": "code",
   "execution_count": 10,
   "id": "0072ca40-ff26-44be-be5a-d1a63e5afac9",
   "metadata": {},
   "outputs": [],
   "source": [
    "branches_rechits = [\n",
    "\"cscClusteredRechitsEta\",\n",
    "\"cscClusteredRechitsPhi\",\n",
    "\"cscClusteredRechitsX\",\n",
    "\"cscClusteredRechitsY\",\n",
    "\"cscClusteredRechitsZ\",\n",
    "\"cscClusteredRechitsTpeak\",\n",
    "\"cscClusteredRechitsTwire\",\n",
    "\"cscClusteredRechitsChamber\",\n",
    "\"cscClusteredRechitsStation\",\n",
    "\"cscClusteredRechitsIndex\",]\n",
    "\n",
    "energy_key = \"cscRechitCluster_match_gLLP_e\""
   ]
  },
  {
   "cell_type": "code",
   "execution_count": 11,
   "id": "2f28fc92-93b0-4d65-a6a8-1049997e76d1",
   "metadata": {},
   "outputs": [
    {
     "name": "stdout",
     "output_type": "stream",
     "text": [
      "Num GPUs available:  2 \n",
      "Cuda available:  True \n",
      "Cuda device count:  2 \n",
      "current device:  0 \n",
      "device info:  <torch.cuda.device object at 0x2b3384f22070> \n",
      "device name:  NVIDIA RTX A6000\n"
     ]
    }
   ],
   "source": [
    "# Check GPU availability\n",
    "\n",
    "print(\"Num GPUs available: \", len(tf.config.list_physical_devices('GPU')), \n",
    "      \"\\nCuda available: \", torch.cuda.is_available(),\n",
    "     \"\\nCuda device count: \", torch.cuda.device_count(),\n",
    "     \"\\ncurrent device: \", torch.cuda.current_device(),\n",
    "     \"\\ndevice info: \", torch.cuda.device(0), \n",
    "      \"\\ndevice name: \", torch.cuda.get_device_name(0))"
   ]
  },
  {
   "cell_type": "code",
   "execution_count": 20,
   "id": "23266b66-e556-4caa-9154-1ec72b6ee75d",
   "metadata": {},
   "outputs": [],
   "source": [
    "# Iterate through all clusters\n",
    "cluster_features = [\"cscRechitClusterX\",\n",
    "                    \"cscRechitClusterY\",\n",
    "                    \"cscRechitClusterZ\",\n",
    "                    \"cscRechitClusterTimeWeighted\",\n",
    "                    \"cscRechitClusterTimeSpreadWeightedAll\",\n",
    "                    \"cscRechitClusterTime\",\n",
    "                    \"cscRechitClusterTimeSpread\",\n",
    "                    \"cscRechitClusternXY\",\n",
    "                    \"cscRechitClusternZ\",\n",
    "                    \"cscRechitClusterXSpread\",\n",
    "                    \"cscRechitClusterYSpread\",\n",
    "                    \"cscRechitClusterZSpread\",\n",
    "                    \"cscRechitClusterXYSpread\",\n",
    "                    \"cscRechitClusterRSpread\",\n",
    "                    \"cscRechitClusterEtaPhiSpread\",\n",
    "                    \"cscRechitClusterEtaSpread\",\n",
    "                    \"cscRechitClusterPhiSpread\",\n",
    "                    \"cscRechitClusterDeltaRSpread\",\n",
    "                    \"cscRechitClusterMajorAxis\",\n",
    "                    \"cscRechitClusterMinorAxis\",\n",
    "                    \"cscRechitClusterSkewX\",\n",
    "                    \"cscRechitClusterSkewY\",\n",
    "                    \"cscRechitClusterSkewZ\",\n",
    "                    \"cscRechitClusterKurtX\",\n",
    "                    \"cscRechitClusterKurtY\",\n",
    "                    \"cscRechitClusterKurtZ\",\n",
    "                    \"cscRechitClusterPhi\",\n",
    "                    \"cscRechitClusterEta\"]\n",
    "\n",
    "def make_graphs(df_signal):\n",
    "    num_edges = 8\n",
    "    node_features = []\n",
    "    graph_features = []\n",
    "    edges = []\n",
    "    label_e = []\n",
    "    for i in range(df_signal.index[-1][0]):\n",
    "        # graph level\n",
    "        graph_level = []\n",
    "        for feature in cluster_features:\n",
    "            graph_level.append(df_signal[feature][i][0])\n",
    "            \n",
    "        # features for edge making\n",
    "        nodes_edge = torch.Tensor(np.transpose([df_signal['cscClusteredRechitsRelEta'][i].to_numpy(),\n",
    "                                                df_signal['cscClusteredRechitsRelPhi'][i].to_numpy()]))\n",
    "        # features for nodes\n",
    "        nodes = torch.Tensor(np.transpose([df_signal['cscClusteredRechitsRelEta'][i].to_numpy(),\n",
    "                                           df_signal['cscClusteredRechitsRelPhi'][i].to_numpy(),\n",
    "                                           df_signal['cscClusteredRechitsRelX'][i].to_numpy(),\n",
    "                                           df_signal['cscClusteredRechitsRelY'][i].to_numpy(),\n",
    "                                           df_signal['cscClusteredRechitsRelZ'][i].to_numpy(),\n",
    "                                           df_signal['cscClusteredRechitsTpeak'][i].to_numpy(),\n",
    "                                           df_signal['cscClusteredRechitsTwire'][i].to_numpy(),\n",
    "                                           df_signal['cscClusteredRechitsStation'][i].to_numpy(),\n",
    "                                           df_signal['cscClusteredRechitsChamber'][i].to_numpy()]))\n",
    "        \n",
    "        graph_features.append(torch.Tensor(graph_level))\n",
    "        node_features.append(nodes)\n",
    "        edges.append(knn_graph(nodes_edge, num_edges))\n",
    "        label_e.append(torch.Tensor([df_signal[energy_key][i][0]]))\n",
    "\n",
    "    print(len(node_features), len(edges), len(label_e), len(graph_features))\n",
    "    graph_data = []\n",
    "    for i in range(len(node_features)):\n",
    "        graph_data.append(Data(x=node_features[i], edge_index=edges[i], u=graph_features[i], y=label_e[i]))\n",
    "    return graph_data"
   ]
  },
  {
   "cell_type": "code",
   "execution_count": 21,
   "id": "b8ec38bb-4a91-445b-a147-b7119ed396d9",
   "metadata": {},
   "outputs": [
    {
     "name": "stdout",
     "output_type": "stream",
     "text": [
      "983 983 983 983\n",
      "967 967 967 967\n",
      "958 958 958 958\n",
      "951 951 951 951\n",
      "936 936 936 936\n",
      "901 901 901 901\n",
      "962 962 962 962\n",
      "1033 1033 1033 1033\n",
      "962 962 962 962\n",
      "933 933 933 933\n"
     ]
    }
   ],
   "source": [
    "# make list of graphs in Data format\n",
    "out_data = []\n",
    "for frame in frames:\n",
    "    out_data.extend(make_graphs(frame))"
   ]
  },
  {
   "cell_type": "code",
   "execution_count": 25,
   "id": "37994fca-9c9e-4fc8-93ba-f4abc7d7bd42",
   "metadata": {},
   "outputs": [],
   "source": [
    "# Save finished graphs here\n",
    "\n",
    "torch.save(out_data, '/beegfs/desy/group/unihh2/cms-llp/run3/v10/ggH_HToSSTobbbb_MH-125_MS-15_CTau1000_13p6TeV/graphs/graphs9k8nn_' + str(1) + '.pt')"
   ]
  },
  {
   "cell_type": "code",
   "execution_count": 28,
   "id": "16e95c05-eb12-4723-8786-9f8c96ef4880",
   "metadata": {},
   "outputs": [],
   "source": [
    "a = out_data[0].u\n",
    "b = out_data[1].u"
   ]
  },
  {
   "cell_type": "code",
   "execution_count": 32,
   "id": "e0e986d7-d8e7-4824-8d8f-b18b1cca65ff",
   "metadata": {},
   "outputs": [
    {
     "data": {
      "text/plain": [
       "tensor([-1.3881e+02,  6.3269e+02, -8.4082e+02,  5.1147e+00,  6.5854e+00,\n",
       "         5.7381e+00,  6.5359e+00,  5.5000e+01,  5.5000e+01,  2.2584e+01,\n",
       "         3.1850e+01,  1.3738e-01,  1.3890e+01,  3.2774e+01,  1.1482e-02,\n",
       "         4.0626e-02,  3.2724e-02,  5.2166e-02,  4.0976e-02,  3.2285e-02,\n",
       "        -2.6505e+00, -1.4029e+01,  6.0668e-02, -1.0588e+00, -1.4606e+00,\n",
       "        -1.4705e+00,  1.7868e+00, -1.0773e+00,  1.6385e+02,  1.6618e+02,\n",
       "         7.3625e+02, -3.3163e+01,  1.2569e+01, -3.4912e+01,  1.2563e+01,\n",
       "         5.7000e+01,  5.7000e+01,  4.5193e+01,  3.1421e+01,  1.5978e+02,\n",
       "         3.4995e+01,  5.2464e+01,  1.8093e-02,  6.8463e-02,  7.0287e-02,\n",
       "         9.8120e-02,  7.1866e-02,  6.6804e-02,  3.0733e+01,  8.6755e+00,\n",
       "         6.1625e+01, -9.3486e-01, -1.1879e+00, -1.4595e+00,  7.9247e-01,\n",
       "         1.8663e+00])"
      ]
     },
     "execution_count": 32,
     "metadata": {},
     "output_type": "execute_result"
    }
   ],
   "source": [
    "c = None\n",
    "torch.cat((a,b), 0)"
   ]
  },
  {
   "cell_type": "code",
   "execution_count": 33,
   "id": "dfe5180a-65a8-4ecb-b43a-ac0823e94b0c",
   "metadata": {},
   "outputs": [
    {
     "data": {
      "text/plain": [
       "tensor([-1.3881e+02,  6.3269e+02, -8.4082e+02,  5.1147e+00,  6.5854e+00,\n",
       "         5.7381e+00,  6.5359e+00,  5.5000e+01,  5.5000e+01,  2.2584e+01,\n",
       "         3.1850e+01,  1.3738e-01,  1.3890e+01,  3.2774e+01,  1.1482e-02,\n",
       "         4.0626e-02,  3.2724e-02,  5.2166e-02,  4.0976e-02,  3.2285e-02,\n",
       "        -2.6505e+00, -1.4029e+01,  6.0668e-02, -1.0588e+00, -1.4606e+00,\n",
       "        -1.4705e+00,  1.7868e+00, -1.0773e+00])"
      ]
     },
     "execution_count": 33,
     "metadata": {},
     "output_type": "execute_result"
    }
   ],
   "source": [
    "a"
   ]
  },
  {
   "cell_type": "code",
   "execution_count": 34,
   "id": "1db9ae5b-5b98-42a5-a0c4-c77890023c74",
   "metadata": {},
   "outputs": [
    {
     "data": {
      "text/plain": [
       "tensor([ 1.6385e+02,  1.6618e+02,  7.3625e+02, -3.3163e+01,  1.2569e+01,\n",
       "        -3.4912e+01,  1.2563e+01,  5.7000e+01,  5.7000e+01,  4.5193e+01,\n",
       "         3.1421e+01,  1.5978e+02,  3.4995e+01,  5.2464e+01,  1.8093e-02,\n",
       "         6.8463e-02,  7.0287e-02,  9.8120e-02,  7.1866e-02,  6.6804e-02,\n",
       "         3.0733e+01,  8.6755e+00,  6.1625e+01, -9.3486e-01, -1.1879e+00,\n",
       "        -1.4595e+00,  7.9247e-01,  1.8663e+00])"
      ]
     },
     "execution_count": 34,
     "metadata": {},
     "output_type": "execute_result"
    }
   ],
   "source": [
    "b"
   ]
  },
  {
   "cell_type": "code",
   "execution_count": null,
   "id": "5849507b-1563-4e06-96a6-858c66add8b1",
   "metadata": {},
   "outputs": [],
   "source": []
  }
 ],
 "metadata": {
  "kernelspec": {
   "display_name": "mds_regression_pyg",
   "language": "python",
   "name": "mds_regression_pyg"
  },
  "language_info": {
   "codemirror_mode": {
    "name": "ipython",
    "version": 3
   },
   "file_extension": ".py",
   "mimetype": "text/x-python",
   "name": "python",
   "nbconvert_exporter": "python",
   "pygments_lexer": "ipython3",
   "version": "3.9.13"
  }
 },
 "nbformat": 4,
 "nbformat_minor": 5
}
